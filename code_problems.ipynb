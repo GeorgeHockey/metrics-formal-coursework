{
 "metadata": {
  "language_info": {
   "codemirror_mode": {
    "name": "ipython",
    "version": 3
   },
   "file_extension": ".py",
   "mimetype": "text/x-python",
   "name": "python",
   "nbconvert_exporter": "python",
   "pygments_lexer": "ipython3",
   "version": "3.7.9-final"
  },
  "orig_nbformat": 2,
  "kernelspec": {
   "name": "python3",
   "display_name": "Python 3.7.9 64-bit ('MFE python': conda)",
   "metadata": {
    "interpreter": {
     "hash": "d2abda032430ffbc656d36de28140b876fb0a600bf8f2bf4c03584f925a462e8"
    }
   }
  }
 },
 "nbformat": 4,
 "nbformat_minor": 2,
 "cells": [
  {
   "cell_type": "code",
   "execution_count": 16,
   "metadata": {},
   "outputs": [],
   "source": [
    "# 3, AR 1 simulation\n",
    "import numpy as np\n",
    "\n",
    "def ar1_simulate(rho, errors, y0):\n",
    "\n",
    "    y = []\n",
    "    y.append(y0)\n",
    "    t = len(errors)\n",
    "    for i in range(1,t):\n",
    "        y.append(y[-1] * rho + errors[i])\n",
    "    \n",
    "    y = np.asarray(y)\n",
    "    print(type(y))\n",
    "    return y\n",
    "\n"
   ]
  },
  {
   "cell_type": "code",
   "execution_count": 36,
   "metadata": {},
   "outputs": [
    {
     "output_type": "execute_result",
     "data": {
      "text/plain": [
       "array([ 1,  2,  3,  4,  5,  6,  7,  8,  9, 10, 11, 12, 13, 14, 15, 16, 17,\n",
       "       18, 19, 20])"
      ]
     },
     "metadata": {},
     "execution_count": 36
    }
   ],
   "source": [
    "errors = np.array([1,2,3,4,5,6,7,8,9,10,11,12,13,14,15,16,17,18,19,20])\n",
    "y0 = 1\n",
    "errors"
   ]
  },
  {
   "cell_type": "code",
   "execution_count": 17,
   "metadata": {},
   "outputs": [
    {
     "output_type": "stream",
     "name": "stdout",
     "text": [
      "<class 'numpy.ndarray'>\n"
     ]
    },
    {
     "output_type": "execute_result",
     "data": {
      "text/plain": [
       "array([1. , 7.9])"
      ]
     },
     "metadata": {},
     "execution_count": 17
    }
   ],
   "source": [
    "\n",
    "\n",
    "ar1_simulate(0.9,errors,y0)"
   ]
  },
  {
   "cell_type": "code",
   "execution_count": 130,
   "metadata": {},
   "outputs": [],
   "source": [
    "# 2 Subsampled RV\n",
    "import pandas as pd\n",
    "def subsampled_rv(rets,k):\n",
    "    n = len(rets)\n",
    "\n",
    "    # k is the block size:\n",
    "    r2 = []\n",
    "    for i in range(k):\n",
    "        r2.append((rets.iloc[i::k] ** 2).sum())\n",
    "    \n",
    "    r2 = pd.Series(r2).sum()\n",
    "    num = n / k\n",
    "    denom = n - k + 1\n",
    "    multiplier = num / denom\n",
    "\n",
    "    rv = multiplier * r2\n",
    "    rv = float(rv)\n",
    "\n",
    "    return rv\n",
    "\n",
    "\n",
    "\n",
    "\n"
   ]
  },
  {
   "cell_type": "code",
   "execution_count": 51,
   "metadata": {},
   "outputs": [],
   "source": [
    "\n",
    "prices = pd.read_csv(\"mfe-formal-work-1-2020-2021.csv.gz\", index_col=\"time\",\n",
    "compression=\"infer\") \n",
    "prices.columns = pd.to_datetime(prices.columns)\n",
    "ln_p = np.log(prices)\n",
    "returns = (prices.diff()/prices).dropna()"
   ]
  },
  {
   "cell_type": "code",
   "execution_count": 131,
   "metadata": {},
   "outputs": [
    {
     "output_type": "execute_result",
     "data": {
      "text/plain": [
       "(5.024909504074747, 1.0, 23400.0, 23400)"
      ]
     },
     "metadata": {},
     "execution_count": 131
    }
   ],
   "source": [
    "subsampled_rv( returns[\"2012-01-03\"]*100,1)"
   ]
  },
  {
   "cell_type": "code",
   "execution_count": 113,
   "metadata": {},
   "outputs": [
    {
     "output_type": "execute_result",
     "data": {
      "text/plain": [
       "23398"
      ]
     },
     "metadata": {},
     "execution_count": 113
    }
   ],
   "source": [
    "len(returns[\"2011-01-03\"]*100) - 1 - 1"
   ]
  },
  {
   "cell_type": "code",
   "execution_count": 128,
   "metadata": {},
   "outputs": [
    {
     "output_type": "execute_result",
     "data": {
      "text/plain": [
       "5.024908264194439"
      ]
     },
     "metadata": {},
     "execution_count": 128
    }
   ],
   "source": [
    "rv[1][\"2012-01-03\"]"
   ]
  },
  {
   "cell_type": "code",
   "execution_count": 107,
   "metadata": {},
   "outputs": [],
   "source": [
    "m = 23400\n",
    "rv = {}\n",
    "\n",
    "samp = [23400, 11700,  7800,  5850,  4680,  3900,  2925,  2600,  2340,\n",
    "        1950,  1800,  1560,  1300,  1170,   975,   936,   900,   780,\n",
    "         650,   600,   585,   520,   468,   450,   390,   360,   325,\n",
    "         312,   300,   260,   234,   225,   200,   195,   180,   156,\n",
    "         150,   130,   120,   117,   104,   100,    90,    78,    75,\n",
    "          72,    65,    60,    52,    50,    45,    40,    39,    36,\n",
    "          30,    26,    25,    24,    20,    18,    15,    13]\n",
    "\n",
    "for i in samp:\n",
    "    step = m // i\n",
    "    _rv = ((ln_p.iloc[::step].diff().dropna()*100)**2).sum()\n",
    "    rv[step] = _rv\n",
    "rv = pd.DataFrame(rv)"
   ]
  },
  {
   "cell_type": "code",
   "execution_count": null,
   "metadata": {},
   "outputs": [],
   "source": []
  },
  {
   "cell_type": "code",
   "execution_count": null,
   "metadata": {},
   "outputs": [],
   "source": []
  }
 ]
}