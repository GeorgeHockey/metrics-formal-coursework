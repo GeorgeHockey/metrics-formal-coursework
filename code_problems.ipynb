{
 "metadata": {
  "language_info": {
   "codemirror_mode": {
    "name": "ipython",
    "version": 3
   },
   "file_extension": ".py",
   "mimetype": "text/x-python",
   "name": "python",
   "nbconvert_exporter": "python",
   "pygments_lexer": "ipython3",
   "version": "3.7.9-final"
  },
  "orig_nbformat": 2,
  "kernelspec": {
   "name": "python3",
   "display_name": "Python 3.7.9 64-bit ('MFE python': conda)",
   "metadata": {
    "interpreter": {
     "hash": "d2abda032430ffbc656d36de28140b876fb0a600bf8f2bf4c03584f925a462e8"
    }
   }
  }
 },
 "nbformat": 4,
 "nbformat_minor": 2,
 "cells": [
  {
   "cell_type": "code",
   "execution_count": 147,
   "metadata": {},
   "outputs": [],
   "source": [
    "# 3, AR 1 simulation\n",
    "import numpy as np\n",
    "\n",
    "def ar1_simulate(rho, errors, y0):\n",
    "\n",
    "    y = []\n",
    "    y.append(y0)\n",
    "    t = len(errors)\n",
    "    for i in range(1,t):\n",
    "        y.append(y[-1] * rho + errors[i-1])\n",
    "    \n",
    "    y = np.asarray(y)\n",
    "  \n",
    "    return y\n",
    "\n"
   ]
  },
  {
   "cell_type": "code",
   "execution_count": 167,
   "metadata": {},
   "outputs": [],
   "source": [
    "# Marie code\n",
    "def ar(rho,errors,y0):\n",
    "    t = errors.shape[0]\n",
    "    y = np.zeros(t)\n",
    "    y[0] = y0\n",
    "\n",
    "    for i in range(1,t):\n",
    "        y[i] = rho*y[i-1] + errors[i-1]\n",
    "    return y\n",
    "\n",
    "\n",
    "def sub_rv(rets,k):\n",
    "    n = rets.shape[0]\n",
    "    total_sum = 0.0\n",
    "    for j in range(0,n-k+1):\n",
    "        inside_sum = 0.0\n",
    "        for i in range(1,k+1):\n",
    "            inside_sum += rets[j + i -1]\n",
    "        total_sum += (inside_sum)**2\n",
    "    rv_ss = ((n/k)/(n-k+1))*total_sum\n",
    "    return rv_ss"
   ]
  },
  {
   "cell_type": "code",
   "execution_count": 153,
   "metadata": {},
   "outputs": [
    {
     "output_type": "execute_result",
     "data": {
      "text/plain": [
       "array([ 1,  2,  3,  4,  5,  6,  7,  8,  9, 10, 11, 12, 13, 14, 15, 16, 17,\n",
       "       18, 19, 20])"
      ]
     },
     "metadata": {},
     "execution_count": 153
    }
   ],
   "source": [
    "errors = np.array([1,2,3,4,5,6,7,8,9,10,11,12,13,14,15,16,17,18,19,20])\n",
    "y0 = 1\n",
    "errors"
   ]
  },
  {
   "cell_type": "code",
   "execution_count": 155,
   "metadata": {},
   "outputs": [
    {
     "output_type": "execute_result",
     "data": {
      "text/plain": [
       "array([  0.        ,   1.        ,   2.9       ,   5.61      ,\n",
       "         9.049     ,  13.1441    ,  17.82969   ,  23.046721  ,\n",
       "        28.7420489 ,  34.86784401,  41.38105961,  48.24295365,\n",
       "        55.41865828,  62.87679245,  70.58911321,  78.53020189,\n",
       "        86.6771817 ,  95.00946353, 103.50851718, 112.15766546])"
      ]
     },
     "metadata": {},
     "execution_count": 155
    }
   ],
   "source": [
    "ar(0.9,errors,0)"
   ]
  },
  {
   "cell_type": "code",
   "execution_count": 156,
   "metadata": {},
   "outputs": [
    {
     "output_type": "execute_result",
     "data": {
      "text/plain": [
       "array([  0.        ,   1.        ,   2.9       ,   5.61      ,\n",
       "         9.049     ,  13.1441    ,  17.82969   ,  23.046721  ,\n",
       "        28.7420489 ,  34.86784401,  41.38105961,  48.24295365,\n",
       "        55.41865828,  62.87679245,  70.58911321,  78.53020189,\n",
       "        86.6771817 ,  95.00946353, 103.50851718, 112.15766546])"
      ]
     },
     "metadata": {},
     "execution_count": 156
    }
   ],
   "source": [
    "ar1_simulate(0.9,errors,0)"
   ]
  },
  {
   "cell_type": "code",
   "execution_count": 158,
   "metadata": {},
   "outputs": [],
   "source": [
    "# 2 Subsampled RV\n",
    "import pandas as pd\n",
    "def subsampled_rv(rets,k):\n",
    "    n = len(rets)\n",
    "\n",
    "    # k is the block size:\n",
    "    r2 = []\n",
    "    for i in range(k):\n",
    "        r2.append((rets.iloc[i::k] ** 2).sum())\n",
    "    \n",
    "    r2 = pd.Series(r2).sum()\n",
    "    num = n / k\n",
    "    denom = n - k + 1\n",
    "    multiplier = num / denom\n",
    "\n",
    "    rv = multiplier * r2\n",
    "    rv = float(rv)\n",
    "\n",
    "    return rv\n",
    "\n",
    "\n",
    "\n",
    "\n"
   ]
  },
  {
   "cell_type": "code",
   "execution_count": 51,
   "metadata": {},
   "outputs": [],
   "source": [
    "\n",
    "prices = pd.read_csv(\"mfe-formal-work-1-2020-2021.csv.gz\", index_col=\"time\",\n",
    "compression=\"infer\") \n",
    "prices.columns = pd.to_datetime(prices.columns)\n",
    "ln_p = np.log(prices)\n",
    "returns = (prices.diff()/prices).dropna()"
   ]
  },
  {
   "cell_type": "code",
   "execution_count": 169,
   "metadata": {},
   "outputs": [
    {
     "output_type": "execute_result",
     "data": {
      "text/plain": [
       "5.024909504074747"
      ]
     },
     "metadata": {},
     "execution_count": 169
    }
   ],
   "source": [
    "subsampled_rv( returns[\"2012-01-03\"]*100,1)"
   ]
  },
  {
   "cell_type": "code",
   "execution_count": 418,
   "metadata": {},
   "outputs": [],
   "source": [
    "r = returns[\"2012-01-03\"] * 100\n",
    "r.index = range(len(r))"
   ]
  },
  {
   "cell_type": "code",
   "execution_count": 168,
   "metadata": {},
   "outputs": [
    {
     "output_type": "execute_result",
     "data": {
      "text/plain": [
       "5.02490950407477"
      ]
     },
     "metadata": {},
     "execution_count": 168
    }
   ],
   "source": [
    "sub_rv( r*100,1)"
   ]
  },
  {
   "cell_type": "code",
   "execution_count": 113,
   "metadata": {},
   "outputs": [
    {
     "output_type": "execute_result",
     "data": {
      "text/plain": [
       "23398"
      ]
     },
     "metadata": {},
     "execution_count": 113
    }
   ],
   "source": [
    "len(returns[\"2011-01-03\"]*100) - 1 - 1"
   ]
  },
  {
   "cell_type": "code",
   "execution_count": 128,
   "metadata": {},
   "outputs": [
    {
     "output_type": "execute_result",
     "data": {
      "text/plain": [
       "5.024908264194439"
      ]
     },
     "metadata": {},
     "execution_count": 128
    }
   ],
   "source": [
    "rv[1][\"2012-01-03\"]"
   ]
  },
  {
   "cell_type": "code",
   "execution_count": 107,
   "metadata": {},
   "outputs": [],
   "source": [
    "m = 23400\n",
    "rv = {}\n",
    "\n",
    "samp = [23400, 11700,  7800,  5850,  4680,  3900,  2925,  2600,  2340,\n",
    "        1950,  1800,  1560,  1300,  1170,   975,   936,   900,   780,\n",
    "         650,   600,   585,   520,   468,   450,   390,   360,   325,\n",
    "         312,   300,   260,   234,   225,   200,   195,   180,   156,\n",
    "         150,   130,   120,   117,   104,   100,    90,    78,    75,\n",
    "          72,    65,    60,    52,    50,    45,    40,    39,    36,\n",
    "          30,    26,    25,    24,    20,    18,    15,    13]\n",
    "\n",
    "for i in samp:\n",
    "    step = m // i\n",
    "    _rv = ((ln_p.iloc[::step].diff().dropna()*100)**2).sum()\n",
    "    rv[step] = _rv\n",
    "rv = pd.DataFrame(rv)"
   ]
  },
  {
   "cell_type": "code",
   "execution_count": 404,
   "metadata": {},
   "outputs": [],
   "source": [
    "def weighted_hs(rets, lam, window, p):\n",
    "    wT = (1 - lam) / (1 - lam ** window)\n",
    "    wT = 1\n",
    "\n",
    "    wt = np.zeros(window)\n",
    "    wt[window-1] = wT\n",
    "\n",
    "\n",
    "    for i in range(window-2,0,-1):\n",
    "        wt[i] = wt[i+1] * lam\n",
    "    \n",
    "    n = rets.shape[0]\n",
    "    var = np.empty(n)\n",
    "    var.fill(np.nan)\n",
    "    save = {}\n",
    "\n",
    "    for i in range(window,n+1):\n",
    "        modeled_rets = rets[i-window:i]\n",
    "        modeled_rets.index = range(window)\n",
    "        modeled_rets = pd.DataFrame([modeled_rets,wt]).T\n",
    "        modeled_rets.columns = [\"rets\",\"weights\"]\n",
    "        modeled_rets = modeled_rets.sort_values(\"rets\")\n",
    "\n",
    "        cutoff = int(window * p)\n",
    "        modeled_rets[\"rets\"][cutoff:] = 0\n",
    "\n",
    "        sums = (modeled_rets[\"rets\"] * modeled_rets[\"weights\"]).sum()\n",
    "\n",
    "        var[i-1] = sums\n",
    "        save[i] = modeled_rets\n",
    "    \n",
    "    var = pd.Series(var)\n",
    "\n",
    "    return  var\n",
    "\n",
    "\n",
    "\n",
    "    \n",
    "    \n",
    "\n",
    "\n",
    "\n"
   ]
  },
  {
   "cell_type": "code",
   "execution_count": 412,
   "metadata": {},
   "outputs": [],
   "source": [
    "r = r[:1000]"
   ]
  },
  {
   "cell_type": "code",
   "execution_count": 417,
   "metadata": {},
   "outputs": [],
   "source": [
    "w = 252\n",
    "l = 0.9\n",
    "\n",
    "a = weighted_hs(r,0.975,50,0.001)\n"
   ]
  },
  {
   "cell_type": "code",
   "execution_count": 416,
   "metadata": {},
   "outputs": [
    {
     "output_type": "execute_result",
     "data": {
      "text/plain": [
       "0           NaN\n",
       "1           NaN\n",
       "2           NaN\n",
       "3           NaN\n",
       "4           NaN\n",
       "         ...   \n",
       "995   -0.000183\n",
       "996   -0.000178\n",
       "997   -0.000174\n",
       "998   -0.000169\n",
       "999   -0.000165\n",
       "Length: 1000, dtype: float64"
      ]
     },
     "metadata": {},
     "execution_count": 416
    }
   ],
   "source": [
    "a"
   ]
  },
  {
   "cell_type": "code",
   "execution_count": 391,
   "metadata": {},
   "outputs": [
    {
     "output_type": "execute_result",
     "data": {
      "text/plain": [
       "array([   nan,    nan,    nan,    nan, 12.488, 15.927, 19.366, 22.805,\n",
       "       26.244, 27.683, 27.322, 25.341, 21.902, 18.463, 17.024, 18.385,\n",
       "       18.266, 16.815, 46.853, 40.575])"
      ]
     },
     "metadata": {},
     "execution_count": 391
    }
   ],
   "source": [
    "b"
   ]
  },
  {
   "cell_type": "code",
   "execution_count": 406,
   "metadata": {},
   "outputs": [
    {
     "output_type": "execute_result",
     "data": {
      "text/plain": [
       "(20,)"
      ]
     },
     "metadata": {},
     "execution_count": 406
    }
   ],
   "source": [
    "r = pd.Series([1,1,1,1,1,1,1,1,1,1,1,1,1,1,1,1,1,1,1,1])\n",
    "r = pd.Series([1,2,3,4,5,6,7,8,9,8,7,6,5,4,5,7,5,3,35,3])\n",
    "r.shape"
   ]
  }
 ]
}