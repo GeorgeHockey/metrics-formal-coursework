{
 "metadata": {
  "language_info": {
   "codemirror_mode": {
    "name": "ipython",
    "version": 3
   },
   "file_extension": ".py",
   "mimetype": "text/x-python",
   "name": "python",
   "nbconvert_exporter": "python",
   "pygments_lexer": "ipython3",
   "version": "3.7.9-final"
  },
  "orig_nbformat": 2,
  "kernelspec": {
   "name": "python3",
   "display_name": "Python 3.7.9 64-bit ('MFE python': conda)",
   "metadata": {
    "interpreter": {
     "hash": "d2abda032430ffbc656d36de28140b876fb0a600bf8f2bf4c03584f925a462e8"
    }
   }
  }
 },
 "nbformat": 4,
 "nbformat_minor": 2,
 "cells": [
  {
   "source": [
    "# 3, AR 1 simulation\n",
    "import numpy as np\n",
    "\n",
    "def ar1_simulate(rho, errors, y0):\n",
    "\n",
    "    y = []\n",
    "    y.append(y0)\n",
    "    t = len(errors)\n",
    "    for i in range(1,t):\n",
    "        y.append(y[-1] * rho + errors[i-1])\n",
    "    \n",
    "    y = np.asarray(y)\n",
    "  \n",
    "    return y\n",
    "\n"
   ],
   "cell_type": "markdown",
   "metadata": {}
  },
  {
   "cell_type": "code",
   "execution_count": 789,
   "metadata": {},
   "outputs": [],
   "source": [
    "# Marie code\n",
    "def ar(rho,errors,y0):\n",
    "    t = errors.shape[0]\n",
    "    y = np.zeros(t)\n",
    "    y[0] = y0\n",
    "\n",
    "    for i in range(1,t):\n",
    "        y[i] = rho*y[i-1] + errors[i-1]\n",
    "    return y\n",
    "\n",
    "\n",
    "def sub_rv(rets,k):\n",
    "    n = rets.shape[0]\n",
    "    total_sum = 0.0\n",
    "    for j in range(0,n-k+1):\n",
    "        inside_sum = 0.0\n",
    "        for i in range(0,k):\n",
    "            inside_sum += rets[j + i -1]\n",
    "        total_sum += (inside_sum)**2\n",
    "    rv_ss = ((n/k)/(n-k+1))*total_sum\n",
    "    return rv_ss\n",
    "\n",
    "## aish code\n",
    "import pandas as pd\n",
    "import numpy as np\n",
    "\n",
    "\n",
    "def weighted_hs(rets, lam, window, p):\n",
    "        \n",
    "    def single(rets, lam, p):\n",
    "        rets = np.asarray(rets)\n",
    "        t = rets.shape[0]\n",
    "        w = lam * np.arange(t)[::-1] * (1 - lam) / (1 - lam * t)\n",
    "        idx = np.argsort(rets)\n",
    "        cw = np.cumsum(w[idx])\n",
    "        print(cw)\n",
    "        loc = np.amin(np.argwhere(cw > p))\n",
    "        return rets[idx][loc]\n",
    "    \n",
    "    t = rets.shape[0]\n",
    "    out = {}\n",
    "    for i in range(window, t+1):\n",
    "        out[rets.index[i-1]] = single(rets.iloc[i - window : i], lam, p)\n",
    "    out_rets = pd.Series(out)\n",
    "    return -out_rets.reindex(rets.index)\n"
   ]
  },
  {
   "source": [
    "# 2 Subsampled RV\n",
    "import pandas as pd\n",
    "def subsampled_rv(rets,k):\n",
    "    n = len(rets)\n",
    "\n",
    "    # k is the block size:\n",
    "    r2 = []\n",
    "    for i in range(k):\n",
    "        r2.append((rets.iloc[i::k] ** 2).sum())\n",
    "    \n",
    "    r2 = pd.Series(r2).sum()\n",
    "    num = n / k\n",
    "    denom = n - k + 1\n",
    "    multiplier = num / denom\n",
    "\n",
    "    rv = multiplier * r2\n",
    "    rv = float(rv)\n",
    "\n",
    "    return rv\n",
    "\n",
    "\n",
    "\n",
    "\n"
   ],
   "cell_type": "markdown",
   "metadata": {}
  },
  {
   "source": [
    "def weighted_hs(rets, lam, window, p):\n",
    "    wT = (1 - lam) / (1 - lam ** window)\n",
    "\n",
    "    wt = np.zeros(window)\n",
    "    wt[window-1] = wT\n",
    "\n",
    "\n",
    "    for i in range(window-2,0,-1):\n",
    "        wt[i] = wt[i+1] * lam\n",
    "    \n",
    "    n = rets.shape[0]\n",
    "    var = np.empty(n)\n",
    "    var.fill(np.nan)\n",
    "    save = {}\n",
    "\n",
    "    for i in range(window,n):\n",
    "        modeled_rets = rets[i-window:i]\n",
    "        modeled_rets.index = range((window))\n",
    "        modeled_rets = pd.DataFrame([modeled_rets,wt]).T\n",
    "        modeled_rets.columns = [\"rets\",\"weights\"]\n",
    "        modeled_rets = modeled_rets.sort_values(\"rets\")\n",
    "\n",
    "        cutoff = int(window * p) + 1\n",
    "        modeled_rets[\"rets\"][cutoff:] = 0\n",
    "\n",
    "        sums = (modeled_rets[\"rets\"] * modeled_rets[\"weights\"]).sum()\n",
    "\n",
    "        var[i-1] = sums\n",
    "        save[i] = modeled_rets\n",
    "    \n",
    "    var = pd.Series(var)\n",
    "    var.index = rets.index\n",
    "\n",
    "    return var\n",
    "\n",
    "\n",
    "\n",
    "    \n",
    "    \n",
    "\n",
    "\n",
    "\n"
   ],
   "cell_type": "markdown",
   "metadata": {}
  },
  {
   "cell_type": "code",
   "execution_count": 909,
   "metadata": {},
   "outputs": [
    {
     "output_type": "execute_result",
     "data": {
      "text/plain": [
       "array([0., 0.])"
      ]
     },
     "metadata": {},
     "execution_count": 909
    }
   ],
   "source": [
    "np.zeros(2)"
   ]
  },
  {
   "cell_type": "code",
   "execution_count": 1028,
   "metadata": {},
   "outputs": [],
   "source": [
    "### MY CODE\n",
    "\n",
    "import pandas as pd\n",
    "import numpy as np\n",
    "\n",
    "def weighted_hs(rets, lam, window, p):\n",
    "    wT = (1 - lam) / (1 - lam ** window)\n",
    "\n",
    "    wt = np.zeros(window)\n",
    "    wt[window-1] = wT\n",
    "\n",
    "    for t in range(0,window-1):\n",
    "        wt[t] = wT * (lam ** (window - 1 - t))\n",
    "    \n",
    "    n = rets.shape[0]\n",
    "    v = np.empty(n)\n",
    "    v.fill(np.nan)\n",
    "\n",
    "    for i in range(window,n+1):\n",
    "        modeled_rets = rets[i-window:i]\n",
    "        modeled_rets.index = range(window)\n",
    "        modeled_rets = pd.DataFrame([modeled_rets,wt]).T\n",
    "        modeled_rets.columns = [\"rets\",\"weights\"]\n",
    "        modeled_rets = modeled_rets.sort_values(\"rets\")\n",
    "        modeled_rets[\"weights\"] = modeled_rets[\"weights\"].cumsum()\n",
    "        modeled_rets = np.asarray(modeled_rets)\n",
    "        weights = modeled_rets[:,1]\n",
    "        returns = modeled_rets[:,0]\n",
    "      \n",
    "   \n",
    "\n",
    "        v[i-1] = returns[np.min(np.where(weights > p))]\n",
    "\n",
    "    v = pd.Series(v)\n",
    "    v.index = rets.index\n",
    "\n",
    "    return v\n",
    "\n",
    "# 2 Subsampled RV\n",
    "\n",
    "def subsampled_rv(rets,k):\n",
    "    n = len(rets)\n",
    "\n",
    "    # k is the block size:\n",
    "    r2 = []\n",
    "    for i in range(0,n-k+1):\n",
    "        r2.append((rets.iloc[i:k+i] ).sum() ** 2)\n",
    "    \n",
    "    r2 = pd.Series(r2).sum()\n",
    "    num = n / k\n",
    "    denom = n - k + 1\n",
    "    multiplier = num / denom\n",
    "\n",
    "    rv = multiplier * r2\n",
    "    rv = float(rv)\n",
    "\n",
    "    return rv\n",
    "\n",
    "\n",
    "\n",
    "\n",
    "# 3, AR 1 simulation\n",
    "\n",
    "\n",
    "def ar1_simulate(rho, errors, y0):\n",
    "\n",
    "    y = []\n",
    "    y.append(y0)\n",
    "    t = len(errors)\n",
    "    for i in range(1,t):\n",
    "        y.append(y[-1] * rho + errors[i-1])\n",
    "    \n",
    "    y = np.asarray(y)\n",
    "    return y\n",
    "\n"
   ]
  },
  {
   "cell_type": "code",
   "execution_count": 735,
   "metadata": {},
   "outputs": [],
   "source": [
    "#anthony code 2\n",
    "def subsampled_rv(rets, k):\n",
    "\n",
    "    n = rets.shape[0]\n",
    "    frac = (n/k)/(n-k+1)\n",
    "\n",
    "    innersumsquared = pd.Series([])\n",
    "\n",
    "    for j in range(0, n-k+1):\n",
    "        subsample = rets.iloc[j:j+k]\n",
    "\n",
    "        innersum = subsample.sum(0)\n",
    "        \n",
    "        innersumsquared[j] = innersum**2\n",
    "        \n",
    "    doublesum = innersumsquared.sum(0)    \n",
    "    \n",
    "    rv = frac * doublesum\n",
    "\n",
    "    return rv"
   ]
  },
  {
   "cell_type": "code",
   "execution_count": 1015,
   "metadata": {},
   "outputs": [
    {
     "output_type": "execute_result",
     "data": {
      "text/plain": [
       "array([[562.33001709,   0.66666667],\n",
       "       [571.40002441,   1.        ]])"
      ]
     },
     "metadata": {},
     "execution_count": 1015
    }
   ],
   "source": [
    "import pandas_datareader as pdr\n",
    "a = pdr.get_data_yahoo('AMZN',\"2016-03-17\",\"2021-03-16\")['High']\n",
    "\n",
    "\n",
    "weighted_hs(a, lam=0.5, window=2, p=0.05)"
   ]
  },
  {
   "cell_type": "code",
   "execution_count": 1029,
   "metadata": {},
   "outputs": [
    {
     "output_type": "execute_result",
     "data": {
      "text/plain": [
       "2020-01-01         NaN\n",
       "2020-01-02         NaN\n",
       "2020-01-03         NaN\n",
       "2020-01-04         NaN\n",
       "2020-01-05         NaN\n",
       "                ...   \n",
       "2021-05-10    1.814694\n",
       "2021-05-11    1.814694\n",
       "2021-05-12    1.814694\n",
       "2021-05-13    1.814694\n",
       "2021-05-14    1.814694\n",
       "Freq: D, Length: 500, dtype: float64"
      ]
     },
     "metadata": {},
     "execution_count": 1029
    }
   ],
   "source": [
    "rg = np.random.default_rng(38218301830131)\n",
    "index = pd.bdate_range(\"2020-01-01\", periods=500, freq=\"D\")\n",
    "rets = pd.Series(rg.standard_normal(500), index=index)\n",
    "lam = 0.9\n",
    "window = 120\n",
    "p = 0.95\n",
    "weighted_hs(rets, lam=0.95, window=30, p=0.95)"
   ]
  },
  {
   "cell_type": "code",
   "execution_count": 990,
   "metadata": {},
   "outputs": [
    {
     "output_type": "execute_result",
     "data": {
      "text/plain": [
       "185.59655833333335"
      ]
     },
     "metadata": {},
     "execution_count": 990
    }
   ],
   "source": [
    "testreturns = np.array([1.1, 0.2, 0.03, -0.4, 3, 3, 3, 3, 3, 3, 5, 4, -1])\n",
    "testreturns = pd.Series(testreturns)\n",
    "\n",
    "subsampled_rv(testreturns, 2)"
   ]
  },
  {
   "cell_type": "code",
   "execution_count": 991,
   "metadata": {},
   "outputs": [
    {
     "output_type": "execute_result",
     "data": {
      "text/plain": [
       "array([ 1.        ,  1.9       ,  3.71      ,  4.339     ,  4.9051    ,\n",
       "        9.41459   , 12.473131  , 17.2258179 , 22.50323611, 22.2529125 ])"
      ]
     },
     "metadata": {},
     "execution_count": 991
    }
   ],
   "source": [
    "a = pd.Series([1,2,1,1,5,4,6,7,2,3])\n",
    "\n",
    "\n",
    "ar1_simulate(0.9, a, 1)"
   ]
  }
 ]
}