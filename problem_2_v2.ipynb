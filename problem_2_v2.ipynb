{
 "metadata": {
  "language_info": {
   "codemirror_mode": {
    "name": "ipython",
    "version": 3
   },
   "file_extension": ".py",
   "mimetype": "text/x-python",
   "name": "python",
   "nbconvert_exporter": "python",
   "pygments_lexer": "ipython3",
   "version": "3.9.0-final"
  },
  "orig_nbformat": 2,
  "kernelspec": {
   "name": "python3",
   "display_name": "Python 3.9.0 64-bit",
   "metadata": {
    "interpreter": {
     "hash": "7812ea015bdcee6f23a998adcdd2ef97c151c0c241b7b7070987d9313e41299d"
    }
   }
  }
 },
 "nbformat": 4,
 "nbformat_minor": 2,
 "cells": [
  {
   "cell_type": "code",
   "execution_count": 189,
   "metadata": {},
   "outputs": [],
   "source": [
    "import pandas as pd\n",
    "import numpy as np\n",
    "from statsmodels.tsa.ar_model import AutoReg\n",
    "import matplotlib.pyplot as plt\n",
    "import seaborn as sns\n",
    "%matplotlib inline\n",
    "from scipy.stats import norm\n",
    "import statsmodels.api as sm\n",
    "from arch.unitroot import ADF\n",
    "from statsmodels.discrete.discrete_model import Probit"
   ]
  },
  {
   "cell_type": "code",
   "execution_count": 95,
   "metadata": {},
   "outputs": [],
   "source": []
  },
  {
   "cell_type": "code",
   "execution_count": 79,
   "metadata": {},
   "outputs": [],
   "source": [
    "DEFAULT_FIGSIZE = (48,18)\n",
    "plt.rc(\"figure\", figsize=DEFAULT_FIGSIZE)\n",
    "plt.rc(\"font\", size=48)\n",
    "\n",
    "def plot(s, y=DEFAULT_FIGSIZE):\n",
    "    #figsize(y=y)\n",
    "    fig, ax = plt.subplots(1, 1)\n",
    "    if isinstance(s, pd.Series):\n",
    "        s.plot(ax=ax, legend=False, color=[\"orange\"])\n",
    "    else:\n",
    "        s.plot(ax=ax, legend=False)\n",
    "        fig.legend(frameon=False)\n",
    "    \n",
    "    ax.set_xlabel(None)\n",
    "    ax.set_xlim(s.index[0], s.index[-1]) #s.index[0]\n",
    "    sns.despine()\n",
    "    fig.tight_layout(pad=1.0)\n",
    "    #figsize()"
   ]
  },
  {
   "cell_type": "code",
   "execution_count": 40,
   "metadata": {},
   "outputs": [],
   "source": [
    "## is a questionable decision to use dm: essentially stating forecast only lost if it lost really really badly\n",
    "\n",
    "def diebold_mariano(loss_a, loss_b, nw_bandwidth,cv):\n",
    "    delta = loss_a - loss_b\n",
    "    mod = sm.OLS(delta, np.ones_like(delta))\n",
    "    dm_res = mod.fit(cov_type=\"HAC\", cov_kwds={\"maxlags\":int(nw_bandwidth)})\n",
    "    av_diff = delta.mean()\n",
    "    a  = dm_res.bse[0]\n",
    "    dm_stat = float(av_diff / a)  \n",
    "\n",
    "    #cv = norm.ppf(0.975)\n",
    "\n",
    "    if dm_stat < (cv * -1):\n",
    "        concl = 1\n",
    "    else:\n",
    "        concl = 0\n",
    "\n",
    "\n",
    "    return concl"
   ]
  },
  {
   "source": [
    "QUESTION 1\n",
    "--"
   ],
   "cell_type": "markdown",
   "metadata": {}
  },
  {
   "cell_type": "code",
   "execution_count": 438,
   "metadata": {},
   "outputs": [
    {
     "output_type": "stream",
     "name": "stdout",
     "text": [
      "0.9\n",
      "0.91\n",
      "0.92\n",
      "0.93\n",
      "0.94\n",
      "0.95\n",
      "0.96\n",
      "0.97\n",
      "0.98\n",
      "0.99\n"
     ]
    }
   ],
   "source": [
    "# Simulate some data\n",
    "# run time ~ 1 minute\n",
    "\n",
    "# True simulated data ## Sample size 100\n",
    "rg = np.random.RandomState(100)\n",
    "\n",
    "r = [0.90, 0.91, 0.92, 0.93, 0.94, 0.95, 0.96, 0.97, 0.98, 0.99]\n",
    "runs = 1000\n",
    "true_100 = {}\n",
    "size = 100\n",
    "nw = size ** (1/3)\n",
    "cv = norm.ppf(0.95)\n",
    "theta_100 = []\n",
    "dm_100 = []\n",
    "\n",
    "for rho in r:\n",
    "    print(rho)\n",
    "    for run in range(runs):\n",
    "        start = rg.normal(0,1/(1-(rho**2)))\n",
    "        run_holder = []\n",
    "        run_holder.append(start)\n",
    "\n",
    "        for i in range(1,size):\n",
    "            shock = rg.standard_normal()\n",
    "            last_val = run_holder[-1]\n",
    "            new_val = last_val * rho + shock\n",
    "            run_holder.append(new_val)\n",
    "\n",
    "        y = np.asarray(run_holder)\n",
    "\n",
    "        # Fit using first half, tau//2\n",
    "        mod = AutoReg(y[:size//2], lags=1, trend=\"c\", old_names=False)\n",
    "        res = mod.fit()\n",
    "\n",
    "        # Full-sample model\n",
    "        oos_mod = AutoReg(y, lags=1, trend=\"c\", old_names=False)\n",
    "\n",
    "        # One-step predictions\n",
    "        oos_1step = oos_mod.predict(res.params)\n",
    "\n",
    "        # OOS Random Walk predictions\n",
    "        oos_rw = oos_mod.predict([0, 1])\n",
    "\n",
    "        # Get second half of both\n",
    "        # Use -tau//2: to get second half\n",
    "        oos_1step = oos_1step[-size//2:]\n",
    "        oos_rw = oos_rw[-size//2:]\n",
    "\n",
    "        # Calculate the losses\n",
    "        loss_1step = (oos_1step - y[-size//2:]) ** 2\n",
    "        loss_rw = (oos_rw - y[-size//2:]) ** 2\n",
    "\n",
    "        evaluation = (loss_1step - loss_rw).sum()\n",
    "\n",
    "        if evaluation > 0:\n",
    "            mark = 1\n",
    "        else:\n",
    "            mark = 0\n",
    "        dm_100.append(mark)\n",
    "\n",
    "        # Append the estimated thetas and the DM results into lists\n",
    "        theta_100.append(res.params[1])\n",
    "\n",
    "        #dm_100.append(diebold_mariano( loss_rw, loss_1step, nw, cv))\n"
   ]
  },
  {
   "cell_type": "code",
   "execution_count": 439,
   "metadata": {},
   "outputs": [
    {
     "output_type": "execute_result",
     "data": {
      "text/plain": [
       "<class 'statsmodels.iolib.summary.Summary'>\n",
       "\"\"\"\n",
       "                            OLS Regression Results                            \n",
       "==============================================================================\n",
       "Dep. Variable:                      y   R-squared:                       0.041\n",
       "Model:                            OLS   Adj. R-squared:                  0.040\n",
       "Method:                 Least Squares   F-statistic:                     422.1\n",
       "Date:                Fri, 12 Mar 2021   Prob (F-statistic):           6.75e-92\n",
       "Time:                        09:32:45   Log-Likelihood:                -7030.7\n",
       "No. Observations:               10000   AIC:                         1.407e+04\n",
       "Df Residuals:                    9998   BIC:                         1.408e+04\n",
       "Df Model:                           1                                         \n",
       "Covariance Type:            nonrobust                                         \n",
       "==============================================================================\n",
       "                 coef    std err          t      P>|t|      [0.025      0.975]\n",
       "------------------------------------------------------------------------------\n",
       "const          1.5674      0.051     30.955      0.000       1.468       1.667\n",
       "x1            -1.1700      0.057    -20.544      0.000      -1.282      -1.058\n",
       "==============================================================================\n",
       "Omnibus:                    37825.818   Durbin-Watson:                   1.868\n",
       "Prob(Omnibus):                  0.000   Jarque-Bera (JB):             1442.439\n",
       "Skew:                          -0.082   Prob(JB):                         0.00\n",
       "Kurtosis:                       1.147   Cond. No.                         20.8\n",
       "==============================================================================\n",
       "\n",
       "Notes:\n",
       "[1] Standard Errors assume that the covariance matrix of the errors is correctly specified.\n",
       "\"\"\""
      ],
      "text/html": "<table class=\"simpletable\">\n<caption>OLS Regression Results</caption>\n<tr>\n  <th>Dep. Variable:</th>            <td>y</td>        <th>  R-squared:         </th> <td>   0.041</td> \n</tr>\n<tr>\n  <th>Model:</th>                   <td>OLS</td>       <th>  Adj. R-squared:    </th> <td>   0.040</td> \n</tr>\n<tr>\n  <th>Method:</th>             <td>Least Squares</td>  <th>  F-statistic:       </th> <td>   422.1</td> \n</tr>\n<tr>\n  <th>Date:</th>             <td>Fri, 12 Mar 2021</td> <th>  Prob (F-statistic):</th> <td>6.75e-92</td> \n</tr>\n<tr>\n  <th>Time:</th>                 <td>09:32:45</td>     <th>  Log-Likelihood:    </th> <td> -7030.7</td> \n</tr>\n<tr>\n  <th>No. Observations:</th>      <td> 10000</td>      <th>  AIC:               </th> <td>1.407e+04</td>\n</tr>\n<tr>\n  <th>Df Residuals:</th>          <td>  9998</td>      <th>  BIC:               </th> <td>1.408e+04</td>\n</tr>\n<tr>\n  <th>Df Model:</th>              <td>     1</td>      <th>                     </th>     <td> </td>    \n</tr>\n<tr>\n  <th>Covariance Type:</th>      <td>nonrobust</td>    <th>                     </th>     <td> </td>    \n</tr>\n</table>\n<table class=\"simpletable\">\n<tr>\n    <td></td>       <th>coef</th>     <th>std err</th>      <th>t</th>      <th>P>|t|</th>  <th>[0.025</th>    <th>0.975]</th>  \n</tr>\n<tr>\n  <th>const</th> <td>    1.5674</td> <td>    0.051</td> <td>   30.955</td> <td> 0.000</td> <td>    1.468</td> <td>    1.667</td>\n</tr>\n<tr>\n  <th>x1</th>    <td>   -1.1700</td> <td>    0.057</td> <td>  -20.544</td> <td> 0.000</td> <td>   -1.282</td> <td>   -1.058</td>\n</tr>\n</table>\n<table class=\"simpletable\">\n<tr>\n  <th>Omnibus:</th>       <td>37825.818</td> <th>  Durbin-Watson:     </th> <td>   1.868</td>\n</tr>\n<tr>\n  <th>Prob(Omnibus):</th>  <td> 0.000</td>   <th>  Jarque-Bera (JB):  </th> <td>1442.439</td>\n</tr>\n<tr>\n  <th>Skew:</th>           <td>-0.082</td>   <th>  Prob(JB):          </th> <td>    0.00</td>\n</tr>\n<tr>\n  <th>Kurtosis:</th>       <td> 1.147</td>   <th>  Cond. No.          </th> <td>    20.8</td>\n</tr>\n</table><br/><br/>Notes:<br/>[1] Standard Errors assume that the covariance matrix of the errors is correctly specified."
     },
     "metadata": {},
     "execution_count": 439
    }
   ],
   "source": [
    "# 1. SIMPLE OLS APPROACH\n",
    "\n",
    "dm_100 = np.asarray(dm_100)\n",
    "theta_100 = np.asarray(theta_100)\n",
    "# x = np.asarray(pd.DataFrame([theta_100,(theta_100)**2]).T) ### can be used to get a non-linear relationship?\n",
    "res = sm.OLS(dm_100, sm.add_constant(theta_100)).fit()\n",
    "res.summary()"
   ]
  },
  {
   "cell_type": "code",
   "execution_count": 428,
   "metadata": {},
   "outputs": [
    {
     "output_type": "execute_result",
     "data": {
      "text/plain": [
       "0.5505713975954748"
      ]
     },
     "metadata": {},
     "execution_count": 428
    }
   ],
   "source": [
    "# simple linear transformation of the model: at what estimated value of theta does the rw perform better on average\n",
    "# Does not match with the estimated data!!!\n",
    "(0.5 - res.params[0]) / res.params[1]"
   ]
  },
  {
   "cell_type": "code",
   "execution_count": null,
   "metadata": {},
   "outputs": [],
   "source": []
  },
  {
   "cell_type": "code",
   "execution_count": 429,
   "metadata": {},
   "outputs": [],
   "source": [
    "## 2. BRUTE FORCE APPROACH: probably not the correct analysis but a good check\n",
    "\n",
    "td = pd.DataFrame([theta_100,dm_100]).T\n",
    "td.columns = [\"Theta^\", \"DM res\"]\n",
    "td = td.sort_values(\"Theta^\")\n",
    "td.index = range(runs*10)"
   ]
  },
  {
   "cell_type": "code",
   "execution_count": 430,
   "metadata": {},
   "outputs": [],
   "source": [
    "sampled_theta = []\n",
    "sampled_dm = []\n",
    "\n",
    "for i in range(int(runs/10)):\n",
    "    start = i * 100\n",
    "    end = (i + 1) * 100\n",
    "    sampled_theta.append(td[\"Theta^\"][start:end].mean())\n",
    "    sampled_dm.append(td[\"DM res\"][start:end].mean())\n",
    "\n",
    "sampled_theta = np.asarray(sampled_theta)\n",
    "sampled_dm = np.asarray(sampled_dm)"
   ]
  },
  {
   "cell_type": "code",
   "execution_count": 431,
   "metadata": {},
   "outputs": [
    {
     "output_type": "execute_result",
     "data": {
      "text/plain": [
       "      Theta^  DM res\n",
       "80  0.957014    0.12\n",
       "81  0.958990    0.11\n",
       "82  0.960874    0.09\n",
       "83  0.962619    0.13\n",
       "84  0.964517    0.06\n",
       "85  0.966602    0.07\n",
       "86  0.968634    0.06\n",
       "87  0.970460    0.06\n",
       "88  0.972596    0.08\n",
       "89  0.974900    0.03\n",
       "90  0.977067    0.07\n",
       "91  0.979535    0.07\n",
       "92  0.981977    0.05\n",
       "93  0.984530    0.10\n",
       "94  0.987653    0.08\n",
       "95  0.991144    0.06\n",
       "96  0.994687    0.19\n",
       "97  0.998794    0.14\n",
       "98  1.005373    0.29\n",
       "99  1.021337    0.60"
      ],
      "text/html": "<div>\n<style scoped>\n    .dataframe tbody tr th:only-of-type {\n        vertical-align: middle;\n    }\n\n    .dataframe tbody tr th {\n        vertical-align: top;\n    }\n\n    .dataframe thead th {\n        text-align: right;\n    }\n</style>\n<table border=\"1\" class=\"dataframe\">\n  <thead>\n    <tr style=\"text-align: right;\">\n      <th></th>\n      <th>Theta^</th>\n      <th>DM res</th>\n    </tr>\n  </thead>\n  <tbody>\n    <tr>\n      <th>80</th>\n      <td>0.957014</td>\n      <td>0.12</td>\n    </tr>\n    <tr>\n      <th>81</th>\n      <td>0.958990</td>\n      <td>0.11</td>\n    </tr>\n    <tr>\n      <th>82</th>\n      <td>0.960874</td>\n      <td>0.09</td>\n    </tr>\n    <tr>\n      <th>83</th>\n      <td>0.962619</td>\n      <td>0.13</td>\n    </tr>\n    <tr>\n      <th>84</th>\n      <td>0.964517</td>\n      <td>0.06</td>\n    </tr>\n    <tr>\n      <th>85</th>\n      <td>0.966602</td>\n      <td>0.07</td>\n    </tr>\n    <tr>\n      <th>86</th>\n      <td>0.968634</td>\n      <td>0.06</td>\n    </tr>\n    <tr>\n      <th>87</th>\n      <td>0.970460</td>\n      <td>0.06</td>\n    </tr>\n    <tr>\n      <th>88</th>\n      <td>0.972596</td>\n      <td>0.08</td>\n    </tr>\n    <tr>\n      <th>89</th>\n      <td>0.974900</td>\n      <td>0.03</td>\n    </tr>\n    <tr>\n      <th>90</th>\n      <td>0.977067</td>\n      <td>0.07</td>\n    </tr>\n    <tr>\n      <th>91</th>\n      <td>0.979535</td>\n      <td>0.07</td>\n    </tr>\n    <tr>\n      <th>92</th>\n      <td>0.981977</td>\n      <td>0.05</td>\n    </tr>\n    <tr>\n      <th>93</th>\n      <td>0.984530</td>\n      <td>0.10</td>\n    </tr>\n    <tr>\n      <th>94</th>\n      <td>0.987653</td>\n      <td>0.08</td>\n    </tr>\n    <tr>\n      <th>95</th>\n      <td>0.991144</td>\n      <td>0.06</td>\n    </tr>\n    <tr>\n      <th>96</th>\n      <td>0.994687</td>\n      <td>0.19</td>\n    </tr>\n    <tr>\n      <th>97</th>\n      <td>0.998794</td>\n      <td>0.14</td>\n    </tr>\n    <tr>\n      <th>98</th>\n      <td>1.005373</td>\n      <td>0.29</td>\n    </tr>\n    <tr>\n      <th>99</th>\n      <td>1.021337</td>\n      <td>0.60</td>\n    </tr>\n  </tbody>\n</table>\n</div>"
     },
     "metadata": {},
     "execution_count": 431
    }
   ],
   "source": [
    "samp_td = pd.DataFrame([sampled_theta,sampled_dm]).T\n",
    "samp_td.columns = [\"Theta^\", \"DM res\"]\n",
    "samp_td[80:]"
   ]
  },
  {
   "cell_type": "code",
   "execution_count": 440,
   "metadata": {},
   "outputs": [
    {
     "output_type": "stream",
     "name": "stdout",
     "text": [
      "Optimization terminated successfully.\n         Current function value: 0.669659\n         Iterations 5\n"
     ]
    },
    {
     "output_type": "execute_result",
     "data": {
      "text/plain": [
       "<class 'statsmodels.iolib.summary.Summary'>\n",
       "\"\"\"\n",
       "                          Probit Regression Results                           \n",
       "==============================================================================\n",
       "Dep. Variable:                      y   No. Observations:                10000\n",
       "Model:                         Probit   Df Residuals:                     9998\n",
       "Method:                           MLE   Df Model:                            1\n",
       "Date:                Fri, 12 Mar 2021   Pseudo R-squ.:                 0.03102\n",
       "Time:                        09:32:56   Log-Likelihood:                -6696.6\n",
       "converged:                       True   LL-Null:                       -6911.0\n",
       "Covariance Type:            nonrobust   LLR p-value:                 2.995e-95\n",
       "==============================================================================\n",
       "                 coef    std err          z      P>|z|      [0.025      0.975]\n",
       "------------------------------------------------------------------------------\n",
       "const          2.9240      0.143     20.488      0.000       2.644       3.204\n",
       "x1            -3.2036      0.160    -20.061      0.000      -3.517      -2.891\n",
       "==============================================================================\n",
       "\"\"\""
      ],
      "text/html": "<table class=\"simpletable\">\n<caption>Probit Regression Results</caption>\n<tr>\n  <th>Dep. Variable:</th>           <td>y</td>        <th>  No. Observations:  </th>  <td> 10000</td>  \n</tr>\n<tr>\n  <th>Model:</th>                <td>Probit</td>      <th>  Df Residuals:      </th>  <td>  9998</td>  \n</tr>\n<tr>\n  <th>Method:</th>                 <td>MLE</td>       <th>  Df Model:          </th>  <td>     1</td>  \n</tr>\n<tr>\n  <th>Date:</th>            <td>Fri, 12 Mar 2021</td> <th>  Pseudo R-squ.:     </th>  <td>0.03102</td> \n</tr>\n<tr>\n  <th>Time:</th>                <td>09:32:56</td>     <th>  Log-Likelihood:    </th> <td> -6696.6</td> \n</tr>\n<tr>\n  <th>converged:</th>             <td>True</td>       <th>  LL-Null:           </th> <td> -6911.0</td> \n</tr>\n<tr>\n  <th>Covariance Type:</th>     <td>nonrobust</td>    <th>  LLR p-value:       </th> <td>2.995e-95</td>\n</tr>\n</table>\n<table class=\"simpletable\">\n<tr>\n    <td></td>       <th>coef</th>     <th>std err</th>      <th>z</th>      <th>P>|z|</th>  <th>[0.025</th>    <th>0.975]</th>  \n</tr>\n<tr>\n  <th>const</th> <td>    2.9240</td> <td>    0.143</td> <td>   20.488</td> <td> 0.000</td> <td>    2.644</td> <td>    3.204</td>\n</tr>\n<tr>\n  <th>x1</th>    <td>   -3.2036</td> <td>    0.160</td> <td>  -20.061</td> <td> 0.000</td> <td>   -3.517</td> <td>   -2.891</td>\n</tr>\n</table>"
     },
     "metadata": {},
     "execution_count": 440
    }
   ],
   "source": [
    "# 3. PROBIT MODEL\n",
    "\n",
    "#y = [\"Diebold\"]\n",
    "#x = sm.add_constant(ss_100[\"theta\"])  x.astype(float)\n",
    "model = Probit(dm_100, sm.add_constant(theta_100))\n",
    "probit_model = model.fit()\n",
    "probit_model.summary()"
   ]
  },
  {
   "cell_type": "code",
   "execution_count": 441,
   "metadata": {},
   "outputs": [
    {
     "output_type": "execute_result",
     "data": {
      "text/plain": [
       "<class 'statsmodels.iolib.summary.Summary'>\n",
       "\"\"\"\n",
       "       Probit Marginal Effects       \n",
       "=====================================\n",
       "Dep. Variable:                      y\n",
       "Method:                          dydx\n",
       "At:                           overall\n",
       "==============================================================================\n",
       "                dy/dx    std err          z      P>|z|      [0.025      0.975]\n",
       "------------------------------------------------------------------------------\n",
       "x1            -1.2306      0.057    -21.426      0.000      -1.343      -1.118\n",
       "==============================================================================\n",
       "\"\"\""
      ],
      "text/html": "<table class=\"simpletable\">\n<caption>Probit Marginal Effects</caption>\n<tr>\n  <th>Dep. Variable:</th>    <td>y</td>   \n</tr>\n<tr>\n  <th>Method:</th>         <td>dydx</td>  \n</tr>\n<tr>\n  <th>At:</th>            <td>overall</td>\n</tr>\n</table>\n<table class=\"simpletable\">\n<tr>\n   <th></th>     <th>dy/dx</th>    <th>std err</th>      <th>z</th>      <th>P>|z|</th>  <th>[0.025</th>    <th>0.975]</th>  \n</tr>\n<tr>\n  <th>x1</th> <td>   -1.2306</td> <td>    0.057</td> <td>  -21.426</td> <td> 0.000</td> <td>   -1.343</td> <td>   -1.118</td>\n</tr>\n</table>"
     },
     "metadata": {},
     "execution_count": 441
    }
   ],
   "source": [
    "# Average marginal effect of theta on the probability at each observation\n",
    "probit_model.get_margeff(at=\"overall\", method='dydx', atexog=None, dummy=False, count=False).summary()"
   ]
  },
  {
   "cell_type": "code",
   "execution_count": 442,
   "metadata": {},
   "outputs": [
    {
     "output_type": "execute_result",
     "data": {
      "text/plain": [
       "array([0.58762223, 0.48462291, 0.61536333, ..., 0.3912712 , 0.39830615,\n",
       "       0.60986504])"
      ]
     },
     "metadata": {},
     "execution_count": 442
    }
   ],
   "source": [
    "# function expressing the probability of a dm rejection in terms of the estimated\n",
    "norm.cdf(probit_model.params[0] + theta_100 * probit_model.params[1])"
   ]
  },
  {
   "cell_type": "code",
   "execution_count": 443,
   "metadata": {},
   "outputs": [
    {
     "output_type": "execute_result",
     "data": {
      "text/plain": [
       "0.9127076166762589"
      ]
     },
     "metadata": {},
     "execution_count": 443
    }
   ],
   "source": [
    "# Value of theta at which it is better to approximate the distribution with a random walk\n",
    "(norm.ppf(0.5) - probit_model.params[0]) / probit_model.params[1]"
   ]
  },
  {
   "cell_type": "code",
   "execution_count": 423,
   "metadata": {},
   "outputs": [
    {
     "output_type": "execute_result",
     "data": {
      "text/plain": [
       "0.42530325956666104"
      ]
     },
     "metadata": {},
     "execution_count": 423
    }
   ],
   "source": [
    "np.max(probit_model.predict())"
   ]
  },
  {
   "cell_type": "code",
   "execution_count": 335,
   "metadata": {},
   "outputs": [
    {
     "output_type": "execute_result",
     "data": {
      "text/plain": [
       "0.35579"
      ]
     },
     "metadata": {},
     "execution_count": 335
    }
   ],
   "source": [
    "np.mean(dm_100)"
   ]
  },
  {
   "source": [
    "QUESTION 2\n",
    "--"
   ],
   "cell_type": "markdown",
   "metadata": {}
  },
  {
   "cell_type": "code",
   "execution_count": 101,
   "metadata": {},
   "outputs": [
    {
     "output_type": "stream",
     "name": "stdout",
     "text": [
      "0.9\n",
      "0.91\n",
      "0.92\n",
      "0.93\n",
      "0.94\n",
      "0.95\n",
      "0.96\n",
      "0.97\n",
      "0.98\n",
      "0.99\n"
     ]
    }
   ],
   "source": [
    "# Simulate some data\n",
    "# run time ~ 1 minute\n",
    "\n",
    "# True simulated data ## Sample size 100\n",
    "rg = np.random.RandomState(100)\n",
    "\n",
    "r = [0.90, 0.91, 0.92, 0.93, 0.94, 0.95, 0.96, 0.97, 0.98, 0.99]\n",
    "runs = 1000\n",
    "size = 100\n",
    "nw = size ** (1/3)\n",
    "cv = norm.ppf(0.975)\n",
    "theta_100_2 = []\n",
    "dm_100_2 = []\n",
    "\n",
    "for rho in r:\n",
    "    print(rho)\n",
    "    for run in range(runs):\n",
    "        start = rg.normal(0,1/(1-(rho**2)))\n",
    "        run_holder = []\n",
    "        run_holder.append(start)\n",
    "\n",
    "        for i in range(1,size):\n",
    "            shock = rg.standard_normal()\n",
    "            last_val = run_holder[-1]\n",
    "            new_val = last_val * rho + shock\n",
    "            run_holder.append(new_val)\n",
    "            \n",
    "        y = np.asarray(run_holder)\n",
    "\n",
    "        # Fit using first half, tau//2\n",
    "        mod = AutoReg(y[:size//2], lags=1, trend=\"c\", old_names=False)\n",
    "        res = mod.fit()\n",
    "\n",
    "        # Full-sample model\n",
    "        oos_mod = AutoReg(y, lags=1, trend=\"c\", old_names=False)\n",
    "\n",
    "        # OOS Random Walk predictions\n",
    "        oos_rw = oos_mod.predict([0, 1])\n",
    "\n",
    "        ## ADF test, and forecasting\n",
    "        adf = ADF(y[-size//2:]).pvalue\n",
    "\n",
    "        if adf > 0.05:\n",
    "            oos_1step = oos_rw\n",
    "        else:\n",
    "            oos_1step = oos_mod.predict(res.params)\n",
    "\n",
    "\n",
    "        # Get second half of both\n",
    "        # Use -size//2: to get second half\n",
    "        oos_1step = oos_1step[-size//2:]\n",
    "        oos_rw = oos_rw[-size//2:]\n",
    "\n",
    "        # Append the estimated thetas and the DM results into lists\n",
    "        theta_100_2.append(res.params[1])\n",
    "\n",
    "        dm_100_2.append(diebold_mariano( oos_rw, oos_1step, nw, cv))\n"
   ]
  },
  {
   "cell_type": "code",
   "execution_count": 102,
   "metadata": {},
   "outputs": [
    {
     "output_type": "execute_result",
     "data": {
      "text/plain": [
       "<class 'statsmodels.iolib.summary.Summary'>\n",
       "\"\"\"\n",
       "                            OLS Regression Results                            \n",
       "==============================================================================\n",
       "Dep. Variable:                      y   R-squared:                       0.001\n",
       "Model:                            OLS   Adj. R-squared:                  0.001\n",
       "Method:                 Least Squares   F-statistic:                     10.37\n",
       "Date:                Fri, 12 Mar 2021   Prob (F-statistic):            0.00128\n",
       "Time:                        06:55:57   Log-Likelihood:                 793.24\n",
       "No. Observations:               10000   AIC:                            -1582.\n",
       "Df Residuals:                    9998   BIC:                            -1568.\n",
       "Df Model:                           1                                         \n",
       "Covariance Type:            nonrobust                                         \n",
       "==============================================================================\n",
       "                 coef    std err          t      P>|t|      [0.025      0.975]\n",
       "------------------------------------------------------------------------------\n",
       "const          0.1270      0.023      5.485      0.000       0.082       0.172\n",
       "x1            -0.0839      0.026     -3.220      0.001      -0.135      -0.033\n",
       "==============================================================================\n",
       "Omnibus:                     7928.184   Durbin-Watson:                   2.006\n",
       "Prob(Omnibus):                  0.000   Jarque-Bera (JB):           107857.526\n",
       "Skew:                           3.993   Prob(JB):                         0.00\n",
       "Kurtosis:                      16.967   Cond. No.                         20.8\n",
       "==============================================================================\n",
       "\n",
       "Notes:\n",
       "[1] Standard Errors assume that the covariance matrix of the errors is correctly specified.\n",
       "\"\"\""
      ],
      "text/html": "<table class=\"simpletable\">\n<caption>OLS Regression Results</caption>\n<tr>\n  <th>Dep. Variable:</th>            <td>y</td>        <th>  R-squared:         </th> <td>   0.001</td>\n</tr>\n<tr>\n  <th>Model:</th>                   <td>OLS</td>       <th>  Adj. R-squared:    </th> <td>   0.001</td>\n</tr>\n<tr>\n  <th>Method:</th>             <td>Least Squares</td>  <th>  F-statistic:       </th> <td>   10.37</td>\n</tr>\n<tr>\n  <th>Date:</th>             <td>Fri, 12 Mar 2021</td> <th>  Prob (F-statistic):</th>  <td>0.00128</td>\n</tr>\n<tr>\n  <th>Time:</th>                 <td>06:55:57</td>     <th>  Log-Likelihood:    </th> <td>  793.24</td>\n</tr>\n<tr>\n  <th>No. Observations:</th>      <td> 10000</td>      <th>  AIC:               </th> <td>  -1582.</td>\n</tr>\n<tr>\n  <th>Df Residuals:</th>          <td>  9998</td>      <th>  BIC:               </th> <td>  -1568.</td>\n</tr>\n<tr>\n  <th>Df Model:</th>              <td>     1</td>      <th>                     </th>     <td> </td>   \n</tr>\n<tr>\n  <th>Covariance Type:</th>      <td>nonrobust</td>    <th>                     </th>     <td> </td>   \n</tr>\n</table>\n<table class=\"simpletable\">\n<tr>\n    <td></td>       <th>coef</th>     <th>std err</th>      <th>t</th>      <th>P>|t|</th>  <th>[0.025</th>    <th>0.975]</th>  \n</tr>\n<tr>\n  <th>const</th> <td>    0.1270</td> <td>    0.023</td> <td>    5.485</td> <td> 0.000</td> <td>    0.082</td> <td>    0.172</td>\n</tr>\n<tr>\n  <th>x1</th>    <td>   -0.0839</td> <td>    0.026</td> <td>   -3.220</td> <td> 0.001</td> <td>   -0.135</td> <td>   -0.033</td>\n</tr>\n</table>\n<table class=\"simpletable\">\n<tr>\n  <th>Omnibus:</th>       <td>7928.184</td> <th>  Durbin-Watson:     </th>  <td>   2.006</td> \n</tr>\n<tr>\n  <th>Prob(Omnibus):</th>  <td> 0.000</td>  <th>  Jarque-Bera (JB):  </th> <td>107857.526</td>\n</tr>\n<tr>\n  <th>Skew:</th>           <td> 3.993</td>  <th>  Prob(JB):          </th>  <td>    0.00</td> \n</tr>\n<tr>\n  <th>Kurtosis:</th>       <td>16.967</td>  <th>  Cond. No.          </th>  <td>    20.8</td> \n</tr>\n</table><br/><br/>Notes:<br/>[1] Standard Errors assume that the covariance matrix of the errors is correctly specified."
     },
     "metadata": {},
     "execution_count": 102
    }
   ],
   "source": [
    "# Yes, pre-selecting our forecasts for a unit root improves out of sample forecasts a great deal\n",
    "\n",
    "dm_100_2 = np.asarray(dm_100_2)\n",
    "theta_100_2 = np.asarray(theta_100_2)\n",
    "# x = np.asarray(pd.DataFrame([theta_100,(theta_100)**2]).T) ### can be used to get a non-linear relationship?\n",
    "res = sm.OLS(dm_100_2, sm.add_constant(theta_100_2)).fit()\n",
    "res.summary()"
   ]
  }
 ]
}