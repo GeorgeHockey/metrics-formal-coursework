{
 "metadata": {
  "language_info": {
   "codemirror_mode": {
    "name": "ipython",
    "version": 3
   },
   "file_extension": ".py",
   "mimetype": "text/x-python",
   "name": "python",
   "nbconvert_exporter": "python",
   "pygments_lexer": "ipython3",
   "version": "3.9.0-final"
  },
  "orig_nbformat": 2,
  "kernelspec": {
   "name": "python3",
   "display_name": "Python 3.9.0 64-bit",
   "metadata": {
    "interpreter": {
     "hash": "7812ea015bdcee6f23a998adcdd2ef97c151c0c241b7b7070987d9313e41299d"
    }
   }
  }
 },
 "nbformat": 4,
 "nbformat_minor": 2,
 "cells": [
  {
   "cell_type": "code",
   "execution_count": 1,
   "metadata": {},
   "outputs": [],
   "source": [
    "import pandas as pd\n",
    "import numpy as np\n",
    "from statsmodels.tsa.ar_model import AutoReg\n",
    "import matplotlib.pyplot as plt\n",
    "import seaborn as sns\n",
    "%matplotlib inline\n",
    "from scipy.stats import norm\n",
    "import statsmodels.api as sm"
   ]
  },
  {
   "cell_type": "code",
   "execution_count": 79,
   "metadata": {},
   "outputs": [],
   "source": [
    "DEFAULT_FIGSIZE = (48,18)\n",
    "plt.rc(\"figure\", figsize=DEFAULT_FIGSIZE)\n",
    "plt.rc(\"font\", size=48)\n",
    "\n",
    "def plot(s, y=DEFAULT_FIGSIZE):\n",
    "    #figsize(y=y)\n",
    "    fig, ax = plt.subplots(1, 1)\n",
    "    if isinstance(s, pd.Series):\n",
    "        s.plot(ax=ax, legend=False, color=[\"orange\"])\n",
    "    else:\n",
    "        s.plot(ax=ax, legend=False)\n",
    "        fig.legend(frameon=False)\n",
    "    \n",
    "    ax.set_xlabel(None)\n",
    "    ax.set_xlim(s.index[0], s.index[-1]) #s.index[0]\n",
    "    sns.despine()\n",
    "    fig.tight_layout(pad=1.0)\n",
    "    #figsize()"
   ]
  },
  {
   "cell_type": "code",
   "execution_count": 40,
   "metadata": {},
   "outputs": [],
   "source": [
    "def diebold_mariano(loss_a, loss_b, nw_bandwidth,cv):\n",
    "    delta = loss_a - loss_b\n",
    "    mod = sm.OLS(delta, np.ones_like(delta))\n",
    "    dm_res = mod.fit(cov_type=\"HAC\", cov_kwds={\"maxlags\":int(nw_bandwidth)})\n",
    "    av_diff = delta.mean()\n",
    "    a  = dm_res.bse[0]\n",
    "    dm_stat = float(av_diff / a)  \n",
    "\n",
    "    #cv = norm.ppf(0.975)\n",
    "\n",
    "    if dm_stat < (cv * -1):\n",
    "        concl = 1\n",
    "    else:\n",
    "        concl = 0\n",
    "\n",
    "\n",
    "    return concl"
   ]
  },
  {
   "cell_type": "code",
   "execution_count": 42,
   "metadata": {},
   "outputs": [
    {
     "output_type": "stream",
     "name": "stdout",
     "text": [
      "0.9\n",
      "0.91\n",
      "0.92\n",
      "0.93\n",
      "0.94\n",
      "0.95\n",
      "0.96\n",
      "0.97\n",
      "0.98\n",
      "0.99\n"
     ]
    }
   ],
   "source": [
    "# Simulate some data\n",
    "# run time ~ 1 minute\n",
    "\n",
    "# True simulated data ## Sample size 100\n",
    "rg = np.random.RandomState(100)\n",
    "\n",
    "r = [0.90, 0.91, 0.92, 0.93, 0.94, 0.95, 0.96, 0.97, 0.98, 0.99]\n",
    "runs = 1000\n",
    "true_100 = {}\n",
    "size = 100\n",
    "nw = size ** (1/3)\n",
    "cv = norm.ppf(0.975)\n",
    "theta_100 = []\n",
    "dm_100 = []\n",
    "\n",
    "for rho in r:\n",
    "    print(rho)\n",
    "    for run in range(runs):\n",
    "        start = rg.normal(0,1/(1-(rho**2)))\n",
    "        run_holder = []\n",
    "        run_holder.append(start)\n",
    "\n",
    "        for i in range(1,size):\n",
    "            shock = rg.standard_normal()\n",
    "            last_val = run_holder[-1]\n",
    "            new_val = last_val * rho + shock\n",
    "            run_holder.append(new_val)\n",
    "            \n",
    "        y = np.asarray(run_holder)\n",
    "\n",
    "        # Fit using first half, tau//2\n",
    "        mod = AutoReg(y[:size//2], lags=1, trend=\"c\", old_names=False)\n",
    "        res = mod.fit()\n",
    "\n",
    "        # Full-sample model\n",
    "        oos_mod = AutoReg(y, lags=1, trend=\"c\", old_names=False)\n",
    "\n",
    "        # One-step predictions\n",
    "        oos_1step = oos_mod.predict(res.params)\n",
    "\n",
    "        # OOS Random Walk predictions\n",
    "        oos_rw = oos_mod.predict([0, 1])\n",
    "\n",
    "        # Get second half of both\n",
    "        # Use -tau//2: to get second half\n",
    "        oos_1step = oos_1step[-size//2:]\n",
    "        oos_rw = oos_rw[-size//2:]\n",
    "\n",
    "        # Append the estimated thetas and the DM results into lists\n",
    "        theta_100.append(res.params[1])\n",
    "\n",
    "        dm_100.append(diebold_mariano( oos_rw, oos_1step, nw, cv))\n"
   ]
  },
  {
   "cell_type": "code",
   "execution_count": 66,
   "metadata": {},
   "outputs": [
    {
     "output_type": "execute_result",
     "data": {
      "text/plain": [
       "0.6056777336885242"
      ]
     },
     "metadata": {},
     "execution_count": 66
    }
   ],
   "source": [
    "np.quantile(theta_100,0.01)"
   ]
  },
  {
   "cell_type": "code",
   "execution_count": 88,
   "metadata": {},
   "outputs": [
    {
     "output_type": "execute_result",
     "data": {
      "text/plain": [
       "array([1, 0, 0, ..., 0, 1, 0])"
      ]
     },
     "metadata": {},
     "execution_count": 88
    }
   ],
   "source": [
    "dm_100"
   ]
  },
  {
   "cell_type": "code",
   "execution_count": 93,
   "metadata": {},
   "outputs": [
    {
     "output_type": "execute_result",
     "data": {
      "text/plain": [
       "<class 'statsmodels.iolib.summary.Summary'>\n",
       "\"\"\"\n",
       "                            OLS Regression Results                            \n",
       "==============================================================================\n",
       "Dep. Variable:                      y   R-squared:                       0.004\n",
       "Model:                            OLS   Adj. R-squared:                  0.004\n",
       "Method:                 Least Squares   F-statistic:                     37.04\n",
       "Date:                Fri, 12 Mar 2021   Prob (F-statistic):           1.20e-09\n",
       "Time:                        06:40:40   Log-Likelihood:                -6817.7\n",
       "No. Observations:               10000   AIC:                         1.364e+04\n",
       "Df Residuals:                    9998   BIC:                         1.365e+04\n",
       "Df Model:                           1                                         \n",
       "Covariance Type:            nonrobust                                         \n",
       "==============================================================================\n",
       "                 coef    std err          t      P>|t|      [0.025      0.975]\n",
       "------------------------------------------------------------------------------\n",
       "const          0.0575      0.050      1.160      0.246      -0.040       0.155\n",
       "x1             0.3393      0.056      6.086      0.000       0.230       0.449\n",
       "==============================================================================\n",
       "Omnibus:                    47565.263   Durbin-Watson:                   1.995\n",
       "Prob(Omnibus):                  0.000   Jarque-Bera (JB):             1695.598\n",
       "Skew:                           0.590   Prob(JB):                         0.00\n",
       "Kurtosis:                       1.364   Cond. No.                         20.8\n",
       "==============================================================================\n",
       "\n",
       "Notes:\n",
       "[1] Standard Errors assume that the covariance matrix of the errors is correctly specified.\n",
       "\"\"\""
      ],
      "text/html": "<table class=\"simpletable\">\n<caption>OLS Regression Results</caption>\n<tr>\n  <th>Dep. Variable:</th>            <td>y</td>        <th>  R-squared:         </th> <td>   0.004</td> \n</tr>\n<tr>\n  <th>Model:</th>                   <td>OLS</td>       <th>  Adj. R-squared:    </th> <td>   0.004</td> \n</tr>\n<tr>\n  <th>Method:</th>             <td>Least Squares</td>  <th>  F-statistic:       </th> <td>   37.04</td> \n</tr>\n<tr>\n  <th>Date:</th>             <td>Fri, 12 Mar 2021</td> <th>  Prob (F-statistic):</th> <td>1.20e-09</td> \n</tr>\n<tr>\n  <th>Time:</th>                 <td>06:40:40</td>     <th>  Log-Likelihood:    </th> <td> -6817.7</td> \n</tr>\n<tr>\n  <th>No. Observations:</th>      <td> 10000</td>      <th>  AIC:               </th> <td>1.364e+04</td>\n</tr>\n<tr>\n  <th>Df Residuals:</th>          <td>  9998</td>      <th>  BIC:               </th> <td>1.365e+04</td>\n</tr>\n<tr>\n  <th>Df Model:</th>              <td>     1</td>      <th>                     </th>     <td> </td>    \n</tr>\n<tr>\n  <th>Covariance Type:</th>      <td>nonrobust</td>    <th>                     </th>     <td> </td>    \n</tr>\n</table>\n<table class=\"simpletable\">\n<tr>\n    <td></td>       <th>coef</th>     <th>std err</th>      <th>t</th>      <th>P>|t|</th>  <th>[0.025</th>    <th>0.975]</th>  \n</tr>\n<tr>\n  <th>const</th> <td>    0.0575</td> <td>    0.050</td> <td>    1.160</td> <td> 0.246</td> <td>   -0.040</td> <td>    0.155</td>\n</tr>\n<tr>\n  <th>x1</th>    <td>    0.3393</td> <td>    0.056</td> <td>    6.086</td> <td> 0.000</td> <td>    0.230</td> <td>    0.449</td>\n</tr>\n</table>\n<table class=\"simpletable\">\n<tr>\n  <th>Omnibus:</th>       <td>47565.263</td> <th>  Durbin-Watson:     </th> <td>   1.995</td>\n</tr>\n<tr>\n  <th>Prob(Omnibus):</th>  <td> 0.000</td>   <th>  Jarque-Bera (JB):  </th> <td>1695.598</td>\n</tr>\n<tr>\n  <th>Skew:</th>           <td> 0.590</td>   <th>  Prob(JB):          </th> <td>    0.00</td>\n</tr>\n<tr>\n  <th>Kurtosis:</th>       <td> 1.364</td>   <th>  Cond. No.          </th> <td>    20.8</td>\n</tr>\n</table><br/><br/>Notes:<br/>[1] Standard Errors assume that the covariance matrix of the errors is correctly specified."
     },
     "metadata": {},
     "execution_count": 93
    }
   ],
   "source": [
    "dm_100 = np.asarray(dm_100)\n",
    "theta_100 = np.asarray(theta_100)\n",
    "# x = np.asarray(pd.DataFrame([theta_100,(theta_100)**2]).T) ### can be used to get a non-linear relationship?\n",
    "res = sm.OLS(dm_100, sm.add_constant(theta_100)).fit()\n",
    "res.summary()"
   ]
  },
  {
   "cell_type": "code",
   "execution_count": 84,
   "metadata": {},
   "outputs": [
    {
     "output_type": "execute_result",
     "data": {
      "text/plain": [
       "array([[0.8435884 , 0.7116414 , 0.60033243, 0.50643348],\n",
       "       [0.92474213, 0.85514801, 0.7907914 , 0.73127812],\n",
       "       [0.82114738, 0.67428302, 0.55368573, 0.45465759],\n",
       "       ...,\n",
       "       [0.99886207, 0.99772544, 0.9965901 , 0.99545605],\n",
       "       [0.99315808, 0.98636298, 0.97961436, 0.97291192],\n",
       "       [0.82562923, 0.68166363, 0.56280142, 0.4646653 ]])"
      ]
     },
     "metadata": {},
     "execution_count": 84
    }
   ],
   "source": [
    "x"
   ]
  },
  {
   "cell_type": "code",
   "execution_count": 34,
   "metadata": {},
   "outputs": [
    {
     "output_type": "execute_result",
     "data": {
      "text/plain": [
       "0.1550788316275451"
      ]
     },
     "metadata": {},
     "execution_count": 34
    }
   ],
   "source": [
    "np.mean(y[-size//2:] - oos_1step)"
   ]
  },
  {
   "cell_type": "code",
   "execution_count": 37,
   "metadata": {},
   "outputs": [
    {
     "output_type": "execute_result",
     "data": {
      "text/plain": [
       "0.03075100645963808"
      ]
     },
     "metadata": {},
     "execution_count": 37
    }
   ],
   "source": [
    "np.mean(y[-size//2:] - oos_rw)"
   ]
  }
 ]
}