{
 "metadata": {
  "language_info": {
   "codemirror_mode": {
    "name": "ipython",
    "version": 3
   },
   "file_extension": ".py",
   "mimetype": "text/x-python",
   "name": "python",
   "nbconvert_exporter": "python",
   "pygments_lexer": "ipython3",
   "version": "3.9.0-final"
  },
  "orig_nbformat": 2,
  "kernelspec": {
   "name": "python3",
   "display_name": "Python 3.9.0 64-bit",
   "metadata": {
    "interpreter": {
     "hash": "7812ea015bdcee6f23a998adcdd2ef97c151c0c241b7b7070987d9313e41299d"
    }
   }
  }
 },
 "nbformat": 4,
 "nbformat_minor": 2,
 "cells": [
  {
   "cell_type": "code",
   "execution_count": 8,
   "metadata": {},
   "outputs": [],
   "source": [
    "import statsmodels.api as sm"
   ]
  },
  {
   "cell_type": "code",
   "execution_count": 19,
   "metadata": {},
   "outputs": [],
   "source": [
    "import pandas as pd\n",
    "import numpy as np\n",
    "from statsmodels.tsa.ar_model import AutoReg"
   ]
  },
  {
   "cell_type": "code",
   "execution_count": 309,
   "metadata": {},
   "outputs": [],
   "source": [
    "from scipy.stats import norm\n",
    "import numpy as np\n",
    "import pandas as pd\n",
    "from scipy.stats import sem\n",
    "import statsmodels.api as sm\n",
    "\n",
    "def diebold_mariano(loss_a, loss_b, nw_bandwidth,cv):\n",
    "    delta = loss_a - loss_b\n",
    "    mod = sm.OLS(delta, np.ones_like(delta))\n",
    "    dm_res = mod.fit(cov_type=\"HAC\", cov_kwds={\"maxlags\":int(nw_bandwidth)})\n",
    "    av_diff = float(dm_res.params[0])\n",
    "    dm_stat = float(av_diff / dm_res.bse[0])\n",
    "    \n",
    "\n",
    "    #cv = norm.ppf(0.975)\n",
    "\n",
    "    if dm_stat < (cv * -1):\n",
    "        concl = 1\n",
    "    else:\n",
    "        concl = 0\n",
    "\n",
    "\n",
    "    return concl"
   ]
  },
  {
   "cell_type": "code",
   "execution_count": 11,
   "metadata": {},
   "outputs": [],
   "source": [
    "rg = np.random.RandomState(10)"
   ]
  },
  {
   "source": [
    "                       true[(rho,size,run,0)]= start\n",
    "                yt_1 = true[(rho,size,run,i-1)]\n",
    "                yt = rho * yt_1 + shock\n",
    "                true[(rho,size,run,i)] = (yt)"
   ],
   "cell_type": "markdown",
   "metadata": {}
  },
  {
   "cell_type": "code",
   "execution_count": 12,
   "metadata": {},
   "outputs": [],
   "source": [
    "# True simulated data ## Sample size 100\n",
    "rg = np.random.RandomState(1)\n",
    "\n",
    "r = [0.90, 0.91, 0.92, 0.93, 0.94, 0.95, 0.96, 0.97, 0.98, 0.99]\n",
    "runs = 1000\n",
    "true_100 = {}\n",
    "size = 100\n",
    "\n",
    "for rho in r:\n",
    "    for run in range(runs):\n",
    "        start = rg.normal(0,1/(1-rho**2))\n",
    "        run_holder = []\n",
    "        run_holder.append(start)\n",
    "            \n",
    "        for i in range(1,size):\n",
    "            shock = rg.standard_normal()\n",
    "            last_val = run_holder[-1]\n",
    "            new_val = last_val * rho + shock\n",
    "            run_holder.append(new_val)\n",
    "            \n",
    "        true_100[(rho,run)]= run_holder"
   ]
  },
  {
   "cell_type": "code",
   "execution_count": 13,
   "metadata": {},
   "outputs": [],
   "source": [
    "# True simulated data ## Sample size 250\n",
    "rg = np.random.RandomState(1)\n",
    "\n",
    "r = [0.90, 0.91, 0.92, 0.93, 0.94, 0.95, 0.96, 0.97, 0.98, 0.99]\n",
    "runs = 1000\n",
    "true_250 = {}\n",
    "size = 250\n",
    "\n",
    "for rho in r:\n",
    "    for run in range(runs):\n",
    "        start = rg.normal(0,1/(1-rho**2))\n",
    "        run_holder = []\n",
    "        run_holder.append(start)\n",
    "            \n",
    "        for i in range(1,size):\n",
    "            shock = rg.standard_normal()\n",
    "            last_val = run_holder[-1]\n",
    "            new_val = last_val * rho + shock\n",
    "            run_holder.append(new_val)\n",
    "            \n",
    "        true_250[(rho,run)]= run_holder"
   ]
  },
  {
   "cell_type": "code",
   "execution_count": 14,
   "metadata": {},
   "outputs": [],
   "source": [
    "# True simulated data ## Sample size 500\n",
    "rg = np.random.RandomState(1)\n",
    "\n",
    "r = [0.90, 0.91, 0.92, 0.93, 0.94, 0.95, 0.96, 0.97, 0.98, 0.99]\n",
    "runs = 1000\n",
    "true_500 = {}\n",
    "size = 500\n",
    "\n",
    "for rho in r:\n",
    "    for run in range(runs):\n",
    "        start = rg.normal(0,1/(1-rho**2))\n",
    "        run_holder = []\n",
    "        run_holder.append(start)\n",
    "            \n",
    "        for i in range(1,size):\n",
    "            shock = rg.standard_normal()\n",
    "            last_val = run_holder[-1]\n",
    "            new_val = last_val * rho + shock\n",
    "            run_holder.append(new_val)\n",
    "\n",
    "        true_500[(rho,run)]= run_holder"
   ]
  },
  {
   "cell_type": "code",
   "execution_count": 15,
   "metadata": {},
   "outputs": [],
   "source": [
    "true_100 = pd.DataFrame(true_100)\n",
    "true_250 = pd.DataFrame(true_250)\n",
    "true_500 = pd.DataFrame(true_500)"
   ]
  },
  {
   "cell_type": "code",
   "execution_count": 16,
   "metadata": {},
   "outputs": [],
   "source": [
    "half_100 = len(true_100) // 2\n",
    "half_250 = len(true_250) // 2\n",
    "half_500 = len(true_500) // 2"
   ]
  },
  {
   "cell_type": "code",
   "execution_count": 101,
   "metadata": {},
   "outputs": [
    {
     "output_type": "execute_result",
     "data": {
      "text/plain": [
       "        0.90                                                               \\\n",
       "         0         1         2          3         4         5         6     \n",
       "0   8.549186 -2.353308 -2.109885  10.872544 -6.876495 -9.049445 -5.647180   \n",
       "1   7.082511 -0.893470 -1.074891   8.314132 -6.112465 -8.087379 -4.587304   \n",
       "2   5.846088 -0.400631 -1.529707   6.652547 -5.133987 -8.078189 -5.080635   \n",
       "3   4.188511  0.233011  0.578141   5.106715 -3.387689 -7.561964 -5.090717   \n",
       "4   4.635067 -0.885202 -0.811624   4.316946 -3.471777 -7.064751 -6.043049   \n",
       "..       ...       ...       ...        ...       ...       ...       ...   \n",
       "95  1.510915  3.082705 -0.630365  -0.662332 -0.392159  2.477270 -0.051633   \n",
       "96  1.015970  3.376754 -0.150026  -2.469259  0.175937  2.891224  0.972083   \n",
       "97  0.957970  3.459360  0.649747  -1.301718 -2.078744  3.588454  2.105433   \n",
       "98  0.242172  3.924376 -0.370653  -1.206914 -2.978582  2.763454  0.713786   \n",
       "99  0.915987  4.576381  0.252323   1.024382 -2.698442  3.872100  0.182478   \n",
       "\n",
       "                                  ...      0.99                       \\\n",
       "         7         8         9    ...       990        991       992   \n",
       "0  -4.162105  4.286016 -2.351048  ... -8.718065  44.119143  0.370573   \n",
       "1  -2.522172  4.637885 -1.911566  ... -7.531944  44.099067 -0.162195   \n",
       "2  -2.329323  2.710043 -1.108177  ... -7.451756  44.027991  0.781272   \n",
       "3  -0.647401  2.284547 -0.252475  ... -5.694096  44.975129  0.848352   \n",
       "4  -1.060242  1.963660 -0.263509  ... -5.936808  44.780946 -0.082734   \n",
       "..       ...       ...       ...  ...       ...        ...       ...   \n",
       "95 -1.808907 -1.924808  1.128204  ... -2.670368  17.461672 -2.340941   \n",
       "96 -0.519400 -2.693591 -1.261914  ... -1.633812  16.356744 -3.218436   \n",
       "97 -1.170380 -3.882556 -1.205347  ... -1.748961  16.877251 -4.439233   \n",
       "98 -0.327792 -2.999959 -0.730942  ... -1.353059  16.537881 -3.461106   \n",
       "99 -0.619217 -4.194157 -0.844803  ... -1.814390  15.012232 -3.846095   \n",
       "\n",
       "                                                                               \n",
       "          993        994        995        996        997       998       999  \n",
       "0   81.868451  20.994701 -77.155854  76.273059  56.092066  5.466208  3.419519  \n",
       "1   80.661808  21.118750 -76.319889  76.481682  55.592441  6.185294  3.088371  \n",
       "2   79.371793  20.788682 -75.433151  76.701924  54.674278  7.307659  4.931680  \n",
       "3   77.982080  21.195203 -74.694080  73.898139  53.043429  8.263241  4.938265  \n",
       "4   77.041767  19.808860 -74.906235  73.377980  54.187475  8.002883  3.259295  \n",
       "..        ...        ...        ...        ...        ...       ...       ...  \n",
       "95  39.596400  10.576894 -36.392958  41.653175  23.011830  2.926174  5.308757  \n",
       "96  38.324433  12.421234 -35.547406  43.014952  22.695630  2.898280  5.396018  \n",
       "97  39.297448  11.741027 -34.641486  42.023845  22.467684 -0.000109  4.745897  \n",
       "98  37.905362  10.166852 -33.994131  40.350470  21.717750 -1.075602  5.884478  \n",
       "99  38.545165  10.946685 -34.023774  41.845718  23.153918 -1.121268  6.139031  \n",
       "\n",
       "[100 rows x 10000 columns]"
      ],
      "text/html": "<div>\n<style scoped>\n    .dataframe tbody tr th:only-of-type {\n        vertical-align: middle;\n    }\n\n    .dataframe tbody tr th {\n        vertical-align: top;\n    }\n\n    .dataframe thead tr th {\n        text-align: left;\n    }\n</style>\n<table border=\"1\" class=\"dataframe\">\n  <thead>\n    <tr>\n      <th></th>\n      <th colspan=\"10\" halign=\"left\">0.90</th>\n      <th>...</th>\n      <th colspan=\"10\" halign=\"left\">0.99</th>\n    </tr>\n    <tr>\n      <th></th>\n      <th>0</th>\n      <th>1</th>\n      <th>2</th>\n      <th>3</th>\n      <th>4</th>\n      <th>5</th>\n      <th>6</th>\n      <th>7</th>\n      <th>8</th>\n      <th>9</th>\n      <th>...</th>\n      <th>990</th>\n      <th>991</th>\n      <th>992</th>\n      <th>993</th>\n      <th>994</th>\n      <th>995</th>\n      <th>996</th>\n      <th>997</th>\n      <th>998</th>\n      <th>999</th>\n    </tr>\n  </thead>\n  <tbody>\n    <tr>\n      <th>0</th>\n      <td>8.549186</td>\n      <td>-2.353308</td>\n      <td>-2.109885</td>\n      <td>10.872544</td>\n      <td>-6.876495</td>\n      <td>-9.049445</td>\n      <td>-5.647180</td>\n      <td>-4.162105</td>\n      <td>4.286016</td>\n      <td>-2.351048</td>\n      <td>...</td>\n      <td>-8.718065</td>\n      <td>44.119143</td>\n      <td>0.370573</td>\n      <td>81.868451</td>\n      <td>20.994701</td>\n      <td>-77.155854</td>\n      <td>76.273059</td>\n      <td>56.092066</td>\n      <td>5.466208</td>\n      <td>3.419519</td>\n    </tr>\n    <tr>\n      <th>1</th>\n      <td>7.082511</td>\n      <td>-0.893470</td>\n      <td>-1.074891</td>\n      <td>8.314132</td>\n      <td>-6.112465</td>\n      <td>-8.087379</td>\n      <td>-4.587304</td>\n      <td>-2.522172</td>\n      <td>4.637885</td>\n      <td>-1.911566</td>\n      <td>...</td>\n      <td>-7.531944</td>\n      <td>44.099067</td>\n      <td>-0.162195</td>\n      <td>80.661808</td>\n      <td>21.118750</td>\n      <td>-76.319889</td>\n      <td>76.481682</td>\n      <td>55.592441</td>\n      <td>6.185294</td>\n      <td>3.088371</td>\n    </tr>\n    <tr>\n      <th>2</th>\n      <td>5.846088</td>\n      <td>-0.400631</td>\n      <td>-1.529707</td>\n      <td>6.652547</td>\n      <td>-5.133987</td>\n      <td>-8.078189</td>\n      <td>-5.080635</td>\n      <td>-2.329323</td>\n      <td>2.710043</td>\n      <td>-1.108177</td>\n      <td>...</td>\n      <td>-7.451756</td>\n      <td>44.027991</td>\n      <td>0.781272</td>\n      <td>79.371793</td>\n      <td>20.788682</td>\n      <td>-75.433151</td>\n      <td>76.701924</td>\n      <td>54.674278</td>\n      <td>7.307659</td>\n      <td>4.931680</td>\n    </tr>\n    <tr>\n      <th>3</th>\n      <td>4.188511</td>\n      <td>0.233011</td>\n      <td>0.578141</td>\n      <td>5.106715</td>\n      <td>-3.387689</td>\n      <td>-7.561964</td>\n      <td>-5.090717</td>\n      <td>-0.647401</td>\n      <td>2.284547</td>\n      <td>-0.252475</td>\n      <td>...</td>\n      <td>-5.694096</td>\n      <td>44.975129</td>\n      <td>0.848352</td>\n      <td>77.982080</td>\n      <td>21.195203</td>\n      <td>-74.694080</td>\n      <td>73.898139</td>\n      <td>53.043429</td>\n      <td>8.263241</td>\n      <td>4.938265</td>\n    </tr>\n    <tr>\n      <th>4</th>\n      <td>4.635067</td>\n      <td>-0.885202</td>\n      <td>-0.811624</td>\n      <td>4.316946</td>\n      <td>-3.471777</td>\n      <td>-7.064751</td>\n      <td>-6.043049</td>\n      <td>-1.060242</td>\n      <td>1.963660</td>\n      <td>-0.263509</td>\n      <td>...</td>\n      <td>-5.936808</td>\n      <td>44.780946</td>\n      <td>-0.082734</td>\n      <td>77.041767</td>\n      <td>19.808860</td>\n      <td>-74.906235</td>\n      <td>73.377980</td>\n      <td>54.187475</td>\n      <td>8.002883</td>\n      <td>3.259295</td>\n    </tr>\n    <tr>\n      <th>...</th>\n      <td>...</td>\n      <td>...</td>\n      <td>...</td>\n      <td>...</td>\n      <td>...</td>\n      <td>...</td>\n      <td>...</td>\n      <td>...</td>\n      <td>...</td>\n      <td>...</td>\n      <td>...</td>\n      <td>...</td>\n      <td>...</td>\n      <td>...</td>\n      <td>...</td>\n      <td>...</td>\n      <td>...</td>\n      <td>...</td>\n      <td>...</td>\n      <td>...</td>\n      <td>...</td>\n    </tr>\n    <tr>\n      <th>95</th>\n      <td>1.510915</td>\n      <td>3.082705</td>\n      <td>-0.630365</td>\n      <td>-0.662332</td>\n      <td>-0.392159</td>\n      <td>2.477270</td>\n      <td>-0.051633</td>\n      <td>-1.808907</td>\n      <td>-1.924808</td>\n      <td>1.128204</td>\n      <td>...</td>\n      <td>-2.670368</td>\n      <td>17.461672</td>\n      <td>-2.340941</td>\n      <td>39.596400</td>\n      <td>10.576894</td>\n      <td>-36.392958</td>\n      <td>41.653175</td>\n      <td>23.011830</td>\n      <td>2.926174</td>\n      <td>5.308757</td>\n    </tr>\n    <tr>\n      <th>96</th>\n      <td>1.015970</td>\n      <td>3.376754</td>\n      <td>-0.150026</td>\n      <td>-2.469259</td>\n      <td>0.175937</td>\n      <td>2.891224</td>\n      <td>0.972083</td>\n      <td>-0.519400</td>\n      <td>-2.693591</td>\n      <td>-1.261914</td>\n      <td>...</td>\n      <td>-1.633812</td>\n      <td>16.356744</td>\n      <td>-3.218436</td>\n      <td>38.324433</td>\n      <td>12.421234</td>\n      <td>-35.547406</td>\n      <td>43.014952</td>\n      <td>22.695630</td>\n      <td>2.898280</td>\n      <td>5.396018</td>\n    </tr>\n    <tr>\n      <th>97</th>\n      <td>0.957970</td>\n      <td>3.459360</td>\n      <td>0.649747</td>\n      <td>-1.301718</td>\n      <td>-2.078744</td>\n      <td>3.588454</td>\n      <td>2.105433</td>\n      <td>-1.170380</td>\n      <td>-3.882556</td>\n      <td>-1.205347</td>\n      <td>...</td>\n      <td>-1.748961</td>\n      <td>16.877251</td>\n      <td>-4.439233</td>\n      <td>39.297448</td>\n      <td>11.741027</td>\n      <td>-34.641486</td>\n      <td>42.023845</td>\n      <td>22.467684</td>\n      <td>-0.000109</td>\n      <td>4.745897</td>\n    </tr>\n    <tr>\n      <th>98</th>\n      <td>0.242172</td>\n      <td>3.924376</td>\n      <td>-0.370653</td>\n      <td>-1.206914</td>\n      <td>-2.978582</td>\n      <td>2.763454</td>\n      <td>0.713786</td>\n      <td>-0.327792</td>\n      <td>-2.999959</td>\n      <td>-0.730942</td>\n      <td>...</td>\n      <td>-1.353059</td>\n      <td>16.537881</td>\n      <td>-3.461106</td>\n      <td>37.905362</td>\n      <td>10.166852</td>\n      <td>-33.994131</td>\n      <td>40.350470</td>\n      <td>21.717750</td>\n      <td>-1.075602</td>\n      <td>5.884478</td>\n    </tr>\n    <tr>\n      <th>99</th>\n      <td>0.915987</td>\n      <td>4.576381</td>\n      <td>0.252323</td>\n      <td>1.024382</td>\n      <td>-2.698442</td>\n      <td>3.872100</td>\n      <td>0.182478</td>\n      <td>-0.619217</td>\n      <td>-4.194157</td>\n      <td>-0.844803</td>\n      <td>...</td>\n      <td>-1.814390</td>\n      <td>15.012232</td>\n      <td>-3.846095</td>\n      <td>38.545165</td>\n      <td>10.946685</td>\n      <td>-34.023774</td>\n      <td>41.845718</td>\n      <td>23.153918</td>\n      <td>-1.121268</td>\n      <td>6.139031</td>\n    </tr>\n  </tbody>\n</table>\n<p>100 rows × 10000 columns</p>\n</div>"
     },
     "metadata": {},
     "execution_count": 101
    }
   ],
   "source": [
    "true_100"
   ]
  },
  {
   "cell_type": "code",
   "execution_count": 130,
   "metadata": {
    "tags": []
   },
   "outputs": [
    {
     "output_type": "stream",
     "name": "stdout",
     "text": [
      "0.9\n",
      "0.91\n",
      "0.92\n",
      "0.93\n",
      "0.94\n",
      "0.95\n",
      "0.96\n",
      "0.97\n",
      "0.98\n",
      "0.99\n"
     ]
    }
   ],
   "source": [
    "## discarded first attempt\n",
    "\n",
    "cv = norm.ppf(0.95)\n",
    "theta_100 = []\n",
    "dm_100 = []\n",
    "\n",
    "for rho in r:\n",
    "    print(rho)\n",
    "    for col in true_100[rho]:\n",
    "        x = sm.add_constant((true_100[rho][col][:half_100]).shift(1).dropna())\n",
    "        y  = (true_100[rho][col]).iloc[1:half_100]\n",
    "        res = sm.OLS(y,x).fit()\n",
    "        rho = float(rho)\n",
    "        col = pd.Series(col)\n",
    "        const, theta = res.params\n",
    "        theta_100.append(theta)\n",
    "\n",
    "        # Random Walk Forecasting\n",
    "\n",
    "        start = 0\n",
    "        run_holder = []\n",
    "        run_holder.append(start)\n",
    "\n",
    "        for i in range(50):\n",
    "            shock = rg.standard_normal()\n",
    "            last_val = run_holder[-1]\n",
    "            new_val = last_val  + shock\n",
    "            run_holder.append(new_val)\n",
    "\n",
    "        run_holder = pd.Series(run_holder)\n",
    "\n",
    "        # Model Evaluation\n",
    "        c = 0\n",
    "        realisations_100 = (true_100[rho][c][half_100-1:]).shift(1).dropna()\n",
    "        c +=1\n",
    "\n",
    "        forecasts = realisations_100.shift(1) * theta\n",
    "        loss_run = run_holder.subtract(realisations_100,axis=0) **2\n",
    "        loss_forecasts = forecasts.subtract(realisations_100,axis=0) **2\n",
    "\n",
    "        #nw = (50) ** (1/3)\n",
    "        dm_result = diebold_mariano(loss_run,loss_forecasts,1,cv)\n",
    "        dm_100.append(dm_result)\n",
    "\n",
    "        \n",
    "\n",
    "\n",
    "\n",
    "\n",
    "\n"
   ]
  },
  {
   "source": [
    "Question 1 \n",
    "--"
   ],
   "cell_type": "markdown",
   "metadata": {}
  },
  {
   "source": [
    "Sample Size 100\n",
    "--"
   ],
   "cell_type": "markdown",
   "metadata": {}
  },
  {
   "cell_type": "code",
   "execution_count": 288,
   "metadata": {},
   "outputs": [
    {
     "output_type": "stream",
     "name": "stdout",
     "text": [
      "0.9\n",
      "0.91\n",
      "0.92\n",
      "0.93\n",
      "0.94\n",
      "0.95\n",
      "0.96\n",
      "0.97\n",
      "0.98\n",
      "0.99\n"
     ]
    }
   ],
   "source": [
    "# current best progress\n",
    "\n",
    "cv = norm.ppf(0.975)\n",
    "theta_100 = []\n",
    "dm_100 = []\n",
    "\n",
    "for rho in r:\n",
    "    print(rho)\n",
    "    c = 0\n",
    "    for col in true_100[rho]:\n",
    "        x = sm.add_constant((true_100[rho][col][:half_100]).shift(1).dropna())\n",
    "        y  = (true_100[rho][col]).iloc[1:half_100]\n",
    "        res = sm.OLS(y,x).fit()\n",
    "        rho = float(rho)\n",
    "        col = pd.Series(col)\n",
    "        const, theta = res.params\n",
    "        theta_100.append(theta)\n",
    "\n",
    "            # Random Walk Forecasting\n",
    "        \n",
    "\n",
    "        realisations = true_100[rho][c]\n",
    "\n",
    "        start = realisations[50]\n",
    "        run_holder = []\n",
    "        run_holder.append(start)\n",
    "\n",
    "        for i in range(50,99):\n",
    "            shock = rg.standard_normal()\n",
    "    \n",
    "            realise = realisations[i]\n",
    "            new_val = realise  + shock\n",
    "            run_holder.append(new_val)\n",
    "            #realisations_100.append(realise)\n",
    "            \n",
    "\n",
    "        run_holder = pd.Series(run_holder)[1:]\n",
    "        run_holder.index = range(51,100)\n",
    "        #realisations_100 = pd.Series(realisations_100)\n",
    "\n",
    "            # Model Evaluation\n",
    "        #realisations_100 = true_100[rho][c][half_100:]\n",
    "        c += 1\n",
    "\n",
    "        forecasts = (realisations[50:].shift(1) * theta).dropna()\n",
    "\n",
    "        realisations = realisations[1:]\n",
    "\n",
    "        loss_run = (run_holder.subtract(realisations,axis=0) **2).dropna()\n",
    "        loss_forecasts = (forecasts.subtract(realisations,axis=0) **2).dropna()\n",
    "\n",
    "\n",
    "        nw = (50) ** (1/3)\n",
    "        dm_result = diebold_mariano(loss_run,loss_forecasts,nw,cv)\n",
    "        dm_100.append(dm_result)"
   ]
  },
  {
   "cell_type": "code",
   "execution_count": 306,
   "metadata": {},
   "outputs": [],
   "source": [
    "dm_100s = pd.Series(dm_100)\n",
    "theta_100s = pd.Series(theta_100)"
   ]
  },
  {
   "cell_type": "code",
   "execution_count": 307,
   "metadata": {},
   "outputs": [
    {
     "output_type": "execute_result",
     "data": {
      "text/plain": [
       "      Diebold     theta\n",
       "0           0  0.797509\n",
       "1           0  0.799461\n",
       "2           0  0.871458\n",
       "3           0  0.910403\n",
       "4           0  0.893469\n",
       "...       ...       ...\n",
       "9995        0  0.982971\n",
       "9996        1  0.964819\n",
       "9997        0  0.970669\n",
       "9998        0  1.005429\n",
       "9999        0  0.948134\n",
       "\n",
       "[10000 rows x 2 columns]"
      ],
      "text/html": "<div>\n<style scoped>\n    .dataframe tbody tr th:only-of-type {\n        vertical-align: middle;\n    }\n\n    .dataframe tbody tr th {\n        vertical-align: top;\n    }\n\n    .dataframe thead th {\n        text-align: right;\n    }\n</style>\n<table border=\"1\" class=\"dataframe\">\n  <thead>\n    <tr style=\"text-align: right;\">\n      <th></th>\n      <th>Diebold</th>\n      <th>theta</th>\n    </tr>\n  </thead>\n  <tbody>\n    <tr>\n      <th>0</th>\n      <td>0</td>\n      <td>0.797509</td>\n    </tr>\n    <tr>\n      <th>1</th>\n      <td>0</td>\n      <td>0.799461</td>\n    </tr>\n    <tr>\n      <th>2</th>\n      <td>0</td>\n      <td>0.871458</td>\n    </tr>\n    <tr>\n      <th>3</th>\n      <td>0</td>\n      <td>0.910403</td>\n    </tr>\n    <tr>\n      <th>4</th>\n      <td>0</td>\n      <td>0.893469</td>\n    </tr>\n    <tr>\n      <th>...</th>\n      <td>...</td>\n      <td>...</td>\n    </tr>\n    <tr>\n      <th>9995</th>\n      <td>0</td>\n      <td>0.982971</td>\n    </tr>\n    <tr>\n      <th>9996</th>\n      <td>1</td>\n      <td>0.964819</td>\n    </tr>\n    <tr>\n      <th>9997</th>\n      <td>0</td>\n      <td>0.970669</td>\n    </tr>\n    <tr>\n      <th>9998</th>\n      <td>0</td>\n      <td>1.005429</td>\n    </tr>\n    <tr>\n      <th>9999</th>\n      <td>0</td>\n      <td>0.948134</td>\n    </tr>\n  </tbody>\n</table>\n<p>10000 rows × 2 columns</p>\n</div>"
     },
     "metadata": {},
     "execution_count": 307
    }
   ],
   "source": [
    "ss_100 = pd.concat([dm_100s,theta_100s],1)\n",
    "ss_100.columns = [\"Diebold\", \"theta\"]\n",
    "ss_100"
   ]
  },
  {
   "cell_type": "code",
   "execution_count": 330,
   "metadata": {},
   "outputs": [
    {
     "output_type": "execute_result",
     "data": {
      "text/plain": [
       "<class 'statsmodels.iolib.summary.Summary'>\n",
       "\"\"\"\n",
       "                                 OLS Regression Results                                \n",
       "=======================================================================================\n",
       "Dep. Variable:                Diebold   R-squared (uncentered):                   0.018\n",
       "Model:                            OLS   Adj. R-squared (uncentered):              0.018\n",
       "Method:                 Least Squares   F-statistic:                              185.5\n",
       "Date:                Wed, 10 Mar 2021   Prob (F-statistic):                    7.19e-42\n",
       "Time:                        20:55:14   Log-Likelihood:                          5101.0\n",
       "No. Observations:               10000   AIC:                                 -1.020e+04\n",
       "Df Residuals:                    9999   BIC:                                 -1.019e+04\n",
       "Df Model:                           1                                                  \n",
       "Covariance Type:            nonrobust                                                  \n",
       "==============================================================================\n",
       "                 coef    std err          t      P>|t|      [0.025      0.975]\n",
       "------------------------------------------------------------------------------\n",
       "theta          0.0223      0.002     13.620      0.000       0.019       0.025\n",
       "==============================================================================\n",
       "Omnibus:                    11807.534   Durbin-Watson:                   1.802\n",
       "Prob(Omnibus):                  0.000   Jarque-Bera (JB):           790832.018\n",
       "Skew:                           6.596   Prob(JB):                         0.00\n",
       "Kurtosis:                      44.520   Cond. No.                         1.00\n",
       "==============================================================================\n",
       "\n",
       "Notes:\n",
       "[1] R² is computed without centering (uncentered) since the model does not contain a constant.\n",
       "[2] Standard Errors assume that the covariance matrix of the errors is correctly specified.\n",
       "\"\"\""
      ],
      "text/html": "<table class=\"simpletable\">\n<caption>OLS Regression Results</caption>\n<tr>\n  <th>Dep. Variable:</th>         <td>Diebold</td>     <th>  R-squared (uncentered):</th>       <td>   0.018</td> \n</tr>\n<tr>\n  <th>Model:</th>                   <td>OLS</td>       <th>  Adj. R-squared (uncentered):</th>  <td>   0.018</td> \n</tr>\n<tr>\n  <th>Method:</th>             <td>Least Squares</td>  <th>  F-statistic:       </th>           <td>   185.5</td> \n</tr>\n<tr>\n  <th>Date:</th>             <td>Wed, 10 Mar 2021</td> <th>  Prob (F-statistic):</th>           <td>7.19e-42</td> \n</tr>\n<tr>\n  <th>Time:</th>                 <td>20:55:14</td>     <th>  Log-Likelihood:    </th>           <td>  5101.0</td> \n</tr>\n<tr>\n  <th>No. Observations:</th>      <td> 10000</td>      <th>  AIC:               </th>          <td>-1.020e+04</td>\n</tr>\n<tr>\n  <th>Df Residuals:</th>          <td>  9999</td>      <th>  BIC:               </th>          <td>-1.019e+04</td>\n</tr>\n<tr>\n  <th>Df Model:</th>              <td>     1</td>      <th>                     </th>               <td> </td>    \n</tr>\n<tr>\n  <th>Covariance Type:</th>      <td>nonrobust</td>    <th>                     </th>               <td> </td>    \n</tr>\n</table>\n<table class=\"simpletable\">\n<tr>\n    <td></td>       <th>coef</th>     <th>std err</th>      <th>t</th>      <th>P>|t|</th>  <th>[0.025</th>    <th>0.975]</th>  \n</tr>\n<tr>\n  <th>theta</th> <td>    0.0223</td> <td>    0.002</td> <td>   13.620</td> <td> 0.000</td> <td>    0.019</td> <td>    0.025</td>\n</tr>\n</table>\n<table class=\"simpletable\">\n<tr>\n  <th>Omnibus:</th>       <td>11807.534</td> <th>  Durbin-Watson:     </th>  <td>   1.802</td> \n</tr>\n<tr>\n  <th>Prob(Omnibus):</th>  <td> 0.000</td>   <th>  Jarque-Bera (JB):  </th> <td>790832.018</td>\n</tr>\n<tr>\n  <th>Skew:</th>           <td> 6.596</td>   <th>  Prob(JB):          </th>  <td>    0.00</td> \n</tr>\n<tr>\n  <th>Kurtosis:</th>       <td>44.520</td>   <th>  Cond. No.          </th>  <td>    1.00</td> \n</tr>\n</table><br/><br/>Notes:<br/>[1] R² is computed without centering (uncentered) since the model does not contain a constant.<br/>[2] Standard Errors assume that the covariance matrix of the errors is correctly specified."
     },
     "metadata": {},
     "execution_count": 330
    }
   ],
   "source": [
    "y = ss_100[\"Diebold\"]\n",
    "x = sm.add_constant(ss_100[\"theta\"])\n",
    "res = sm.OLS(y,ss_100[\"theta\"]).fit()\n",
    "res.summary()\n",
    "###  0.1965 - theta * 0.1976"
   ]
  },
  {
   "source": [
    "Sample size 500\n",
    "----"
   ],
   "cell_type": "markdown",
   "metadata": {}
  },
  {
   "cell_type": "code",
   "execution_count": null,
   "metadata": {},
   "outputs": [],
   "source": []
  },
  {
   "cell_type": "code",
   "execution_count": null,
   "metadata": {},
   "outputs": [],
   "source": []
  },
  {
   "cell_type": "code",
   "execution_count": null,
   "metadata": {},
   "outputs": [],
   "source": []
  },
  {
   "cell_type": "code",
   "execution_count": null,
   "metadata": {},
   "outputs": [],
   "source": []
  },
  {
   "cell_type": "code",
   "execution_count": null,
   "metadata": {},
   "outputs": [],
   "source": []
  },
  {
   "cell_type": "code",
   "execution_count": 163,
   "metadata": {
    "tags": []
   },
   "outputs": [],
   "source": [
    "# holder\n",
    "\n",
    "\"\"\"\n",
    "cv = norm.ppf(0.95)\n",
    "theta_100 = []\n",
    "dm_100 = []    \n",
    "for col in true_100[rho]:\n",
    "    x = sm.add_constant((true_100[0.99][col][:half_100]).shift(1).dropna())\n",
    "    y  = (true_100[0.99][col]).iloc[1:half_100]\n",
    "    res = sm.OLS(y,x).fit()\n",
    "    rho = float(0.99)\n",
    "    col = pd.Series(col)\n",
    "    const, theta = res.params\n",
    "    theta_100.append(theta)\n",
    "\n",
    "        # Random Walk Forecasting\n",
    "\n",
    "    start = 0\n",
    "    run_holder = []\n",
    "    run_holder.append(start)\n",
    "\n",
    "    for i in range(52,100):\n",
    "        shock = rg.standard_normal()\n",
    "        last_val = run_holder[-1]\n",
    "        new_val = last_val  + shock\n",
    "        run_holder.append(new_val)\n",
    "\n",
    "    run_holder = pd.Series(run_holder)\n",
    "    run_holder.index = range(51,100)\n",
    "\n",
    "        # Model Evaluation\n",
    "    c = 0\n",
    "    realisations_100 = true_100[rho][c][half_100:]\n",
    "    c +=1\n",
    "\n",
    "    forecasts = (realisations_100.shift(1) * theta).dropna()\n",
    "\n",
    "\n",
    "    loss_run = (run_holder.subtract(realisations_100,axis=0) **2).dropna()\n",
    "    loss_forecasts = (forecasts.subtract(realisations_100,axis=0) **2).dropna()\n",
    "\n",
    "\n",
    "    nw = (50) ** (1/3)\n",
    "    dm_result = diebold_mariano(loss_run,loss_forecasts,nw,cv)\n",
    "    dm_100.append(dm_result)\n",
    "\"\"\""
   ]
  }
 ]
}