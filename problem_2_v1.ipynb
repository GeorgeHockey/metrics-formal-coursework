{
 "metadata": {
  "language_info": {
   "codemirror_mode": {
    "name": "ipython",
    "version": 3
   },
   "file_extension": ".py",
   "mimetype": "text/x-python",
   "name": "python",
   "nbconvert_exporter": "python",
   "pygments_lexer": "ipython3",
   "version": "3.7.9-final"
  },
  "orig_nbformat": 2,
  "kernelspec": {
   "name": "python3",
   "display_name": "Python 3.7.9 64-bit ('MFE python': conda)",
   "metadata": {
    "interpreter": {
     "hash": "d2abda032430ffbc656d36de28140b876fb0a600bf8f2bf4c03584f925a462e8"
    }
   }
  }
 },
 "nbformat": 4,
 "nbformat_minor": 2,
 "cells": [
  {
   "cell_type": "code",
   "execution_count": 2,
   "metadata": {},
   "outputs": [],
   "source": [
    "import pandas as pd\n",
    "import numpy as np"
   ]
  },
  {
   "cell_type": "code",
   "execution_count": 51,
   "metadata": {},
   "outputs": [],
   "source": [
    "rg = np.random.RandomState(10)"
   ]
  },
  {
   "cell_type": "code",
   "execution_count": null,
   "metadata": {},
   "outputs": [],
   "source": [
    "                       true[(rho,size,run,0)]= start\n",
    "                yt_1 = true[(rho,size,run,i-1)]\n",
    "                yt = rho * yt_1 + shock\n",
    "                true[(rho,size,run,i)] = (yt)"
   ]
  },
  {
   "cell_type": "code",
   "execution_count": 52,
   "metadata": {},
   "outputs": [],
   "source": [
    "# True simulated data ## Sample size 100\n",
    "rg = np.random.RandomState(1)\n",
    "\n",
    "r = [0.90, 0.91, 0.92, 0.93, 0.94, 0.95, 0.96, 0.97, 0.98, 0.99]\n",
    "runs = 1000\n",
    "true_100 = {}\n",
    "size = 100\n",
    "\n",
    "for rho in r:\n",
    "    for run in range(runs):\n",
    "        start = rg.normal(0,1/(1-rho**2))\n",
    "        run_holder = []\n",
    "        run_holder.append(start)\n",
    "            \n",
    "        for i in range(1,size):\n",
    "            shock = rg.standard_normal()\n",
    "            last_val = run_holder[-1]\n",
    "            new_val = last_val * rho + shock\n",
    "            run_holder.append(new_val)\n",
    "            \n",
    "        true_100[(rho,run)]= run_holder"
   ]
  },
  {
   "cell_type": "code",
   "execution_count": 53,
   "metadata": {},
   "outputs": [],
   "source": [
    "# True simulated data ## Sample size 250\n",
    "rg = np.random.RandomState(1)\n",
    "\n",
    "r = [0.90, 0.91, 0.92, 0.93, 0.94, 0.95, 0.96, 0.97, 0.98, 0.99]\n",
    "runs = 1000\n",
    "true_250 = {}\n",
    "size = 250\n",
    "\n",
    "for rho in r:\n",
    "    for run in range(runs):\n",
    "        start = rg.normal(0,1/(1-rho**2))\n",
    "        run_holder = []\n",
    "        run_holder.append(start)\n",
    "            \n",
    "        for i in range(1,size):\n",
    "            shock = rg.standard_normal()\n",
    "            last_val = run_holder[-1]\n",
    "            new_val = last_val * rho + shock\n",
    "            run_holder.append(new_val)\n",
    "            \n",
    "        true_250[(rho,run)]= run_holder"
   ]
  },
  {
   "cell_type": "code",
   "execution_count": 54,
   "metadata": {},
   "outputs": [],
   "source": [
    "# True simulated data ## Sample size 500\n",
    "rg = np.random.RandomState(1)\n",
    "\n",
    "r = [0.90, 0.91, 0.92, 0.93, 0.94, 0.95, 0.96, 0.97, 0.98, 0.99]\n",
    "runs = 1000\n",
    "true_500 = {}\n",
    "size = 500\n",
    "\n",
    "for rho in r:\n",
    "    for run in range(runs):\n",
    "        start = rg.normal(0,1/(1-rho**2))\n",
    "        run_holder = []\n",
    "        run_holder.append(start)\n",
    "            \n",
    "        for i in range(1,size):\n",
    "            shock = rg.standard_normal()\n",
    "            last_val = run_holder[-1]\n",
    "            new_val = last_val * rho + shock\n",
    "            run_holder.append(new_val)\n",
    "\n",
    "        true_500[(rho,run)]= run_holder"
   ]
  },
  {
   "cell_type": "code",
   "execution_count": 58,
   "metadata": {},
   "outputs": [],
   "source": [
    "true_100 = pd.DataFrame(true_100)\n",
    "true_250 = pd.DataFrame(true_250)\n",
    "true_500 = pd.DataFrame(true_500)"
   ]
  },
  {
   "cell_type": "code",
   "execution_count": 62,
   "metadata": {},
   "outputs": [],
   "source": [
    "half_100 = len(true_100) // 2\n",
    "half_250 = len(true_250) // 2\n",
    "half_500 = len(true_500) // 2"
   ]
  },
  {
   "cell_type": "code",
   "execution_count": null,
   "metadata": {},
   "outputs": [],
   "source": []
  },
  {
   "cell_type": "code",
   "execution_count": null,
   "metadata": {},
   "outputs": [],
   "source": []
  }
 ]
}