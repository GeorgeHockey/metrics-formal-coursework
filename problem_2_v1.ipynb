{
 "metadata": {
  "language_info": {
   "codemirror_mode": {
    "name": "ipython",
    "version": 3
   },
   "file_extension": ".py",
   "mimetype": "text/x-python",
   "name": "python",
   "nbconvert_exporter": "python",
   "pygments_lexer": "ipython3",
   "version": "3.9.0-final"
  },
  "orig_nbformat": 2,
  "kernelspec": {
   "name": "python3",
   "display_name": "Python 3.9.0 64-bit",
   "metadata": {
    "interpreter": {
     "hash": "7812ea015bdcee6f23a998adcdd2ef97c151c0c241b7b7070987d9313e41299d"
    }
   }
  }
 },
 "nbformat": 4,
 "nbformat_minor": 2,
 "cells": [
  {
   "cell_type": "code",
   "execution_count": 8,
   "metadata": {},
   "outputs": [],
   "source": [
    "import statsmodels.api as sm"
   ]
  },
  {
   "cell_type": "code",
   "execution_count": 426,
   "metadata": {},
   "outputs": [],
   "source": [
    "import pandas as pd\n",
    "import numpy as np\n",
    "from statsmodels.tsa.ar_model import AutoReg\n",
    "import matplotlib.pyplot as plt\n",
    "import seaborn as sns\n",
    "%matplotlib inline"
   ]
  },
  {
   "cell_type": "code",
   "execution_count": 544,
   "metadata": {},
   "outputs": [],
   "source": [
    "from scipy.stats import norm\n",
    "import numpy as np\n",
    "import pandas as pd\n",
    "from scipy.stats import sem\n",
    "import statsmodels.api as sm\n",
    "\n",
    "def diebold_mariano(loss_a, loss_b, nw_bandwidth,cv):\n",
    "    delta = loss_a - loss_b\n",
    "    mod = sm.OLS(delta, np.ones_like(delta))\n",
    "    dm_res = mod.fit(cov_type=\"HAC\", cov_kwds={\"maxlags\":int(nw_bandwidth)})\n",
    "    av_diff = delta.mean()\n",
    "    a  = dm_res.bse[0]\n",
    "    dm_stat = float(av_diff / a)  \n",
    "\n",
    "    #cv = norm.ppf(0.975)\n",
    "\n",
    "    if dm_stat < (cv * -1):\n",
    "        concl = 1\n",
    "    else:\n",
    "        concl = 0\n",
    "\n",
    "\n",
    "    return concl"
   ]
  },
  {
   "cell_type": "code",
   "execution_count": 423,
   "metadata": {},
   "outputs": [],
   "source": [
    "DEFAULT_FIGSIZE = (48,18)\n",
    "plt.rc(\"figure\", figsize=DEFAULT_FIGSIZE)\n",
    "plt.rc(\"font\", size=48)\n",
    "\n",
    "\n",
    "\n",
    "\n",
    "\"\"\"\n",
    "def figsize(x=DEFAULT_FIGSIZE[0], y=DEFAULT_FIGSIZE[1]):\n",
    "    if x <= 0:\n",
    "        x += DEFAULT_FIGSIZE[0]\n",
    "    if y <= 0:\n",
    "        y += DEFAULT_FIGSIZE[1]\n",
    "    plt.rc(\"figure\", figsize=(x, y))\n",
    "\"\"\"\n",
    "\n",
    "def plot(s, y=DEFAULT_FIGSIZE):\n",
    "    #figsize(y=y)\n",
    "    fig, ax = plt.subplots(1, 1)\n",
    "    if isinstance(s, pd.Series):\n",
    "        s.plot(ax=ax, legend=False, color=[\"orange\"])\n",
    "    else:\n",
    "        s.plot(ax=ax, legend=False)\n",
    "        fig.legend(frameon=False)\n",
    "    \n",
    "    ax.set_xlabel(None)\n",
    "    ax.set_xlim(s.index[0], s.index[-1]) #s.index[0]\n",
    "    sns.despine()\n",
    "    fig.tight_layout(pad=1.0)\n",
    "    #figsize()"
   ]
  },
  {
   "cell_type": "code",
   "execution_count": 11,
   "metadata": {},
   "outputs": [],
   "source": [
    "rg = np.random.RandomState(10)"
   ]
  },
  {
   "source": [
    "                       true[(rho,size,run,0)]= start\n",
    "                yt_1 = true[(rho,size,run,i-1)]\n",
    "                yt = rho * yt_1 + shock\n",
    "                true[(rho,size,run,i)] = (yt)"
   ],
   "cell_type": "markdown",
   "metadata": {}
  },
  {
   "cell_type": "code",
   "execution_count": 490,
   "metadata": {
    "tags": []
   },
   "outputs": [],
   "source": [
    "# True simulated data ## Sample size 100\n",
    "rg = np.random.RandomState(100)\n",
    "\n",
    "r = [0.90, 0.91, 0.92, 0.93, 0.94, 0.95, 0.96, 0.97, 0.98, 0.99]\n",
    "runs = 1000\n",
    "true_100 = {}\n",
    "size = 100\n",
    "\n",
    "for rho in r:\n",
    "    for run in range(runs):\n",
    "        start = rg.normal(0,1/(1-(rho**2)))\n",
    "        run_holder = []\n",
    "        run_holder.append(start)\n",
    "\n",
    "        for i in range(1,size):\n",
    "            shock = rg.standard_normal()\n",
    "            last_val = run_holder[-1]\n",
    "            new_val = last_val * rho + shock\n",
    "            run_holder.append(new_val)\n",
    "            \n",
    "        true_100[(rho,run)]= run_holder\n",
    "\n",
    "true_100 = pd.DataFrame(true_100)"
   ]
  },
  {
   "cell_type": "code",
   "execution_count": 469,
   "metadata": {},
   "outputs": [],
   "source": [
    "# True simulated data ## Sample size 250\n",
    "rg = np.random.RandomState(2)\n",
    "\n",
    "r = [0.90, 0.91, 0.92, 0.93, 0.94, 0.95, 0.96, 0.97, 0.98, 0.99]\n",
    "runs = 1000\n",
    "true_250 = {}\n",
    "size = 250\n",
    "\n",
    "for rho in r:\n",
    "    for run in range(runs):\n",
    "        start = rg.normal(0,1/(1-rho**2))\n",
    "        run_holder = []\n",
    "        run_holder.append(start)\n",
    "            \n",
    "        for i in range(1,size):\n",
    "            shock = rg.standard_normal()\n",
    "            last_val = run_holder[-1]\n",
    "            new_val = last_val * rho + shock\n",
    "            run_holder.append(new_val)\n",
    "            \n",
    "        true_250[(rho,run)]= run_holder\n",
    "\n",
    "true_250 = pd.DataFrame(true_250)"
   ]
  },
  {
   "cell_type": "code",
   "execution_count": 470,
   "metadata": {},
   "outputs": [],
   "source": [
    "# True simulated data ## Sample size 500\n",
    "rg = np.random.RandomState(3)\n",
    "\n",
    "r = [0.90, 0.91, 0.92, 0.93, 0.94, 0.95, 0.96, 0.97, 0.98, 0.99]\n",
    "runs = 1000\n",
    "true_500 = {}\n",
    "size = 500\n",
    "\n",
    "for rho in r:\n",
    "    for run in range(runs):\n",
    "        start = rg.normal(0,1/(1-rho**2))\n",
    "        run_holder = []\n",
    "        run_holder.append(start)\n",
    "            \n",
    "        for i in range(1,size):\n",
    "            shock = rg.standard_normal()\n",
    "            last_val = run_holder[-1]\n",
    "            new_val = last_val * rho + shock\n",
    "            run_holder.append(new_val)\n",
    "\n",
    "        true_500[(rho,run)]= run_holder\n",
    "\n",
    "true_500 = pd.DataFrame(true_500)"
   ]
  },
  {
   "cell_type": "code",
   "execution_count": 346,
   "metadata": {},
   "outputs": [],
   "source": [
    "true_100 = pd.DataFrame(true_100)\n",
    "true_250 = pd.DataFrame(true_250)\n",
    "true_500 = pd.DataFrame(true_500)"
   ]
  },
  {
   "cell_type": "code",
   "execution_count": 347,
   "metadata": {},
   "outputs": [],
   "source": [
    "half_100 = len(true_100) // 2\n",
    "half_250 = len(true_250) // 2\n",
    "half_500 = len(true_500) // 2"
   ]
  },
  {
   "cell_type": "code",
   "execution_count": 348,
   "metadata": {},
   "outputs": [
    {
     "output_type": "execute_result",
     "data": {
      "text/plain": [
       "        0.90                                                               \\\n",
       "         0         1         2          3         4         5         6     \n",
       "0   8.549186 -2.353308 -2.109885  10.872544 -6.876495 -9.049445 -5.647180   \n",
       "1   7.082511 -0.893470 -1.074891   8.314132 -6.112465 -8.087379 -4.587304   \n",
       "2   5.846088 -0.400631 -1.529707   6.652547 -5.133987 -8.078189 -5.080635   \n",
       "3   4.188511  0.233011  0.578141   5.106715 -3.387689 -7.561964 -5.090717   \n",
       "4   4.635067 -0.885202 -0.811624   4.316946 -3.471777 -7.064751 -6.043049   \n",
       "..       ...       ...       ...        ...       ...       ...       ...   \n",
       "95  1.510915  3.082705 -0.630365  -0.662332 -0.392159  2.477270 -0.051633   \n",
       "96  1.015970  3.376754 -0.150026  -2.469259  0.175937  2.891224  0.972083   \n",
       "97  0.957970  3.459360  0.649747  -1.301718 -2.078744  3.588454  2.105433   \n",
       "98  0.242172  3.924376 -0.370653  -1.206914 -2.978582  2.763454  0.713786   \n",
       "99  0.915987  4.576381  0.252323   1.024382 -2.698442  3.872100  0.182478   \n",
       "\n",
       "                                  ...      0.99                       \\\n",
       "         7         8         9    ...       990        991       992   \n",
       "0  -4.162105  4.286016 -2.351048  ... -8.718065  44.119143  0.370573   \n",
       "1  -2.522172  4.637885 -1.911566  ... -7.531944  44.099067 -0.162195   \n",
       "2  -2.329323  2.710043 -1.108177  ... -7.451756  44.027991  0.781272   \n",
       "3  -0.647401  2.284547 -0.252475  ... -5.694096  44.975129  0.848352   \n",
       "4  -1.060242  1.963660 -0.263509  ... -5.936808  44.780946 -0.082734   \n",
       "..       ...       ...       ...  ...       ...        ...       ...   \n",
       "95 -1.808907 -1.924808  1.128204  ... -2.670368  17.461672 -2.340941   \n",
       "96 -0.519400 -2.693591 -1.261914  ... -1.633812  16.356744 -3.218436   \n",
       "97 -1.170380 -3.882556 -1.205347  ... -1.748961  16.877251 -4.439233   \n",
       "98 -0.327792 -2.999959 -0.730942  ... -1.353059  16.537881 -3.461106   \n",
       "99 -0.619217 -4.194157 -0.844803  ... -1.814390  15.012232 -3.846095   \n",
       "\n",
       "                                                                               \n",
       "          993        994        995        996        997       998       999  \n",
       "0   81.868451  20.994701 -77.155854  76.273059  56.092066  5.466208  3.419519  \n",
       "1   80.661808  21.118750 -76.319889  76.481682  55.592441  6.185294  3.088371  \n",
       "2   79.371793  20.788682 -75.433151  76.701924  54.674278  7.307659  4.931680  \n",
       "3   77.982080  21.195203 -74.694080  73.898139  53.043429  8.263241  4.938265  \n",
       "4   77.041767  19.808860 -74.906235  73.377980  54.187475  8.002883  3.259295  \n",
       "..        ...        ...        ...        ...        ...       ...       ...  \n",
       "95  39.596400  10.576894 -36.392958  41.653175  23.011830  2.926174  5.308757  \n",
       "96  38.324433  12.421234 -35.547406  43.014952  22.695630  2.898280  5.396018  \n",
       "97  39.297448  11.741027 -34.641486  42.023845  22.467684 -0.000109  4.745897  \n",
       "98  37.905362  10.166852 -33.994131  40.350470  21.717750 -1.075602  5.884478  \n",
       "99  38.545165  10.946685 -34.023774  41.845718  23.153918 -1.121268  6.139031  \n",
       "\n",
       "[100 rows x 10000 columns]"
      ],
      "text/html": "<div>\n<style scoped>\n    .dataframe tbody tr th:only-of-type {\n        vertical-align: middle;\n    }\n\n    .dataframe tbody tr th {\n        vertical-align: top;\n    }\n\n    .dataframe thead tr th {\n        text-align: left;\n    }\n</style>\n<table border=\"1\" class=\"dataframe\">\n  <thead>\n    <tr>\n      <th></th>\n      <th colspan=\"10\" halign=\"left\">0.90</th>\n      <th>...</th>\n      <th colspan=\"10\" halign=\"left\">0.99</th>\n    </tr>\n    <tr>\n      <th></th>\n      <th>0</th>\n      <th>1</th>\n      <th>2</th>\n      <th>3</th>\n      <th>4</th>\n      <th>5</th>\n      <th>6</th>\n      <th>7</th>\n      <th>8</th>\n      <th>9</th>\n      <th>...</th>\n      <th>990</th>\n      <th>991</th>\n      <th>992</th>\n      <th>993</th>\n      <th>994</th>\n      <th>995</th>\n      <th>996</th>\n      <th>997</th>\n      <th>998</th>\n      <th>999</th>\n    </tr>\n  </thead>\n  <tbody>\n    <tr>\n      <th>0</th>\n      <td>8.549186</td>\n      <td>-2.353308</td>\n      <td>-2.109885</td>\n      <td>10.872544</td>\n      <td>-6.876495</td>\n      <td>-9.049445</td>\n      <td>-5.647180</td>\n      <td>-4.162105</td>\n      <td>4.286016</td>\n      <td>-2.351048</td>\n      <td>...</td>\n      <td>-8.718065</td>\n      <td>44.119143</td>\n      <td>0.370573</td>\n      <td>81.868451</td>\n      <td>20.994701</td>\n      <td>-77.155854</td>\n      <td>76.273059</td>\n      <td>56.092066</td>\n      <td>5.466208</td>\n      <td>3.419519</td>\n    </tr>\n    <tr>\n      <th>1</th>\n      <td>7.082511</td>\n      <td>-0.893470</td>\n      <td>-1.074891</td>\n      <td>8.314132</td>\n      <td>-6.112465</td>\n      <td>-8.087379</td>\n      <td>-4.587304</td>\n      <td>-2.522172</td>\n      <td>4.637885</td>\n      <td>-1.911566</td>\n      <td>...</td>\n      <td>-7.531944</td>\n      <td>44.099067</td>\n      <td>-0.162195</td>\n      <td>80.661808</td>\n      <td>21.118750</td>\n      <td>-76.319889</td>\n      <td>76.481682</td>\n      <td>55.592441</td>\n      <td>6.185294</td>\n      <td>3.088371</td>\n    </tr>\n    <tr>\n      <th>2</th>\n      <td>5.846088</td>\n      <td>-0.400631</td>\n      <td>-1.529707</td>\n      <td>6.652547</td>\n      <td>-5.133987</td>\n      <td>-8.078189</td>\n      <td>-5.080635</td>\n      <td>-2.329323</td>\n      <td>2.710043</td>\n      <td>-1.108177</td>\n      <td>...</td>\n      <td>-7.451756</td>\n      <td>44.027991</td>\n      <td>0.781272</td>\n      <td>79.371793</td>\n      <td>20.788682</td>\n      <td>-75.433151</td>\n      <td>76.701924</td>\n      <td>54.674278</td>\n      <td>7.307659</td>\n      <td>4.931680</td>\n    </tr>\n    <tr>\n      <th>3</th>\n      <td>4.188511</td>\n      <td>0.233011</td>\n      <td>0.578141</td>\n      <td>5.106715</td>\n      <td>-3.387689</td>\n      <td>-7.561964</td>\n      <td>-5.090717</td>\n      <td>-0.647401</td>\n      <td>2.284547</td>\n      <td>-0.252475</td>\n      <td>...</td>\n      <td>-5.694096</td>\n      <td>44.975129</td>\n      <td>0.848352</td>\n      <td>77.982080</td>\n      <td>21.195203</td>\n      <td>-74.694080</td>\n      <td>73.898139</td>\n      <td>53.043429</td>\n      <td>8.263241</td>\n      <td>4.938265</td>\n    </tr>\n    <tr>\n      <th>4</th>\n      <td>4.635067</td>\n      <td>-0.885202</td>\n      <td>-0.811624</td>\n      <td>4.316946</td>\n      <td>-3.471777</td>\n      <td>-7.064751</td>\n      <td>-6.043049</td>\n      <td>-1.060242</td>\n      <td>1.963660</td>\n      <td>-0.263509</td>\n      <td>...</td>\n      <td>-5.936808</td>\n      <td>44.780946</td>\n      <td>-0.082734</td>\n      <td>77.041767</td>\n      <td>19.808860</td>\n      <td>-74.906235</td>\n      <td>73.377980</td>\n      <td>54.187475</td>\n      <td>8.002883</td>\n      <td>3.259295</td>\n    </tr>\n    <tr>\n      <th>...</th>\n      <td>...</td>\n      <td>...</td>\n      <td>...</td>\n      <td>...</td>\n      <td>...</td>\n      <td>...</td>\n      <td>...</td>\n      <td>...</td>\n      <td>...</td>\n      <td>...</td>\n      <td>...</td>\n      <td>...</td>\n      <td>...</td>\n      <td>...</td>\n      <td>...</td>\n      <td>...</td>\n      <td>...</td>\n      <td>...</td>\n      <td>...</td>\n      <td>...</td>\n      <td>...</td>\n    </tr>\n    <tr>\n      <th>95</th>\n      <td>1.510915</td>\n      <td>3.082705</td>\n      <td>-0.630365</td>\n      <td>-0.662332</td>\n      <td>-0.392159</td>\n      <td>2.477270</td>\n      <td>-0.051633</td>\n      <td>-1.808907</td>\n      <td>-1.924808</td>\n      <td>1.128204</td>\n      <td>...</td>\n      <td>-2.670368</td>\n      <td>17.461672</td>\n      <td>-2.340941</td>\n      <td>39.596400</td>\n      <td>10.576894</td>\n      <td>-36.392958</td>\n      <td>41.653175</td>\n      <td>23.011830</td>\n      <td>2.926174</td>\n      <td>5.308757</td>\n    </tr>\n    <tr>\n      <th>96</th>\n      <td>1.015970</td>\n      <td>3.376754</td>\n      <td>-0.150026</td>\n      <td>-2.469259</td>\n      <td>0.175937</td>\n      <td>2.891224</td>\n      <td>0.972083</td>\n      <td>-0.519400</td>\n      <td>-2.693591</td>\n      <td>-1.261914</td>\n      <td>...</td>\n      <td>-1.633812</td>\n      <td>16.356744</td>\n      <td>-3.218436</td>\n      <td>38.324433</td>\n      <td>12.421234</td>\n      <td>-35.547406</td>\n      <td>43.014952</td>\n      <td>22.695630</td>\n      <td>2.898280</td>\n      <td>5.396018</td>\n    </tr>\n    <tr>\n      <th>97</th>\n      <td>0.957970</td>\n      <td>3.459360</td>\n      <td>0.649747</td>\n      <td>-1.301718</td>\n      <td>-2.078744</td>\n      <td>3.588454</td>\n      <td>2.105433</td>\n      <td>-1.170380</td>\n      <td>-3.882556</td>\n      <td>-1.205347</td>\n      <td>...</td>\n      <td>-1.748961</td>\n      <td>16.877251</td>\n      <td>-4.439233</td>\n      <td>39.297448</td>\n      <td>11.741027</td>\n      <td>-34.641486</td>\n      <td>42.023845</td>\n      <td>22.467684</td>\n      <td>-0.000109</td>\n      <td>4.745897</td>\n    </tr>\n    <tr>\n      <th>98</th>\n      <td>0.242172</td>\n      <td>3.924376</td>\n      <td>-0.370653</td>\n      <td>-1.206914</td>\n      <td>-2.978582</td>\n      <td>2.763454</td>\n      <td>0.713786</td>\n      <td>-0.327792</td>\n      <td>-2.999959</td>\n      <td>-0.730942</td>\n      <td>...</td>\n      <td>-1.353059</td>\n      <td>16.537881</td>\n      <td>-3.461106</td>\n      <td>37.905362</td>\n      <td>10.166852</td>\n      <td>-33.994131</td>\n      <td>40.350470</td>\n      <td>21.717750</td>\n      <td>-1.075602</td>\n      <td>5.884478</td>\n    </tr>\n    <tr>\n      <th>99</th>\n      <td>0.915987</td>\n      <td>4.576381</td>\n      <td>0.252323</td>\n      <td>1.024382</td>\n      <td>-2.698442</td>\n      <td>3.872100</td>\n      <td>0.182478</td>\n      <td>-0.619217</td>\n      <td>-4.194157</td>\n      <td>-0.844803</td>\n      <td>...</td>\n      <td>-1.814390</td>\n      <td>15.012232</td>\n      <td>-3.846095</td>\n      <td>38.545165</td>\n      <td>10.946685</td>\n      <td>-34.023774</td>\n      <td>41.845718</td>\n      <td>23.153918</td>\n      <td>-1.121268</td>\n      <td>6.139031</td>\n    </tr>\n  </tbody>\n</table>\n<p>100 rows × 10000 columns</p>\n</div>"
     },
     "metadata": {},
     "execution_count": 348
    }
   ],
   "source": [
    "true_100"
   ]
  },
  {
   "cell_type": "code",
   "execution_count": 130,
   "metadata": {
    "tags": []
   },
   "outputs": [
    {
     "output_type": "stream",
     "name": "stdout",
     "text": [
      "0.9\n",
      "0.91\n",
      "0.92\n",
      "0.93\n",
      "0.94\n",
      "0.95\n",
      "0.96\n",
      "0.97\n",
      "0.98\n",
      "0.99\n"
     ]
    }
   ],
   "source": [
    "## discarded first attempt\n",
    "\n",
    "cv = norm.ppf(0.95)\n",
    "theta_100 = []\n",
    "dm_100 = []\n",
    "\n",
    "for rho in r:\n",
    "    print(rho)\n",
    "    for col in true_100[rho]:\n",
    "        x = sm.add_constant((true_100[rho][col][:half_100]).shift(1).dropna())\n",
    "        y  = (true_100[rho][col]).iloc[1:half_100]\n",
    "        res = sm.OLS(y,x).fit()\n",
    "        rho = float(rho)\n",
    "        col = pd.Series(col)\n",
    "        const, theta = res.params\n",
    "        theta_100.append(theta)\n",
    "\n",
    "        # Random Walk Forecasting\n",
    "\n",
    "        start = 0\n",
    "        run_holder = []\n",
    "        run_holder.append(start)\n",
    "\n",
    "        for i in range(50):\n",
    "            shock = rg.standard_normal()\n",
    "            last_val = run_holder[-1]\n",
    "            new_val = last_val  + shock\n",
    "            run_holder.append(new_val)\n",
    "\n",
    "        run_holder = pd.Series(run_holder)\n",
    "\n",
    "        # Model Evaluation\n",
    "        c = 0\n",
    "        realisations_100 = (true_100[rho][c][half_100-1:]).shift(1).dropna()\n",
    "        c +=1\n",
    "\n",
    "        forecasts = realisations_100.shift(1) * theta\n",
    "        loss_run = run_holder.subtract(realisations_100,axis=0) **2\n",
    "        loss_forecasts = forecasts.subtract(realisations_100,axis=0) **2\n",
    "\n",
    "        #nw = (50) ** (1/3)\n",
    "        dm_result = diebold_mariano(loss_run,loss_forecasts,1,cv)\n",
    "        dm_100.append(dm_result)\n",
    "\n",
    "        \n",
    "\n",
    "\n",
    "\n",
    "\n",
    "\n"
   ]
  },
  {
   "cell_type": "code",
   "execution_count": 547,
   "metadata": {},
   "outputs": [
    {
     "output_type": "execute_result",
     "data": {
      "text/plain": [
       "        0.90                                                               \\\n",
       "         0          1         2         3         4         5         6     \n",
       "0  -9.209292  -8.971848  3.181177 -2.886801 -1.041038  4.610796 -0.958004   \n",
       "1  -7.945682  -9.210925  1.956028 -2.650756 -1.791607  6.305936 -1.865585   \n",
       "2  -5.998078 -11.263148  2.352449  0.787710 -1.588849  6.964045 -2.615948   \n",
       "3  -5.650707 -10.103516  1.680140  4.043142 -1.600421  6.125105 -3.298624   \n",
       "4  -4.104315  -9.342053  1.613901  5.242200 -2.510045  7.178500 -3.696283   \n",
       "..       ...        ...       ...       ...       ...       ...       ...   \n",
       "95  1.247553   3.918155 -0.100647 -0.727409  1.603297 -0.029927 -1.194967   \n",
       "96  1.046774   3.351558  0.027026 -2.703340  1.174091 -1.168713 -0.651052   \n",
       "97  0.946054   4.033667 -0.933845 -1.649220  1.358664 -0.305439 -0.519503   \n",
       "98  0.666435   3.030317 -2.721575 -1.717283 -1.049107 -0.743923 -0.555548   \n",
       "99 -1.887360   4.303452 -2.267075 -2.729966 -0.186592  0.117451  1.454437   \n",
       "\n",
       "                                  ...       0.99                        \\\n",
       "         7         8         9    ...        990        991        992   \n",
       "0   2.989176  3.980931 -0.308652  ...  15.562421  27.183948 -10.787147   \n",
       "1   2.588620  4.407127 -1.151787  ...  17.290716  29.474074 -10.351201   \n",
       "2   2.399009  4.346088 -1.159394  ...  14.984918  29.165581 -12.070950   \n",
       "3   0.997506  4.435702 -0.131658  ...  15.353114  29.254253 -10.645694   \n",
       "4   1.224782  3.539419 -0.225956  ...  16.055287  30.700781 -11.687407   \n",
       "..       ...       ...       ...  ...        ...        ...        ...   \n",
       "95 -2.039586  2.071797 -0.544452  ...  10.020872  10.053304  -5.224860   \n",
       "96 -2.339188  3.101870  0.836338  ...   9.240263   8.732156  -4.729545   \n",
       "97 -4.156175  2.335491  1.679708  ...  10.611643   9.224161  -2.426659   \n",
       "98 -3.653299  4.226688  1.724829  ...  10.373415   7.775866  -2.124919   \n",
       "99 -4.617415  4.044761  2.880680  ...  10.768790   7.537977  -1.686028   \n",
       "\n",
       "                                                                       \\\n",
       "          993        994         995        996        997        998   \n",
       "0   44.629497 -43.780255 -158.455478 -35.587279  43.088533 -41.330112   \n",
       "1   43.295864 -43.730054 -156.022595 -33.946160  42.458713 -39.893078   \n",
       "2   43.556448 -42.376387 -154.218645 -34.120150  41.742273 -39.534148   \n",
       "3   44.161517 -40.608303 -151.785242 -33.824500  43.912665 -40.912408   \n",
       "4   41.680438 -38.420450 -149.374643 -34.363519  41.711418 -41.996925   \n",
       "..        ...        ...         ...        ...        ...        ...   \n",
       "95  13.380246  -6.341043  -56.820290  -5.715974  17.068312 -18.086599   \n",
       "96  14.122254  -5.640022  -55.810961  -5.305430  15.561074 -17.628541   \n",
       "97  15.303009  -5.183960  -54.906443  -5.594503  15.164377 -17.492617   \n",
       "98  14.808101  -5.038512  -54.948158  -4.360727  15.745578 -16.866859   \n",
       "99  15.333754  -5.273298  -55.155115  -3.376157  18.415034 -16.258468   \n",
       "\n",
       "               \n",
       "          999  \n",
       "0  -11.446349  \n",
       "1  -11.019682  \n",
       "2  -11.576427  \n",
       "3  -11.662458  \n",
       "4  -10.542675  \n",
       "..        ...  \n",
       "95 -14.681921  \n",
       "96 -13.161820  \n",
       "97 -12.909198  \n",
       "98 -11.731903  \n",
       "99 -12.407977  \n",
       "\n",
       "[100 rows x 10000 columns]"
      ],
      "text/html": "<div>\n<style scoped>\n    .dataframe tbody tr th:only-of-type {\n        vertical-align: middle;\n    }\n\n    .dataframe tbody tr th {\n        vertical-align: top;\n    }\n\n    .dataframe thead tr th {\n        text-align: left;\n    }\n</style>\n<table border=\"1\" class=\"dataframe\">\n  <thead>\n    <tr>\n      <th></th>\n      <th colspan=\"10\" halign=\"left\">0.90</th>\n      <th>...</th>\n      <th colspan=\"10\" halign=\"left\">0.99</th>\n    </tr>\n    <tr>\n      <th></th>\n      <th>0</th>\n      <th>1</th>\n      <th>2</th>\n      <th>3</th>\n      <th>4</th>\n      <th>5</th>\n      <th>6</th>\n      <th>7</th>\n      <th>8</th>\n      <th>9</th>\n      <th>...</th>\n      <th>990</th>\n      <th>991</th>\n      <th>992</th>\n      <th>993</th>\n      <th>994</th>\n      <th>995</th>\n      <th>996</th>\n      <th>997</th>\n      <th>998</th>\n      <th>999</th>\n    </tr>\n  </thead>\n  <tbody>\n    <tr>\n      <th>0</th>\n      <td>-9.209292</td>\n      <td>-8.971848</td>\n      <td>3.181177</td>\n      <td>-2.886801</td>\n      <td>-1.041038</td>\n      <td>4.610796</td>\n      <td>-0.958004</td>\n      <td>2.989176</td>\n      <td>3.980931</td>\n      <td>-0.308652</td>\n      <td>...</td>\n      <td>15.562421</td>\n      <td>27.183948</td>\n      <td>-10.787147</td>\n      <td>44.629497</td>\n      <td>-43.780255</td>\n      <td>-158.455478</td>\n      <td>-35.587279</td>\n      <td>43.088533</td>\n      <td>-41.330112</td>\n      <td>-11.446349</td>\n    </tr>\n    <tr>\n      <th>1</th>\n      <td>-7.945682</td>\n      <td>-9.210925</td>\n      <td>1.956028</td>\n      <td>-2.650756</td>\n      <td>-1.791607</td>\n      <td>6.305936</td>\n      <td>-1.865585</td>\n      <td>2.588620</td>\n      <td>4.407127</td>\n      <td>-1.151787</td>\n      <td>...</td>\n      <td>17.290716</td>\n      <td>29.474074</td>\n      <td>-10.351201</td>\n      <td>43.295864</td>\n      <td>-43.730054</td>\n      <td>-156.022595</td>\n      <td>-33.946160</td>\n      <td>42.458713</td>\n      <td>-39.893078</td>\n      <td>-11.019682</td>\n    </tr>\n    <tr>\n      <th>2</th>\n      <td>-5.998078</td>\n      <td>-11.263148</td>\n      <td>2.352449</td>\n      <td>0.787710</td>\n      <td>-1.588849</td>\n      <td>6.964045</td>\n      <td>-2.615948</td>\n      <td>2.399009</td>\n      <td>4.346088</td>\n      <td>-1.159394</td>\n      <td>...</td>\n      <td>14.984918</td>\n      <td>29.165581</td>\n      <td>-12.070950</td>\n      <td>43.556448</td>\n      <td>-42.376387</td>\n      <td>-154.218645</td>\n      <td>-34.120150</td>\n      <td>41.742273</td>\n      <td>-39.534148</td>\n      <td>-11.576427</td>\n    </tr>\n    <tr>\n      <th>3</th>\n      <td>-5.650707</td>\n      <td>-10.103516</td>\n      <td>1.680140</td>\n      <td>4.043142</td>\n      <td>-1.600421</td>\n      <td>6.125105</td>\n      <td>-3.298624</td>\n      <td>0.997506</td>\n      <td>4.435702</td>\n      <td>-0.131658</td>\n      <td>...</td>\n      <td>15.353114</td>\n      <td>29.254253</td>\n      <td>-10.645694</td>\n      <td>44.161517</td>\n      <td>-40.608303</td>\n      <td>-151.785242</td>\n      <td>-33.824500</td>\n      <td>43.912665</td>\n      <td>-40.912408</td>\n      <td>-11.662458</td>\n    </tr>\n    <tr>\n      <th>4</th>\n      <td>-4.104315</td>\n      <td>-9.342053</td>\n      <td>1.613901</td>\n      <td>5.242200</td>\n      <td>-2.510045</td>\n      <td>7.178500</td>\n      <td>-3.696283</td>\n      <td>1.224782</td>\n      <td>3.539419</td>\n      <td>-0.225956</td>\n      <td>...</td>\n      <td>16.055287</td>\n      <td>30.700781</td>\n      <td>-11.687407</td>\n      <td>41.680438</td>\n      <td>-38.420450</td>\n      <td>-149.374643</td>\n      <td>-34.363519</td>\n      <td>41.711418</td>\n      <td>-41.996925</td>\n      <td>-10.542675</td>\n    </tr>\n    <tr>\n      <th>...</th>\n      <td>...</td>\n      <td>...</td>\n      <td>...</td>\n      <td>...</td>\n      <td>...</td>\n      <td>...</td>\n      <td>...</td>\n      <td>...</td>\n      <td>...</td>\n      <td>...</td>\n      <td>...</td>\n      <td>...</td>\n      <td>...</td>\n      <td>...</td>\n      <td>...</td>\n      <td>...</td>\n      <td>...</td>\n      <td>...</td>\n      <td>...</td>\n      <td>...</td>\n      <td>...</td>\n    </tr>\n    <tr>\n      <th>95</th>\n      <td>1.247553</td>\n      <td>3.918155</td>\n      <td>-0.100647</td>\n      <td>-0.727409</td>\n      <td>1.603297</td>\n      <td>-0.029927</td>\n      <td>-1.194967</td>\n      <td>-2.039586</td>\n      <td>2.071797</td>\n      <td>-0.544452</td>\n      <td>...</td>\n      <td>10.020872</td>\n      <td>10.053304</td>\n      <td>-5.224860</td>\n      <td>13.380246</td>\n      <td>-6.341043</td>\n      <td>-56.820290</td>\n      <td>-5.715974</td>\n      <td>17.068312</td>\n      <td>-18.086599</td>\n      <td>-14.681921</td>\n    </tr>\n    <tr>\n      <th>96</th>\n      <td>1.046774</td>\n      <td>3.351558</td>\n      <td>0.027026</td>\n      <td>-2.703340</td>\n      <td>1.174091</td>\n      <td>-1.168713</td>\n      <td>-0.651052</td>\n      <td>-2.339188</td>\n      <td>3.101870</td>\n      <td>0.836338</td>\n      <td>...</td>\n      <td>9.240263</td>\n      <td>8.732156</td>\n      <td>-4.729545</td>\n      <td>14.122254</td>\n      <td>-5.640022</td>\n      <td>-55.810961</td>\n      <td>-5.305430</td>\n      <td>15.561074</td>\n      <td>-17.628541</td>\n      <td>-13.161820</td>\n    </tr>\n    <tr>\n      <th>97</th>\n      <td>0.946054</td>\n      <td>4.033667</td>\n      <td>-0.933845</td>\n      <td>-1.649220</td>\n      <td>1.358664</td>\n      <td>-0.305439</td>\n      <td>-0.519503</td>\n      <td>-4.156175</td>\n      <td>2.335491</td>\n      <td>1.679708</td>\n      <td>...</td>\n      <td>10.611643</td>\n      <td>9.224161</td>\n      <td>-2.426659</td>\n      <td>15.303009</td>\n      <td>-5.183960</td>\n      <td>-54.906443</td>\n      <td>-5.594503</td>\n      <td>15.164377</td>\n      <td>-17.492617</td>\n      <td>-12.909198</td>\n    </tr>\n    <tr>\n      <th>98</th>\n      <td>0.666435</td>\n      <td>3.030317</td>\n      <td>-2.721575</td>\n      <td>-1.717283</td>\n      <td>-1.049107</td>\n      <td>-0.743923</td>\n      <td>-0.555548</td>\n      <td>-3.653299</td>\n      <td>4.226688</td>\n      <td>1.724829</td>\n      <td>...</td>\n      <td>10.373415</td>\n      <td>7.775866</td>\n      <td>-2.124919</td>\n      <td>14.808101</td>\n      <td>-5.038512</td>\n      <td>-54.948158</td>\n      <td>-4.360727</td>\n      <td>15.745578</td>\n      <td>-16.866859</td>\n      <td>-11.731903</td>\n    </tr>\n    <tr>\n      <th>99</th>\n      <td>-1.887360</td>\n      <td>4.303452</td>\n      <td>-2.267075</td>\n      <td>-2.729966</td>\n      <td>-0.186592</td>\n      <td>0.117451</td>\n      <td>1.454437</td>\n      <td>-4.617415</td>\n      <td>4.044761</td>\n      <td>2.880680</td>\n      <td>...</td>\n      <td>10.768790</td>\n      <td>7.537977</td>\n      <td>-1.686028</td>\n      <td>15.333754</td>\n      <td>-5.273298</td>\n      <td>-55.155115</td>\n      <td>-3.376157</td>\n      <td>18.415034</td>\n      <td>-16.258468</td>\n      <td>-12.407977</td>\n    </tr>\n  </tbody>\n</table>\n<p>100 rows × 10000 columns</p>\n</div>"
     },
     "metadata": {},
     "execution_count": 547
    }
   ],
   "source": [
    "true_100"
   ]
  },
  {
   "source": [
    "Question 1 \n",
    "--"
   ],
   "cell_type": "markdown",
   "metadata": {}
  },
  {
   "source": [
    "Sample Size 100\n",
    "--"
   ],
   "cell_type": "markdown",
   "metadata": {}
  },
  {
   "cell_type": "code",
   "execution_count": 554,
   "metadata": {},
   "outputs": [
    {
     "output_type": "execute_result",
     "data": {
      "text/plain": [
       "[0.9, 0.91, 0.92, 0.93, 0.94, 0.95, 0.96, 0.97, 0.98, 0.99]"
      ]
     },
     "metadata": {},
     "execution_count": 554
    }
   ],
   "source": [
    "r"
   ]
  },
  {
   "cell_type": "code",
   "execution_count": 555,
   "metadata": {
    "tags": []
   },
   "outputs": [
    {
     "output_type": "stream",
     "name": "stdout",
     "text": [
      "0.9\n",
      "0.91\n",
      "0.92\n",
      "0.93\n",
      "0.94\n",
      "0.95\n",
      "0.96\n",
      "0.97\n",
      "0.98\n",
      "0.99\n"
     ]
    }
   ],
   "source": [
    "# current best progress\n",
    "\n",
    "cv = norm.ppf(0.95)\n",
    "theta_100 = []\n",
    "dm_100 = []\n",
    "\n",
    "for rho in r:\n",
    "    print(rho)\n",
    "    c = 0\n",
    "    for col in true_100[rho]:\n",
    "        x = sm.add_constant((true_100[rho][col][:half_100]).shift(1).dropna())\n",
    "        y  = (true_100[rho][col]).iloc[1:half_100]\n",
    "\n",
    "        res = sm.OLS(y,x).fit()\n",
    "        #rho = float(rho)\n",
    "        #col = pd.Series(col)\n",
    "        const, theta = res.params\n",
    "        theta_100.append(theta)\n",
    "\n",
    "        # Random Walk Forecasting\n",
    "\n",
    "        realisations = true_100[rho][c]\n",
    "\n",
    "\n",
    "        run_holder = []\n",
    "        for i in range(49,99):\n",
    "            #shock = rg.standard_normal() #### because we do not forecast with the shock - E[Xt+1] = Xt \n",
    "\n",
    "            run_holder.append(realisations[i])\n",
    "\n",
    "            \n",
    "\n",
    "        run_holder = pd.Series(run_holder)\n",
    "        run_holder.index = range(50,100)\n",
    "        #realisations_100 = pd.Series(realisations_100)\n",
    "\n",
    "            # Model Evaluation\n",
    "        #realisations_100 = true_100[rho][c][half_100:]\n",
    "        c += 1\n",
    "\n",
    "        forecasts = (realisations[49:].shift(1) * theta + const).dropna()\n",
    "\n",
    "        loss_run = (run_holder.subtract(realisations,axis=0) **2).dropna()\n",
    "        loss_forecasts = (forecasts.subtract(realisations,axis=0) **2).dropna()\n",
    "\n",
    "\n",
    "        nw = (100) ** (1/3)\n",
    "        dm_result = diebold_mariano(loss_run,loss_forecasts,1,cv)\n",
    "        dm_100.append(dm_result)"
   ]
  },
  {
   "cell_type": "code",
   "execution_count": 525,
   "metadata": {},
   "outputs": [
    {
     "output_type": "execute_result",
     "data": {
      "text/plain": [
       "0    -11.446349\n",
       "1    -11.019682\n",
       "2    -11.576427\n",
       "3    -11.662458\n",
       "4    -10.542675\n",
       "        ...    \n",
       "95   -14.681921\n",
       "96   -13.161820\n",
       "97   -12.909198\n",
       "98   -11.731903\n",
       "99   -12.407977\n",
       "Name: 999, Length: 100, dtype: float64"
      ]
     },
     "metadata": {},
     "execution_count": 525
    }
   ],
   "source": [
    "realisations"
   ]
  },
  {
   "cell_type": "code",
   "execution_count": 526,
   "metadata": {},
   "outputs": [
    {
     "output_type": "execute_result",
     "data": {
      "text/plain": [
       "        0.90                                                               \\\n",
       "         0          1         2         3         4         5         6     \n",
       "0  -9.209292  -8.971848  3.181177 -2.886801 -1.041038  4.610796 -0.958004   \n",
       "1  -7.945682  -9.210925  1.956028 -2.650756 -1.791607  6.305936 -1.865585   \n",
       "2  -5.998078 -11.263148  2.352449  0.787710 -1.588849  6.964045 -2.615948   \n",
       "3  -5.650707 -10.103516  1.680140  4.043142 -1.600421  6.125105 -3.298624   \n",
       "4  -4.104315  -9.342053  1.613901  5.242200 -2.510045  7.178500 -3.696283   \n",
       "..       ...        ...       ...       ...       ...       ...       ...   \n",
       "95  1.247553   3.918155 -0.100647 -0.727409  1.603297 -0.029927 -1.194967   \n",
       "96  1.046774   3.351558  0.027026 -2.703340  1.174091 -1.168713 -0.651052   \n",
       "97  0.946054   4.033667 -0.933845 -1.649220  1.358664 -0.305439 -0.519503   \n",
       "98  0.666435   3.030317 -2.721575 -1.717283 -1.049107 -0.743923 -0.555548   \n",
       "99 -1.887360   4.303452 -2.267075 -2.729966 -0.186592  0.117451  1.454437   \n",
       "\n",
       "                                  ...       0.99                        \\\n",
       "         7         8         9    ...        990        991        992   \n",
       "0   2.989176  3.980931 -0.308652  ...  15.562421  27.183948 -10.787147   \n",
       "1   2.588620  4.407127 -1.151787  ...  17.290716  29.474074 -10.351201   \n",
       "2   2.399009  4.346088 -1.159394  ...  14.984918  29.165581 -12.070950   \n",
       "3   0.997506  4.435702 -0.131658  ...  15.353114  29.254253 -10.645694   \n",
       "4   1.224782  3.539419 -0.225956  ...  16.055287  30.700781 -11.687407   \n",
       "..       ...       ...       ...  ...        ...        ...        ...   \n",
       "95 -2.039586  2.071797 -0.544452  ...  10.020872  10.053304  -5.224860   \n",
       "96 -2.339188  3.101870  0.836338  ...   9.240263   8.732156  -4.729545   \n",
       "97 -4.156175  2.335491  1.679708  ...  10.611643   9.224161  -2.426659   \n",
       "98 -3.653299  4.226688  1.724829  ...  10.373415   7.775866  -2.124919   \n",
       "99 -4.617415  4.044761  2.880680  ...  10.768790   7.537977  -1.686028   \n",
       "\n",
       "                                                                       \\\n",
       "          993        994         995        996        997        998   \n",
       "0   44.629497 -43.780255 -158.455478 -35.587279  43.088533 -41.330112   \n",
       "1   43.295864 -43.730054 -156.022595 -33.946160  42.458713 -39.893078   \n",
       "2   43.556448 -42.376387 -154.218645 -34.120150  41.742273 -39.534148   \n",
       "3   44.161517 -40.608303 -151.785242 -33.824500  43.912665 -40.912408   \n",
       "4   41.680438 -38.420450 -149.374643 -34.363519  41.711418 -41.996925   \n",
       "..        ...        ...         ...        ...        ...        ...   \n",
       "95  13.380246  -6.341043  -56.820290  -5.715974  17.068312 -18.086599   \n",
       "96  14.122254  -5.640022  -55.810961  -5.305430  15.561074 -17.628541   \n",
       "97  15.303009  -5.183960  -54.906443  -5.594503  15.164377 -17.492617   \n",
       "98  14.808101  -5.038512  -54.948158  -4.360727  15.745578 -16.866859   \n",
       "99  15.333754  -5.273298  -55.155115  -3.376157  18.415034 -16.258468   \n",
       "\n",
       "               \n",
       "          999  \n",
       "0  -11.446349  \n",
       "1  -11.019682  \n",
       "2  -11.576427  \n",
       "3  -11.662458  \n",
       "4  -10.542675  \n",
       "..        ...  \n",
       "95 -14.681921  \n",
       "96 -13.161820  \n",
       "97 -12.909198  \n",
       "98 -11.731903  \n",
       "99 -12.407977  \n",
       "\n",
       "[100 rows x 10000 columns]"
      ],
      "text/html": "<div>\n<style scoped>\n    .dataframe tbody tr th:only-of-type {\n        vertical-align: middle;\n    }\n\n    .dataframe tbody tr th {\n        vertical-align: top;\n    }\n\n    .dataframe thead tr th {\n        text-align: left;\n    }\n</style>\n<table border=\"1\" class=\"dataframe\">\n  <thead>\n    <tr>\n      <th></th>\n      <th colspan=\"10\" halign=\"left\">0.90</th>\n      <th>...</th>\n      <th colspan=\"10\" halign=\"left\">0.99</th>\n    </tr>\n    <tr>\n      <th></th>\n      <th>0</th>\n      <th>1</th>\n      <th>2</th>\n      <th>3</th>\n      <th>4</th>\n      <th>5</th>\n      <th>6</th>\n      <th>7</th>\n      <th>8</th>\n      <th>9</th>\n      <th>...</th>\n      <th>990</th>\n      <th>991</th>\n      <th>992</th>\n      <th>993</th>\n      <th>994</th>\n      <th>995</th>\n      <th>996</th>\n      <th>997</th>\n      <th>998</th>\n      <th>999</th>\n    </tr>\n  </thead>\n  <tbody>\n    <tr>\n      <th>0</th>\n      <td>-9.209292</td>\n      <td>-8.971848</td>\n      <td>3.181177</td>\n      <td>-2.886801</td>\n      <td>-1.041038</td>\n      <td>4.610796</td>\n      <td>-0.958004</td>\n      <td>2.989176</td>\n      <td>3.980931</td>\n      <td>-0.308652</td>\n      <td>...</td>\n      <td>15.562421</td>\n      <td>27.183948</td>\n      <td>-10.787147</td>\n      <td>44.629497</td>\n      <td>-43.780255</td>\n      <td>-158.455478</td>\n      <td>-35.587279</td>\n      <td>43.088533</td>\n      <td>-41.330112</td>\n      <td>-11.446349</td>\n    </tr>\n    <tr>\n      <th>1</th>\n      <td>-7.945682</td>\n      <td>-9.210925</td>\n      <td>1.956028</td>\n      <td>-2.650756</td>\n      <td>-1.791607</td>\n      <td>6.305936</td>\n      <td>-1.865585</td>\n      <td>2.588620</td>\n      <td>4.407127</td>\n      <td>-1.151787</td>\n      <td>...</td>\n      <td>17.290716</td>\n      <td>29.474074</td>\n      <td>-10.351201</td>\n      <td>43.295864</td>\n      <td>-43.730054</td>\n      <td>-156.022595</td>\n      <td>-33.946160</td>\n      <td>42.458713</td>\n      <td>-39.893078</td>\n      <td>-11.019682</td>\n    </tr>\n    <tr>\n      <th>2</th>\n      <td>-5.998078</td>\n      <td>-11.263148</td>\n      <td>2.352449</td>\n      <td>0.787710</td>\n      <td>-1.588849</td>\n      <td>6.964045</td>\n      <td>-2.615948</td>\n      <td>2.399009</td>\n      <td>4.346088</td>\n      <td>-1.159394</td>\n      <td>...</td>\n      <td>14.984918</td>\n      <td>29.165581</td>\n      <td>-12.070950</td>\n      <td>43.556448</td>\n      <td>-42.376387</td>\n      <td>-154.218645</td>\n      <td>-34.120150</td>\n      <td>41.742273</td>\n      <td>-39.534148</td>\n      <td>-11.576427</td>\n    </tr>\n    <tr>\n      <th>3</th>\n      <td>-5.650707</td>\n      <td>-10.103516</td>\n      <td>1.680140</td>\n      <td>4.043142</td>\n      <td>-1.600421</td>\n      <td>6.125105</td>\n      <td>-3.298624</td>\n      <td>0.997506</td>\n      <td>4.435702</td>\n      <td>-0.131658</td>\n      <td>...</td>\n      <td>15.353114</td>\n      <td>29.254253</td>\n      <td>-10.645694</td>\n      <td>44.161517</td>\n      <td>-40.608303</td>\n      <td>-151.785242</td>\n      <td>-33.824500</td>\n      <td>43.912665</td>\n      <td>-40.912408</td>\n      <td>-11.662458</td>\n    </tr>\n    <tr>\n      <th>4</th>\n      <td>-4.104315</td>\n      <td>-9.342053</td>\n      <td>1.613901</td>\n      <td>5.242200</td>\n      <td>-2.510045</td>\n      <td>7.178500</td>\n      <td>-3.696283</td>\n      <td>1.224782</td>\n      <td>3.539419</td>\n      <td>-0.225956</td>\n      <td>...</td>\n      <td>16.055287</td>\n      <td>30.700781</td>\n      <td>-11.687407</td>\n      <td>41.680438</td>\n      <td>-38.420450</td>\n      <td>-149.374643</td>\n      <td>-34.363519</td>\n      <td>41.711418</td>\n      <td>-41.996925</td>\n      <td>-10.542675</td>\n    </tr>\n    <tr>\n      <th>...</th>\n      <td>...</td>\n      <td>...</td>\n      <td>...</td>\n      <td>...</td>\n      <td>...</td>\n      <td>...</td>\n      <td>...</td>\n      <td>...</td>\n      <td>...</td>\n      <td>...</td>\n      <td>...</td>\n      <td>...</td>\n      <td>...</td>\n      <td>...</td>\n      <td>...</td>\n      <td>...</td>\n      <td>...</td>\n      <td>...</td>\n      <td>...</td>\n      <td>...</td>\n      <td>...</td>\n    </tr>\n    <tr>\n      <th>95</th>\n      <td>1.247553</td>\n      <td>3.918155</td>\n      <td>-0.100647</td>\n      <td>-0.727409</td>\n      <td>1.603297</td>\n      <td>-0.029927</td>\n      <td>-1.194967</td>\n      <td>-2.039586</td>\n      <td>2.071797</td>\n      <td>-0.544452</td>\n      <td>...</td>\n      <td>10.020872</td>\n      <td>10.053304</td>\n      <td>-5.224860</td>\n      <td>13.380246</td>\n      <td>-6.341043</td>\n      <td>-56.820290</td>\n      <td>-5.715974</td>\n      <td>17.068312</td>\n      <td>-18.086599</td>\n      <td>-14.681921</td>\n    </tr>\n    <tr>\n      <th>96</th>\n      <td>1.046774</td>\n      <td>3.351558</td>\n      <td>0.027026</td>\n      <td>-2.703340</td>\n      <td>1.174091</td>\n      <td>-1.168713</td>\n      <td>-0.651052</td>\n      <td>-2.339188</td>\n      <td>3.101870</td>\n      <td>0.836338</td>\n      <td>...</td>\n      <td>9.240263</td>\n      <td>8.732156</td>\n      <td>-4.729545</td>\n      <td>14.122254</td>\n      <td>-5.640022</td>\n      <td>-55.810961</td>\n      <td>-5.305430</td>\n      <td>15.561074</td>\n      <td>-17.628541</td>\n      <td>-13.161820</td>\n    </tr>\n    <tr>\n      <th>97</th>\n      <td>0.946054</td>\n      <td>4.033667</td>\n      <td>-0.933845</td>\n      <td>-1.649220</td>\n      <td>1.358664</td>\n      <td>-0.305439</td>\n      <td>-0.519503</td>\n      <td>-4.156175</td>\n      <td>2.335491</td>\n      <td>1.679708</td>\n      <td>...</td>\n      <td>10.611643</td>\n      <td>9.224161</td>\n      <td>-2.426659</td>\n      <td>15.303009</td>\n      <td>-5.183960</td>\n      <td>-54.906443</td>\n      <td>-5.594503</td>\n      <td>15.164377</td>\n      <td>-17.492617</td>\n      <td>-12.909198</td>\n    </tr>\n    <tr>\n      <th>98</th>\n      <td>0.666435</td>\n      <td>3.030317</td>\n      <td>-2.721575</td>\n      <td>-1.717283</td>\n      <td>-1.049107</td>\n      <td>-0.743923</td>\n      <td>-0.555548</td>\n      <td>-3.653299</td>\n      <td>4.226688</td>\n      <td>1.724829</td>\n      <td>...</td>\n      <td>10.373415</td>\n      <td>7.775866</td>\n      <td>-2.124919</td>\n      <td>14.808101</td>\n      <td>-5.038512</td>\n      <td>-54.948158</td>\n      <td>-4.360727</td>\n      <td>15.745578</td>\n      <td>-16.866859</td>\n      <td>-11.731903</td>\n    </tr>\n    <tr>\n      <th>99</th>\n      <td>-1.887360</td>\n      <td>4.303452</td>\n      <td>-2.267075</td>\n      <td>-2.729966</td>\n      <td>-0.186592</td>\n      <td>0.117451</td>\n      <td>1.454437</td>\n      <td>-4.617415</td>\n      <td>4.044761</td>\n      <td>2.880680</td>\n      <td>...</td>\n      <td>10.768790</td>\n      <td>7.537977</td>\n      <td>-1.686028</td>\n      <td>15.333754</td>\n      <td>-5.273298</td>\n      <td>-55.155115</td>\n      <td>-3.376157</td>\n      <td>18.415034</td>\n      <td>-16.258468</td>\n      <td>-12.407977</td>\n    </tr>\n  </tbody>\n</table>\n<p>100 rows × 10000 columns</p>\n</div>"
     },
     "metadata": {},
     "execution_count": 526
    }
   ],
   "source": [
    "true_100"
   ]
  },
  {
   "cell_type": "code",
   "execution_count": 583,
   "metadata": {},
   "outputs": [],
   "source": [
    "dm_100s = pd.Series(dm_100)\n",
    "theta_100s = pd.Series(theta_100)"
   ]
  },
  {
   "cell_type": "code",
   "execution_count": 584,
   "metadata": {},
   "outputs": [],
   "source": [
    "ss_100 = pd.concat([dm_100s,theta_100s],1)\n",
    "ss_100.columns = [\"Diebold\", \"theta\"]"
   ]
  },
  {
   "cell_type": "code",
   "execution_count": 585,
   "metadata": {},
   "outputs": [
    {
     "output_type": "stream",
     "name": "stdout",
     "text": [
      "0.1\n0.15\n0.13333333333333333\n0.125\n0.12\n0.11666666666666667\n0.11428571428571428\n0.1125\n0.1111111111111111\n0.13\n0.12727272727272726\n0.125\n0.12307692307692308\n0.12142857142857143\n0.11333333333333333\n0.11875\n0.11176470588235295\n0.10555555555555556\n0.10526315789473684\n0.105\n0.10476190476190476\n0.10454545454545454\n0.10434782608695652\n0.10416666666666667\n0.1\n0.1\n0.1\n0.09642857142857143\n0.09310344827586207\n0.09\n0.0935483870967742\n0.090625\n0.08787878787878788\n0.08823529411764706\n0.08857142857142856\n0.08888888888888889\n0.0891891891891892\n0.0868421052631579\n0.08461538461538462\n0.085\n0.08536585365853659\n0.0880952380952381\n0.08604651162790698\n0.09090909090909091\n0.08888888888888889\n0.0891304347826087\n0.08723404255319149\n0.0875\n0.08571428571428572\n0.084\n0.08431372549019608\n0.08653846153846154\n0.08490566037735849\n0.08703703703703704\n0.08727272727272728\n0.0875\n0.08596491228070176\n0.08448275862068966\n0.08813559322033898\n0.09\n0.09016393442622951\n0.09032258064516129\n0.09047619047619047\n0.090625\n0.09384615384615384\n0.09393939393939393\n0.09701492537313433\n0.09558823529411764\n0.09420289855072464\n0.09285714285714286\n0.09436619718309859\n0.09305555555555556\n0.09452054794520548\n0.0945945945945946\n0.09333333333333334\n0.09473684210526316\n0.09350649350649351\n0.09358974358974359\n0.09240506329113925\n0.09125\n0.09259259259259259\n0.09390243902439024\n0.0927710843373494\n0.09285714285714286\n0.09411764705882353\n0.09651162790697675\n0.09540229885057472\n0.09545454545454546\n0.09662921348314607\n0.09666666666666666\n0.0967032967032967\n0.0967391304347826\n0.0967741935483871\n0.09680851063829787\n0.0968421052631579\n0.09895833333333333\n0.09896907216494845\n0.09897959183673469\n0.09898989898989899\n0.099\n"
     ]
    }
   ],
   "source": [
    "for i in range(1,101):\n",
    "    print(ss_250[\"Diebold\"][:i*10].mean())"
   ]
  },
  {
   "cell_type": "code",
   "execution_count": 586,
   "metadata": {},
   "outputs": [
    {
     "output_type": "execute_result",
     "data": {
      "text/plain": [
       "<class 'statsmodels.iolib.summary.Summary'>\n",
       "\"\"\"\n",
       "                            OLS Regression Results                            \n",
       "==============================================================================\n",
       "Dep. Variable:                Diebold   R-squared:                       0.067\n",
       "Model:                            OLS   Adj. R-squared:                  0.067\n",
       "Method:                 Least Squares   F-statistic:                     715.1\n",
       "Date:                Thu, 11 Mar 2021   Prob (F-statistic):          3.23e-152\n",
       "Time:                        00:19:23   Log-Likelihood:                -4207.5\n",
       "No. Observations:               10000   AIC:                             8419.\n",
       "Df Residuals:                    9998   BIC:                             8433.\n",
       "Df Model:                           1                                         \n",
       "Covariance Type:            nonrobust                                         \n",
       "==============================================================================\n",
       "                 coef    std err          t      P>|t|      [0.025      0.975]\n",
       "------------------------------------------------------------------------------\n",
       "const          1.1931      0.038     31.247      0.000       1.118       1.268\n",
       "theta         -1.1484      0.043    -26.741      0.000      -1.233      -1.064\n",
       "==============================================================================\n",
       "Omnibus:                     2447.671   Durbin-Watson:                   1.837\n",
       "Prob(Omnibus):                  0.000   Jarque-Bera (JB):             4653.488\n",
       "Skew:                           1.593   Prob(JB):                         0.00\n",
       "Kurtosis:                       4.007   Cond. No.                         20.8\n",
       "==============================================================================\n",
       "\n",
       "Notes:\n",
       "[1] Standard Errors assume that the covariance matrix of the errors is correctly specified.\n",
       "\"\"\""
      ],
      "text/html": "<table class=\"simpletable\">\n<caption>OLS Regression Results</caption>\n<tr>\n  <th>Dep. Variable:</th>         <td>Diebold</td>     <th>  R-squared:         </th> <td>   0.067</td> \n</tr>\n<tr>\n  <th>Model:</th>                   <td>OLS</td>       <th>  Adj. R-squared:    </th> <td>   0.067</td> \n</tr>\n<tr>\n  <th>Method:</th>             <td>Least Squares</td>  <th>  F-statistic:       </th> <td>   715.1</td> \n</tr>\n<tr>\n  <th>Date:</th>             <td>Thu, 11 Mar 2021</td> <th>  Prob (F-statistic):</th> <td>3.23e-152</td>\n</tr>\n<tr>\n  <th>Time:</th>                 <td>00:19:23</td>     <th>  Log-Likelihood:    </th> <td> -4207.5</td> \n</tr>\n<tr>\n  <th>No. Observations:</th>      <td> 10000</td>      <th>  AIC:               </th> <td>   8419.</td> \n</tr>\n<tr>\n  <th>Df Residuals:</th>          <td>  9998</td>      <th>  BIC:               </th> <td>   8433.</td> \n</tr>\n<tr>\n  <th>Df Model:</th>              <td>     1</td>      <th>                     </th>     <td> </td>    \n</tr>\n<tr>\n  <th>Covariance Type:</th>      <td>nonrobust</td>    <th>                     </th>     <td> </td>    \n</tr>\n</table>\n<table class=\"simpletable\">\n<tr>\n    <td></td>       <th>coef</th>     <th>std err</th>      <th>t</th>      <th>P>|t|</th>  <th>[0.025</th>    <th>0.975]</th>  \n</tr>\n<tr>\n  <th>const</th> <td>    1.1931</td> <td>    0.038</td> <td>   31.247</td> <td> 0.000</td> <td>    1.118</td> <td>    1.268</td>\n</tr>\n<tr>\n  <th>theta</th> <td>   -1.1484</td> <td>    0.043</td> <td>  -26.741</td> <td> 0.000</td> <td>   -1.233</td> <td>   -1.064</td>\n</tr>\n</table>\n<table class=\"simpletable\">\n<tr>\n  <th>Omnibus:</th>       <td>2447.671</td> <th>  Durbin-Watson:     </th> <td>   1.837</td>\n</tr>\n<tr>\n  <th>Prob(Omnibus):</th>  <td> 0.000</td>  <th>  Jarque-Bera (JB):  </th> <td>4653.488</td>\n</tr>\n<tr>\n  <th>Skew:</th>           <td> 1.593</td>  <th>  Prob(JB):          </th> <td>    0.00</td>\n</tr>\n<tr>\n  <th>Kurtosis:</th>       <td> 4.007</td>  <th>  Cond. No.          </th> <td>    20.8</td>\n</tr>\n</table><br/><br/>Notes:<br/>[1] Standard Errors assume that the covariance matrix of the errors is correctly specified."
     },
     "metadata": {},
     "execution_count": 586
    }
   ],
   "source": [
    "y = ss_100[\"Diebold\"]\n",
    "x = sm.add_constant(ss_100[\"theta\"]) \n",
    "res = sm.OLS(y,x).fit()\n",
    "res.summary()\n",
    "###  0.1965 - theta * 0.1976"
   ]
  },
  {
   "source": [
    "PROBIT Regression_\n",
    "--"
   ],
   "cell_type": "markdown",
   "metadata": {}
  },
  {
   "cell_type": "code",
   "execution_count": 516,
   "metadata": {},
   "outputs": [],
   "source": [
    "from statsmodels.discrete.discrete_model import Probit"
   ]
  },
  {
   "cell_type": "code",
   "execution_count": 517,
   "metadata": {},
   "outputs": [
    {
     "output_type": "execute_result",
     "data": {
      "text/plain": [
       "            Diebold         theta\n",
       "count  10000.000000  10000.000000\n",
       "mean       0.172500      0.884934\n",
       "std        0.377833      0.085833\n",
       "min        0.000000      0.309954\n",
       "25%        0.000000      0.841382\n",
       "50%        0.000000      0.901976\n",
       "75%        0.000000      0.946932\n",
       "max        1.000000      1.062895"
      ],
      "text/html": "<div>\n<style scoped>\n    .dataframe tbody tr th:only-of-type {\n        vertical-align: middle;\n    }\n\n    .dataframe tbody tr th {\n        vertical-align: top;\n    }\n\n    .dataframe thead th {\n        text-align: right;\n    }\n</style>\n<table border=\"1\" class=\"dataframe\">\n  <thead>\n    <tr style=\"text-align: right;\">\n      <th></th>\n      <th>Diebold</th>\n      <th>theta</th>\n    </tr>\n  </thead>\n  <tbody>\n    <tr>\n      <th>count</th>\n      <td>10000.000000</td>\n      <td>10000.000000</td>\n    </tr>\n    <tr>\n      <th>mean</th>\n      <td>0.172500</td>\n      <td>0.884934</td>\n    </tr>\n    <tr>\n      <th>std</th>\n      <td>0.377833</td>\n      <td>0.085833</td>\n    </tr>\n    <tr>\n      <th>min</th>\n      <td>0.000000</td>\n      <td>0.309954</td>\n    </tr>\n    <tr>\n      <th>25%</th>\n      <td>0.000000</td>\n      <td>0.841382</td>\n    </tr>\n    <tr>\n      <th>50%</th>\n      <td>0.000000</td>\n      <td>0.901976</td>\n    </tr>\n    <tr>\n      <th>75%</th>\n      <td>0.000000</td>\n      <td>0.946932</td>\n    </tr>\n    <tr>\n      <th>max</th>\n      <td>1.000000</td>\n      <td>1.062895</td>\n    </tr>\n  </tbody>\n</table>\n</div>"
     },
     "metadata": {},
     "execution_count": 517
    }
   ],
   "source": [
    "ss_100.describe()"
   ]
  },
  {
   "cell_type": "code",
   "execution_count": 560,
   "metadata": {},
   "outputs": [
    {
     "output_type": "stream",
     "name": "stdout",
     "text": [
      "Optimization terminated successfully.\n         Current function value: 0.437327\n         Iterations 5\n                          Probit Regression Results                           \n==============================================================================\nDep. Variable:                Diebold   No. Observations:                10000\nModel:                         Probit   Df Residuals:                     9998\nMethod:                           MLE   Df Model:                            1\nDate:                Thu, 11 Mar 2021   Pseudo R-squ.:                 0.06255\nTime:                        00:04:34   Log-Likelihood:                -4373.3\nconverged:                       True   LL-Null:                       -4665.1\nCovariance Type:            nonrobust   LLR p-value:                6.227e-129\n==============================================================================\n                 coef    std err          z      P>|z|      [0.025      0.975]\n------------------------------------------------------------------------------\nconst          2.4973      0.145     17.276      0.000       2.214       2.781\ntheta         -3.9225      0.165    -23.709      0.000      -4.247      -3.598\n==============================================================================\n"
     ]
    }
   ],
   "source": [
    "y = ss_100[\"Diebold\"]\n",
    "x = sm.add_constant(ss_100[\"theta\"])\n",
    "model = Probit(y, x.astype(float))\n",
    "probit_model = model.fit()\n",
    "print(probit_model.summary())"
   ]
  },
  {
   "cell_type": "code",
   "execution_count": 576,
   "metadata": {},
   "outputs": [
    {
     "output_type": "execute_result",
     "data": {
      "text/plain": [
       "0.3520653267642995"
      ]
     },
     "metadata": {},
     "execution_count": 576
    }
   ],
   "source": [
    "Probit.pdf(probit_model,X=0.5) ###### UMMMM maybe??"
   ]
  },
  {
   "cell_type": "code",
   "execution_count": null,
   "metadata": {},
   "outputs": [],
   "source": []
  },
  {
   "source": [
    "Sample size 250\n",
    "----"
   ],
   "cell_type": "markdown",
   "metadata": {}
  },
  {
   "cell_type": "code",
   "execution_count": 578,
   "metadata": {},
   "outputs": [
    {
     "output_type": "stream",
     "name": "stdout",
     "text": [
      "0.9\n",
      "0.91\n",
      "0.92\n",
      "0.93\n",
      "0.94\n",
      "0.95\n",
      "0.96\n",
      "0.97\n",
      "0.98\n",
      "0.99\n"
     ]
    }
   ],
   "source": [
    "# current best progress\n",
    "\n",
    "cv = norm.ppf(0.95)\n",
    "theta_250 = []\n",
    "dm_250 = []\n",
    "\n",
    "for rho in r:\n",
    "    print(rho)\n",
    "    c = 0\n",
    "    for col in true_250[rho]:\n",
    "        x = sm.add_constant((true_250[rho][col][:half_250]).shift(1).dropna())\n",
    "        y  = (true_250[rho][col]).iloc[1:half_250]\n",
    "\n",
    "        res = sm.OLS(y,x).fit()\n",
    "        #rho = float(rho)\n",
    "        #col = pd.Series(col)\n",
    "        const, theta = res.params\n",
    "        theta_250.append(theta)\n",
    "\n",
    "        # Random Walk Forecasting\n",
    "\n",
    "        realisations = true_250[rho][c]\n",
    "\n",
    "\n",
    "        run_holder = []\n",
    "        for i in range(124,249):\n",
    "            #shock = rg.standard_normal() #### because we do not forecast with the shock - E[Xt+1] = Xt \n",
    "\n",
    "            run_holder.append(realisations[i])\n",
    "\n",
    "            \n",
    "\n",
    "        run_holder = pd.Series(run_holder)\n",
    "        run_holder.index = range(125,250)\n",
    "\n",
    "        c += 1\n",
    "\n",
    "        forecasts = (realisations[124:].shift(1) * theta + const).dropna()\n",
    "\n",
    "        loss_run = (run_holder.subtract(realisations,axis=0) **2).dropna()\n",
    "        loss_forecasts = (forecasts.subtract(realisations,axis=0) **2).dropna()\n",
    "\n",
    "\n",
    "        nw = (250) ** (1/3)\n",
    "        dm_result = diebold_mariano(loss_run,loss_forecasts,1,cv)\n",
    "        dm_250.append(dm_result)"
   ]
  },
  {
   "cell_type": "code",
   "execution_count": 587,
   "metadata": {},
   "outputs": [
    {
     "output_type": "execute_result",
     "data": {
      "text/plain": [
       "      Diebold     theta\n",
       "0           0  0.846358\n",
       "1           0  0.931311\n",
       "2           0  0.822677\n",
       "3           0  0.794293\n",
       "4           0  0.798176\n",
       "...       ...       ...\n",
       "9995        0  0.978820\n",
       "9996        0  0.992857\n",
       "9997        0  0.988349\n",
       "9998        1  0.921955\n",
       "9999        0  0.992689\n",
       "\n",
       "[10000 rows x 2 columns]"
      ],
      "text/html": "<div>\n<style scoped>\n    .dataframe tbody tr th:only-of-type {\n        vertical-align: middle;\n    }\n\n    .dataframe tbody tr th {\n        vertical-align: top;\n    }\n\n    .dataframe thead th {\n        text-align: right;\n    }\n</style>\n<table border=\"1\" class=\"dataframe\">\n  <thead>\n    <tr style=\"text-align: right;\">\n      <th></th>\n      <th>Diebold</th>\n      <th>theta</th>\n    </tr>\n  </thead>\n  <tbody>\n    <tr>\n      <th>0</th>\n      <td>0</td>\n      <td>0.846358</td>\n    </tr>\n    <tr>\n      <th>1</th>\n      <td>0</td>\n      <td>0.931311</td>\n    </tr>\n    <tr>\n      <th>2</th>\n      <td>0</td>\n      <td>0.822677</td>\n    </tr>\n    <tr>\n      <th>3</th>\n      <td>0</td>\n      <td>0.794293</td>\n    </tr>\n    <tr>\n      <th>4</th>\n      <td>0</td>\n      <td>0.798176</td>\n    </tr>\n    <tr>\n      <th>...</th>\n      <td>...</td>\n      <td>...</td>\n    </tr>\n    <tr>\n      <th>9995</th>\n      <td>0</td>\n      <td>0.978820</td>\n    </tr>\n    <tr>\n      <th>9996</th>\n      <td>0</td>\n      <td>0.992857</td>\n    </tr>\n    <tr>\n      <th>9997</th>\n      <td>0</td>\n      <td>0.988349</td>\n    </tr>\n    <tr>\n      <th>9998</th>\n      <td>1</td>\n      <td>0.921955</td>\n    </tr>\n    <tr>\n      <th>9999</th>\n      <td>0</td>\n      <td>0.992689</td>\n    </tr>\n  </tbody>\n</table>\n<p>10000 rows × 2 columns</p>\n</div>"
     },
     "metadata": {},
     "execution_count": 587
    }
   ],
   "source": [
    "dm_250s = pd.Series(dm_250)\n",
    "theta_250s = pd.Series(theta_250)\n",
    "ss_250 = pd.concat([dm_250s,theta_250s],1)\n",
    "ss_250.columns = [\"Diebold\", \"theta\"]\n",
    "ss_250"
   ]
  },
  {
   "cell_type": "code",
   "execution_count": 588,
   "metadata": {},
   "outputs": [
    {
     "output_type": "execute_result",
     "data": {
      "text/plain": [
       "<class 'statsmodels.iolib.summary.Summary'>\n",
       "\"\"\"\n",
       "                            OLS Regression Results                            \n",
       "==============================================================================\n",
       "Dep. Variable:                Diebold   R-squared:                       0.011\n",
       "Model:                            OLS   Adj. R-squared:                  0.011\n",
       "Method:                 Least Squares   F-statistic:                     109.9\n",
       "Date:                Thu, 11 Mar 2021   Prob (F-statistic):           1.40e-25\n",
       "Time:                        00:20:23   Log-Likelihood:                -1201.8\n",
       "No. Observations:               10000   AIC:                             2408.\n",
       "Df Residuals:                    9998   BIC:                             2422.\n",
       "Df Model:                           1                                         \n",
       "Covariance Type:            nonrobust                                         \n",
       "==============================================================================\n",
       "                 coef    std err          t      P>|t|      [0.025      0.975]\n",
       "------------------------------------------------------------------------------\n",
       "const          0.6190      0.051     12.067      0.000       0.518       0.720\n",
       "theta         -0.5836      0.056    -10.483      0.000      -0.693      -0.474\n",
       "==============================================================================\n",
       "Omnibus:                     5944.042   Durbin-Watson:                   1.861\n",
       "Prob(Omnibus):                  0.000   Jarque-Bera (JB):            36466.764\n",
       "Skew:                           3.004   Prob(JB):                         0.00\n",
       "Kurtosis:                      10.171   Cond. No.                         37.7\n",
       "==============================================================================\n",
       "\n",
       "Notes:\n",
       "[1] Standard Errors assume that the covariance matrix of the errors is correctly specified.\n",
       "\"\"\""
      ],
      "text/html": "<table class=\"simpletable\">\n<caption>OLS Regression Results</caption>\n<tr>\n  <th>Dep. Variable:</th>         <td>Diebold</td>     <th>  R-squared:         </th> <td>   0.011</td>\n</tr>\n<tr>\n  <th>Model:</th>                   <td>OLS</td>       <th>  Adj. R-squared:    </th> <td>   0.011</td>\n</tr>\n<tr>\n  <th>Method:</th>             <td>Least Squares</td>  <th>  F-statistic:       </th> <td>   109.9</td>\n</tr>\n<tr>\n  <th>Date:</th>             <td>Thu, 11 Mar 2021</td> <th>  Prob (F-statistic):</th> <td>1.40e-25</td>\n</tr>\n<tr>\n  <th>Time:</th>                 <td>00:20:23</td>     <th>  Log-Likelihood:    </th> <td> -1201.8</td>\n</tr>\n<tr>\n  <th>No. Observations:</th>      <td> 10000</td>      <th>  AIC:               </th> <td>   2408.</td>\n</tr>\n<tr>\n  <th>Df Residuals:</th>          <td>  9998</td>      <th>  BIC:               </th> <td>   2422.</td>\n</tr>\n<tr>\n  <th>Df Model:</th>              <td>     1</td>      <th>                     </th>     <td> </td>   \n</tr>\n<tr>\n  <th>Covariance Type:</th>      <td>nonrobust</td>    <th>                     </th>     <td> </td>   \n</tr>\n</table>\n<table class=\"simpletable\">\n<tr>\n    <td></td>       <th>coef</th>     <th>std err</th>      <th>t</th>      <th>P>|t|</th>  <th>[0.025</th>    <th>0.975]</th>  \n</tr>\n<tr>\n  <th>const</th> <td>    0.6190</td> <td>    0.051</td> <td>   12.067</td> <td> 0.000</td> <td>    0.518</td> <td>    0.720</td>\n</tr>\n<tr>\n  <th>theta</th> <td>   -0.5836</td> <td>    0.056</td> <td>  -10.483</td> <td> 0.000</td> <td>   -0.693</td> <td>   -0.474</td>\n</tr>\n</table>\n<table class=\"simpletable\">\n<tr>\n  <th>Omnibus:</th>       <td>5944.042</td> <th>  Durbin-Watson:     </th> <td>   1.861</td> \n</tr>\n<tr>\n  <th>Prob(Omnibus):</th>  <td> 0.000</td>  <th>  Jarque-Bera (JB):  </th> <td>36466.764</td>\n</tr>\n<tr>\n  <th>Skew:</th>           <td> 3.004</td>  <th>  Prob(JB):          </th> <td>    0.00</td> \n</tr>\n<tr>\n  <th>Kurtosis:</th>       <td>10.171</td>  <th>  Cond. No.          </th> <td>    37.7</td> \n</tr>\n</table><br/><br/>Notes:<br/>[1] Standard Errors assume that the covariance matrix of the errors is correctly specified."
     },
     "metadata": {},
     "execution_count": 588
    }
   ],
   "source": [
    "y = ss_250[\"Diebold\"]\n",
    "x = sm.add_constant(ss_250[\"theta\"])\n",
    "res = sm.OLS(y,x).fit()\n",
    "res.summary()\n",
    "###  0.1965 - theta * 0.1976"
   ]
  },
  {
   "cell_type": "code",
   "execution_count": 617,
   "metadata": {},
   "outputs": [
    {
     "output_type": "stream",
     "name": "stdout",
     "text": [
      "Optimization terminated successfully.\n         Current function value: 0.278887\n         Iterations 6\n                          Probit Regression Results                           \n==============================================================================\nDep. Variable:                Diebold   No. Observations:                10000\nModel:                         Probit   Df Residuals:                     9998\nMethod:                           MLE   Df Model:                            1\nDate:                Thu, 11 Mar 2021   Pseudo R-squ.:                 0.01671\nTime:                        00:21:53   Log-Likelihood:                -2788.9\nconverged:                       True   LL-Null:                       -2836.3\nCovariance Type:            nonrobust   LLR p-value:                 2.110e-22\n==============================================================================\n                 coef    std err          z      P>|z|      [0.025      0.975]\n------------------------------------------------------------------------------\nconst          1.6664      0.313      5.331      0.000       1.054       2.279\ntheta         -3.3441      0.342     -9.767      0.000      -4.015      -2.673\n==============================================================================\n"
     ]
    }
   ],
   "source": [
    "y = ss_250[\"Diebold\"]\n",
    "x = sm.add_constant(ss_250[\"theta\"])\n",
    "model = Probit(y, x.astype(float))\n",
    "probit_model = model.fit()\n",
    "print(probit_model.summary())"
   ]
  },
  {
   "cell_type": "code",
   "execution_count": 616,
   "metadata": {},
   "outputs": [
    {
     "output_type": "execute_result",
     "data": {
      "text/plain": [
       "0.3520653267642995"
      ]
     },
     "metadata": {},
     "execution_count": 616
    }
   ],
   "source": [
    "Probit.pdf(probit_model,X=0.5) ###### UMMMM maybe??"
   ]
  },
  {
   "cell_type": "code",
   "execution_count": 163,
   "metadata": {
    "tags": []
   },
   "outputs": [],
   "source": [
    "# holder\n",
    "\n",
    "\"\"\"\n",
    "cv = norm.ppf(0.95)\n",
    "theta_100 = []\n",
    "dm_100 = []    \n",
    "for col in true_100[rho]:\n",
    "    x = sm.add_constant((true_100[0.99][col][:half_100]).shift(1).dropna())\n",
    "    y  = (true_100[0.99][col]).iloc[1:half_100]\n",
    "    res = sm.OLS(y,x).fit()\n",
    "    rho = float(0.99)\n",
    "    col = pd.Series(col)\n",
    "    const, theta = res.params\n",
    "    theta_100.append(theta)\n",
    "\n",
    "        # Random Walk Forecasting\n",
    "\n",
    "    start = 0\n",
    "    run_holder = []\n",
    "    run_holder.append(start)\n",
    "\n",
    "    for i in range(52,100):\n",
    "        shock = rg.standard_normal()\n",
    "        last_val = run_holder[-1]\n",
    "        new_val = last_val  + shock\n",
    "        run_holder.append(new_val)\n",
    "\n",
    "    run_holder = pd.Series(run_holder)\n",
    "    run_holder.index = range(51,100)\n",
    "\n",
    "        # Model Evaluation\n",
    "    c = 0\n",
    "    realisations_100 = true_100[rho][c][half_100:]\n",
    "    c +=1\n",
    "\n",
    "    forecasts = (realisations_100.shift(1) * theta).dropna()\n",
    "\n",
    "\n",
    "    loss_run = (run_holder.subtract(realisations_100,axis=0) **2).dropna()\n",
    "    loss_forecasts = (forecasts.subtract(realisations_100,axis=0) **2).dropna()\n",
    "\n",
    "\n",
    "    nw = (50) ** (1/3)\n",
    "    dm_result = diebold_mariano(loss_run,loss_forecasts,nw,cv)\n",
    "    dm_100.append(dm_result)\n",
    "\"\"\""
   ]
  }
 ]
}