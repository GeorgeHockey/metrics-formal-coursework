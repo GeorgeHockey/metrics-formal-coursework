{
 "metadata": {
  "language_info": {
   "codemirror_mode": {
    "name": "ipython",
    "version": 3
   },
   "file_extension": ".py",
   "mimetype": "text/x-python",
   "name": "python",
   "nbconvert_exporter": "python",
   "pygments_lexer": "ipython3",
   "version": "3.9.0-final"
  },
  "orig_nbformat": 2,
  "kernelspec": {
   "name": "python3",
   "display_name": "Python 3.9.0 64-bit",
   "metadata": {
    "interpreter": {
     "hash": "7812ea015bdcee6f23a998adcdd2ef97c151c0c241b7b7070987d9313e41299d"
    }
   }
  }
 },
 "nbformat": 4,
 "nbformat_minor": 2,
 "cells": [
  {
   "cell_type": "code",
   "execution_count": 8,
   "metadata": {},
   "outputs": [],
   "source": [
    "import statsmodels.api as sm"
   ]
  },
  {
   "cell_type": "code",
   "execution_count": 19,
   "metadata": {},
   "outputs": [],
   "source": [
    "import pandas as pd\n",
    "import numpy as np\n",
    "from statsmodels.tsa.ar_model import AutoReg"
   ]
  },
  {
   "cell_type": "code",
   "execution_count": 10,
   "metadata": {},
   "outputs": [],
   "source": [
    "from scipy.stats import norm\n",
    "import numpy as np\n",
    "import pandas as pd\n",
    "from scipy.stats import sem\n",
    "import statsmodels.api as sm\n",
    "\n",
    "def diebold_mariano(loss_a, loss_b, nw_bandwidth,cv):\n",
    "    delta = loss_a - loss_b\n",
    "    mod = sm.OLS(delta, np.ones_like(delta))\n",
    "    dm_res = mod.fit(cov_type=\"HAC\", cov_kwds={\"maxlags\":int(nw_bandwidth)})\n",
    "    av_diff = float(dm_res.params[0])\n",
    "    dm_stat = float(av_diff / dm_res.bse[0])\n",
    "    \n",
    "\n",
    "    #cv = norm.ppf(0.975)\n",
    "\n",
    "    if dm_stat < (cv * -1):\n",
    "        concl = -1\n",
    "    else:\n",
    "        concl = 0\n",
    "\n",
    "\n",
    "    return concl"
   ]
  },
  {
   "cell_type": "code",
   "execution_count": 11,
   "metadata": {},
   "outputs": [],
   "source": [
    "rg = np.random.RandomState(10)"
   ]
  },
  {
   "source": [
    "                       true[(rho,size,run,0)]= start\n",
    "                yt_1 = true[(rho,size,run,i-1)]\n",
    "                yt = rho * yt_1 + shock\n",
    "                true[(rho,size,run,i)] = (yt)"
   ],
   "cell_type": "markdown",
   "metadata": {}
  },
  {
   "cell_type": "code",
   "execution_count": 12,
   "metadata": {},
   "outputs": [],
   "source": [
    "# True simulated data ## Sample size 100\n",
    "rg = np.random.RandomState(1)\n",
    "\n",
    "r = [0.90, 0.91, 0.92, 0.93, 0.94, 0.95, 0.96, 0.97, 0.98, 0.99]\n",
    "runs = 1000\n",
    "true_100 = {}\n",
    "size = 100\n",
    "\n",
    "for rho in r:\n",
    "    for run in range(runs):\n",
    "        start = rg.normal(0,1/(1-rho**2))\n",
    "        run_holder = []\n",
    "        run_holder.append(start)\n",
    "            \n",
    "        for i in range(1,size):\n",
    "            shock = rg.standard_normal()\n",
    "            last_val = run_holder[-1]\n",
    "            new_val = last_val * rho + shock\n",
    "            run_holder.append(new_val)\n",
    "            \n",
    "        true_100[(rho,run)]= run_holder"
   ]
  },
  {
   "cell_type": "code",
   "execution_count": 13,
   "metadata": {},
   "outputs": [],
   "source": [
    "# True simulated data ## Sample size 250\n",
    "rg = np.random.RandomState(1)\n",
    "\n",
    "r = [0.90, 0.91, 0.92, 0.93, 0.94, 0.95, 0.96, 0.97, 0.98, 0.99]\n",
    "runs = 1000\n",
    "true_250 = {}\n",
    "size = 250\n",
    "\n",
    "for rho in r:\n",
    "    for run in range(runs):\n",
    "        start = rg.normal(0,1/(1-rho**2))\n",
    "        run_holder = []\n",
    "        run_holder.append(start)\n",
    "            \n",
    "        for i in range(1,size):\n",
    "            shock = rg.standard_normal()\n",
    "            last_val = run_holder[-1]\n",
    "            new_val = last_val * rho + shock\n",
    "            run_holder.append(new_val)\n",
    "            \n",
    "        true_250[(rho,run)]= run_holder"
   ]
  },
  {
   "cell_type": "code",
   "execution_count": 14,
   "metadata": {},
   "outputs": [],
   "source": [
    "# True simulated data ## Sample size 500\n",
    "rg = np.random.RandomState(1)\n",
    "\n",
    "r = [0.90, 0.91, 0.92, 0.93, 0.94, 0.95, 0.96, 0.97, 0.98, 0.99]\n",
    "runs = 1000\n",
    "true_500 = {}\n",
    "size = 500\n",
    "\n",
    "for rho in r:\n",
    "    for run in range(runs):\n",
    "        start = rg.normal(0,1/(1-rho**2))\n",
    "        run_holder = []\n",
    "        run_holder.append(start)\n",
    "            \n",
    "        for i in range(1,size):\n",
    "            shock = rg.standard_normal()\n",
    "            last_val = run_holder[-1]\n",
    "            new_val = last_val * rho + shock\n",
    "            run_holder.append(new_val)\n",
    "\n",
    "        true_500[(rho,run)]= run_holder"
   ]
  },
  {
   "cell_type": "code",
   "execution_count": 15,
   "metadata": {},
   "outputs": [],
   "source": [
    "true_100 = pd.DataFrame(true_100)\n",
    "true_250 = pd.DataFrame(true_250)\n",
    "true_500 = pd.DataFrame(true_500)"
   ]
  },
  {
   "cell_type": "code",
   "execution_count": 16,
   "metadata": {},
   "outputs": [],
   "source": [
    "half_100 = len(true_100) // 2\n",
    "half_250 = len(true_250) // 2\n",
    "half_500 = len(true_500) // 2"
   ]
  },
  {
   "cell_type": "code",
   "execution_count": 101,
   "metadata": {},
   "outputs": [
    {
     "output_type": "execute_result",
     "data": {
      "text/plain": [
       "        0.90                                                               \\\n",
       "         0         1         2          3         4         5         6     \n",
       "0   8.549186 -2.353308 -2.109885  10.872544 -6.876495 -9.049445 -5.647180   \n",
       "1   7.082511 -0.893470 -1.074891   8.314132 -6.112465 -8.087379 -4.587304   \n",
       "2   5.846088 -0.400631 -1.529707   6.652547 -5.133987 -8.078189 -5.080635   \n",
       "3   4.188511  0.233011  0.578141   5.106715 -3.387689 -7.561964 -5.090717   \n",
       "4   4.635067 -0.885202 -0.811624   4.316946 -3.471777 -7.064751 -6.043049   \n",
       "..       ...       ...       ...        ...       ...       ...       ...   \n",
       "95  1.510915  3.082705 -0.630365  -0.662332 -0.392159  2.477270 -0.051633   \n",
       "96  1.015970  3.376754 -0.150026  -2.469259  0.175937  2.891224  0.972083   \n",
       "97  0.957970  3.459360  0.649747  -1.301718 -2.078744  3.588454  2.105433   \n",
       "98  0.242172  3.924376 -0.370653  -1.206914 -2.978582  2.763454  0.713786   \n",
       "99  0.915987  4.576381  0.252323   1.024382 -2.698442  3.872100  0.182478   \n",
       "\n",
       "                                  ...      0.99                       \\\n",
       "         7         8         9    ...       990        991       992   \n",
       "0  -4.162105  4.286016 -2.351048  ... -8.718065  44.119143  0.370573   \n",
       "1  -2.522172  4.637885 -1.911566  ... -7.531944  44.099067 -0.162195   \n",
       "2  -2.329323  2.710043 -1.108177  ... -7.451756  44.027991  0.781272   \n",
       "3  -0.647401  2.284547 -0.252475  ... -5.694096  44.975129  0.848352   \n",
       "4  -1.060242  1.963660 -0.263509  ... -5.936808  44.780946 -0.082734   \n",
       "..       ...       ...       ...  ...       ...        ...       ...   \n",
       "95 -1.808907 -1.924808  1.128204  ... -2.670368  17.461672 -2.340941   \n",
       "96 -0.519400 -2.693591 -1.261914  ... -1.633812  16.356744 -3.218436   \n",
       "97 -1.170380 -3.882556 -1.205347  ... -1.748961  16.877251 -4.439233   \n",
       "98 -0.327792 -2.999959 -0.730942  ... -1.353059  16.537881 -3.461106   \n",
       "99 -0.619217 -4.194157 -0.844803  ... -1.814390  15.012232 -3.846095   \n",
       "\n",
       "                                                                               \n",
       "          993        994        995        996        997       998       999  \n",
       "0   81.868451  20.994701 -77.155854  76.273059  56.092066  5.466208  3.419519  \n",
       "1   80.661808  21.118750 -76.319889  76.481682  55.592441  6.185294  3.088371  \n",
       "2   79.371793  20.788682 -75.433151  76.701924  54.674278  7.307659  4.931680  \n",
       "3   77.982080  21.195203 -74.694080  73.898139  53.043429  8.263241  4.938265  \n",
       "4   77.041767  19.808860 -74.906235  73.377980  54.187475  8.002883  3.259295  \n",
       "..        ...        ...        ...        ...        ...       ...       ...  \n",
       "95  39.596400  10.576894 -36.392958  41.653175  23.011830  2.926174  5.308757  \n",
       "96  38.324433  12.421234 -35.547406  43.014952  22.695630  2.898280  5.396018  \n",
       "97  39.297448  11.741027 -34.641486  42.023845  22.467684 -0.000109  4.745897  \n",
       "98  37.905362  10.166852 -33.994131  40.350470  21.717750 -1.075602  5.884478  \n",
       "99  38.545165  10.946685 -34.023774  41.845718  23.153918 -1.121268  6.139031  \n",
       "\n",
       "[100 rows x 10000 columns]"
      ],
      "text/html": "<div>\n<style scoped>\n    .dataframe tbody tr th:only-of-type {\n        vertical-align: middle;\n    }\n\n    .dataframe tbody tr th {\n        vertical-align: top;\n    }\n\n    .dataframe thead tr th {\n        text-align: left;\n    }\n</style>\n<table border=\"1\" class=\"dataframe\">\n  <thead>\n    <tr>\n      <th></th>\n      <th colspan=\"10\" halign=\"left\">0.90</th>\n      <th>...</th>\n      <th colspan=\"10\" halign=\"left\">0.99</th>\n    </tr>\n    <tr>\n      <th></th>\n      <th>0</th>\n      <th>1</th>\n      <th>2</th>\n      <th>3</th>\n      <th>4</th>\n      <th>5</th>\n      <th>6</th>\n      <th>7</th>\n      <th>8</th>\n      <th>9</th>\n      <th>...</th>\n      <th>990</th>\n      <th>991</th>\n      <th>992</th>\n      <th>993</th>\n      <th>994</th>\n      <th>995</th>\n      <th>996</th>\n      <th>997</th>\n      <th>998</th>\n      <th>999</th>\n    </tr>\n  </thead>\n  <tbody>\n    <tr>\n      <th>0</th>\n      <td>8.549186</td>\n      <td>-2.353308</td>\n      <td>-2.109885</td>\n      <td>10.872544</td>\n      <td>-6.876495</td>\n      <td>-9.049445</td>\n      <td>-5.647180</td>\n      <td>-4.162105</td>\n      <td>4.286016</td>\n      <td>-2.351048</td>\n      <td>...</td>\n      <td>-8.718065</td>\n      <td>44.119143</td>\n      <td>0.370573</td>\n      <td>81.868451</td>\n      <td>20.994701</td>\n      <td>-77.155854</td>\n      <td>76.273059</td>\n      <td>56.092066</td>\n      <td>5.466208</td>\n      <td>3.419519</td>\n    </tr>\n    <tr>\n      <th>1</th>\n      <td>7.082511</td>\n      <td>-0.893470</td>\n      <td>-1.074891</td>\n      <td>8.314132</td>\n      <td>-6.112465</td>\n      <td>-8.087379</td>\n      <td>-4.587304</td>\n      <td>-2.522172</td>\n      <td>4.637885</td>\n      <td>-1.911566</td>\n      <td>...</td>\n      <td>-7.531944</td>\n      <td>44.099067</td>\n      <td>-0.162195</td>\n      <td>80.661808</td>\n      <td>21.118750</td>\n      <td>-76.319889</td>\n      <td>76.481682</td>\n      <td>55.592441</td>\n      <td>6.185294</td>\n      <td>3.088371</td>\n    </tr>\n    <tr>\n      <th>2</th>\n      <td>5.846088</td>\n      <td>-0.400631</td>\n      <td>-1.529707</td>\n      <td>6.652547</td>\n      <td>-5.133987</td>\n      <td>-8.078189</td>\n      <td>-5.080635</td>\n      <td>-2.329323</td>\n      <td>2.710043</td>\n      <td>-1.108177</td>\n      <td>...</td>\n      <td>-7.451756</td>\n      <td>44.027991</td>\n      <td>0.781272</td>\n      <td>79.371793</td>\n      <td>20.788682</td>\n      <td>-75.433151</td>\n      <td>76.701924</td>\n      <td>54.674278</td>\n      <td>7.307659</td>\n      <td>4.931680</td>\n    </tr>\n    <tr>\n      <th>3</th>\n      <td>4.188511</td>\n      <td>0.233011</td>\n      <td>0.578141</td>\n      <td>5.106715</td>\n      <td>-3.387689</td>\n      <td>-7.561964</td>\n      <td>-5.090717</td>\n      <td>-0.647401</td>\n      <td>2.284547</td>\n      <td>-0.252475</td>\n      <td>...</td>\n      <td>-5.694096</td>\n      <td>44.975129</td>\n      <td>0.848352</td>\n      <td>77.982080</td>\n      <td>21.195203</td>\n      <td>-74.694080</td>\n      <td>73.898139</td>\n      <td>53.043429</td>\n      <td>8.263241</td>\n      <td>4.938265</td>\n    </tr>\n    <tr>\n      <th>4</th>\n      <td>4.635067</td>\n      <td>-0.885202</td>\n      <td>-0.811624</td>\n      <td>4.316946</td>\n      <td>-3.471777</td>\n      <td>-7.064751</td>\n      <td>-6.043049</td>\n      <td>-1.060242</td>\n      <td>1.963660</td>\n      <td>-0.263509</td>\n      <td>...</td>\n      <td>-5.936808</td>\n      <td>44.780946</td>\n      <td>-0.082734</td>\n      <td>77.041767</td>\n      <td>19.808860</td>\n      <td>-74.906235</td>\n      <td>73.377980</td>\n      <td>54.187475</td>\n      <td>8.002883</td>\n      <td>3.259295</td>\n    </tr>\n    <tr>\n      <th>...</th>\n      <td>...</td>\n      <td>...</td>\n      <td>...</td>\n      <td>...</td>\n      <td>...</td>\n      <td>...</td>\n      <td>...</td>\n      <td>...</td>\n      <td>...</td>\n      <td>...</td>\n      <td>...</td>\n      <td>...</td>\n      <td>...</td>\n      <td>...</td>\n      <td>...</td>\n      <td>...</td>\n      <td>...</td>\n      <td>...</td>\n      <td>...</td>\n      <td>...</td>\n      <td>...</td>\n    </tr>\n    <tr>\n      <th>95</th>\n      <td>1.510915</td>\n      <td>3.082705</td>\n      <td>-0.630365</td>\n      <td>-0.662332</td>\n      <td>-0.392159</td>\n      <td>2.477270</td>\n      <td>-0.051633</td>\n      <td>-1.808907</td>\n      <td>-1.924808</td>\n      <td>1.128204</td>\n      <td>...</td>\n      <td>-2.670368</td>\n      <td>17.461672</td>\n      <td>-2.340941</td>\n      <td>39.596400</td>\n      <td>10.576894</td>\n      <td>-36.392958</td>\n      <td>41.653175</td>\n      <td>23.011830</td>\n      <td>2.926174</td>\n      <td>5.308757</td>\n    </tr>\n    <tr>\n      <th>96</th>\n      <td>1.015970</td>\n      <td>3.376754</td>\n      <td>-0.150026</td>\n      <td>-2.469259</td>\n      <td>0.175937</td>\n      <td>2.891224</td>\n      <td>0.972083</td>\n      <td>-0.519400</td>\n      <td>-2.693591</td>\n      <td>-1.261914</td>\n      <td>...</td>\n      <td>-1.633812</td>\n      <td>16.356744</td>\n      <td>-3.218436</td>\n      <td>38.324433</td>\n      <td>12.421234</td>\n      <td>-35.547406</td>\n      <td>43.014952</td>\n      <td>22.695630</td>\n      <td>2.898280</td>\n      <td>5.396018</td>\n    </tr>\n    <tr>\n      <th>97</th>\n      <td>0.957970</td>\n      <td>3.459360</td>\n      <td>0.649747</td>\n      <td>-1.301718</td>\n      <td>-2.078744</td>\n      <td>3.588454</td>\n      <td>2.105433</td>\n      <td>-1.170380</td>\n      <td>-3.882556</td>\n      <td>-1.205347</td>\n      <td>...</td>\n      <td>-1.748961</td>\n      <td>16.877251</td>\n      <td>-4.439233</td>\n      <td>39.297448</td>\n      <td>11.741027</td>\n      <td>-34.641486</td>\n      <td>42.023845</td>\n      <td>22.467684</td>\n      <td>-0.000109</td>\n      <td>4.745897</td>\n    </tr>\n    <tr>\n      <th>98</th>\n      <td>0.242172</td>\n      <td>3.924376</td>\n      <td>-0.370653</td>\n      <td>-1.206914</td>\n      <td>-2.978582</td>\n      <td>2.763454</td>\n      <td>0.713786</td>\n      <td>-0.327792</td>\n      <td>-2.999959</td>\n      <td>-0.730942</td>\n      <td>...</td>\n      <td>-1.353059</td>\n      <td>16.537881</td>\n      <td>-3.461106</td>\n      <td>37.905362</td>\n      <td>10.166852</td>\n      <td>-33.994131</td>\n      <td>40.350470</td>\n      <td>21.717750</td>\n      <td>-1.075602</td>\n      <td>5.884478</td>\n    </tr>\n    <tr>\n      <th>99</th>\n      <td>0.915987</td>\n      <td>4.576381</td>\n      <td>0.252323</td>\n      <td>1.024382</td>\n      <td>-2.698442</td>\n      <td>3.872100</td>\n      <td>0.182478</td>\n      <td>-0.619217</td>\n      <td>-4.194157</td>\n      <td>-0.844803</td>\n      <td>...</td>\n      <td>-1.814390</td>\n      <td>15.012232</td>\n      <td>-3.846095</td>\n      <td>38.545165</td>\n      <td>10.946685</td>\n      <td>-34.023774</td>\n      <td>41.845718</td>\n      <td>23.153918</td>\n      <td>-1.121268</td>\n      <td>6.139031</td>\n    </tr>\n  </tbody>\n</table>\n<p>100 rows × 10000 columns</p>\n</div>"
     },
     "metadata": {},
     "execution_count": 101
    }
   ],
   "source": [
    "true_100"
   ]
  },
  {
   "cell_type": "code",
   "execution_count": 106,
   "metadata": {},
   "outputs": [
    {
     "output_type": "execute_result",
     "data": {
      "text/plain": [
       "0     3.280829\n",
       "1     2.378334\n",
       "2     0.149439\n",
       "3     0.730326\n",
       "4    -0.992909\n",
       "        ...   \n",
       "95    0.724692\n",
       "96    0.285271\n",
       "97    3.062597\n",
       "98    4.632537\n",
       "99    4.789535\n",
       "Name: (0.91, 1), Length: 100, dtype: float64"
      ]
     },
     "metadata": {},
     "execution_count": 106
    }
   ],
   "source": [
    "a = true_100[0.91,1]\n",
    "a"
   ]
  },
  {
   "cell_type": "code",
   "execution_count": 127,
   "metadata": {},
   "outputs": [
    {
     "output_type": "execute_result",
     "data": {
      "text/plain": [
       "49    2.283417\n",
       "50    2.355246\n",
       "51    1.767472\n",
       "52    0.448206\n",
       "53    0.054043\n",
       "54   -0.160256\n",
       "55    0.442393\n",
       "56    1.237137\n",
       "57    2.044526\n",
       "58    2.125660\n",
       "59    2.798235\n",
       "60    1.764014\n",
       "61    2.840481\n",
       "62    3.069362\n",
       "63    2.464333\n",
       "64    2.706418\n",
       "65    2.360205\n",
       "66    3.255814\n",
       "67    4.450049\n",
       "68    6.190620\n",
       "69    4.175061\n",
       "70    2.313441\n",
       "71    1.577631\n",
       "72    1.579905\n",
       "73    2.298084\n",
       "74    2.383910\n",
       "75    0.123318\n",
       "76   -0.195218\n",
       "77    0.652279\n",
       "78    0.817145\n",
       "79    1.497442\n",
       "80    1.125370\n",
       "81    0.812075\n",
       "82    0.917429\n",
       "83    1.235737\n",
       "84    1.310463\n",
       "85    1.298426\n",
       "86    0.497921\n",
       "87    0.825693\n",
       "88    0.864945\n",
       "89    1.907934\n",
       "90    2.916058\n",
       "91    2.809609\n",
       "92    2.153363\n",
       "93    1.299296\n",
       "94    1.592861\n",
       "95    1.510915\n",
       "96    1.015970\n",
       "97    0.957970\n",
       "98    0.242172\n",
       "99    0.915987\n",
       "Name: 0, dtype: float64"
      ]
     },
     "metadata": {},
     "execution_count": 127
    }
   ],
   "source": [
    "(true_100[0.90][0][half_100-1:])"
   ]
  },
  {
   "cell_type": "code",
   "execution_count": 130,
   "metadata": {
    "tags": []
   },
   "outputs": [
    {
     "output_type": "stream",
     "name": "stdout",
     "text": [
      "0.9\n",
      "0.91\n",
      "0.92\n",
      "0.93\n",
      "0.94\n",
      "0.95\n",
      "0.96\n",
      "0.97\n",
      "0.98\n",
      "0.99\n"
     ]
    }
   ],
   "source": [
    "cv = norm.ppf(0.95)\n",
    "theta_100 = []\n",
    "dm_100 = []\n",
    "\n",
    "for rho in r:\n",
    "    print(rho)\n",
    "    for col in true_100[rho]:\n",
    "        x = sm.add_constant((true_100[rho][col][:half_100]).shift(1).dropna())\n",
    "        y  = (true_100[rho][col]).iloc[1:half_100]\n",
    "        res = sm.OLS(y,x).fit()\n",
    "        rho = float(rho)\n",
    "        col = pd.Series(col)\n",
    "        const, theta = res.params\n",
    "        theta_100.append(theta)\n",
    "\n",
    "        # Random Walk Forecasting\n",
    "\n",
    "        start = 0\n",
    "        run_holder = []\n",
    "        run_holder.append(start)\n",
    "\n",
    "        for i in range(50):\n",
    "            shock = rg.standard_normal()\n",
    "            last_val = run_holder[-1]\n",
    "            new_val = last_val  + shock\n",
    "            run_holder.append(new_val)\n",
    "\n",
    "        run_holder = pd.Series(run_holder)\n",
    "\n",
    "        # Model Evaluation\n",
    "        c = 0\n",
    "        realisations_100 = (true_100[rho][c][half_100-1:]).shift(1).dropna()\n",
    "        c +=1\n",
    "\n",
    "        forecasts = realisations_100.shift(1) * theta\n",
    "        loss_run = run_holder.subtract(realisations_100,axis=0) **2\n",
    "        loss_forecasts = forecasts.subtract(realisations_100,axis=0) **2\n",
    "\n",
    "        nw = (50) ** (1/3)\n",
    "        dm_result = diebold_mariano(loss_run,loss_forecasts,nw,cv)\n",
    "        dm_100.append(dm_result)\n",
    "\n",
    "        \n",
    "\n",
    "\n",
    "\n",
    "\n",
    "\n"
   ]
  },
  {
   "cell_type": "code",
   "execution_count": 163,
   "metadata": {
    "tags": []
   },
   "outputs": [],
   "source": [
    "cv = norm.ppf(0.95)\n",
    "theta_100 = []\n",
    "dm_100 = []    \n",
    "for col in true_100[rho]:\n",
    "    x = sm.add_constant((true_100[0.99][col][:half_100]).shift(1).dropna())\n",
    "    y  = (true_100[0.99][col]).iloc[1:half_100]\n",
    "    res = sm.OLS(y,x).fit()\n",
    "    rho = float(0.99)\n",
    "    col = pd.Series(col)\n",
    "    const, theta = res.params\n",
    "    theta_100.append(theta)\n",
    "\n",
    "        # Random Walk Forecasting\n",
    "\n",
    "    start = 0\n",
    "    run_holder = []\n",
    "    run_holder.append(start)\n",
    "\n",
    "    for i in range(52,100):\n",
    "        shock = rg.standard_normal()\n",
    "        last_val = run_holder[-1]\n",
    "        new_val = last_val  + shock\n",
    "        run_holder.append(new_val)\n",
    "\n",
    "    run_holder = pd.Series(run_holder)\n",
    "    run_holder.index = range(51,100)\n",
    "\n",
    "        # Model Evaluation\n",
    "    c = 0\n",
    "    realisations_100 = true_100[rho][c][half_100:]\n",
    "    c +=1\n",
    "\n",
    "    forecasts = (realisations_100.shift(1) * theta).dropna()\n",
    "\n",
    "\n",
    "    loss_run = (run_holder.subtract(realisations_100,axis=0) **2).dropna()\n",
    "    loss_forecasts = (forecasts.subtract(realisations_100,axis=0) **2).droppna()\n",
    "\n",
    "\n",
    "    nw = (50) ** (1/3)\n",
    "    dm_result = diebold_mariano(loss_run,loss_forecasts,nw,cv)\n",
    "    dm_100.append(dm_result)"
   ]
  },
  {
   "cell_type": "code",
   "execution_count": 181,
   "metadata": {},
   "outputs": [
    {
     "output_type": "execute_result",
     "data": {
      "text/plain": [
       "51    22.559202\n",
       "52    21.743807\n",
       "53    21.076877\n",
       "54    21.863092\n",
       "55    21.823772\n",
       "56    21.870614\n",
       "57    21.818728\n",
       "58    20.717895\n",
       "59    19.378201\n",
       "60    19.148634\n",
       "61    19.368745\n",
       "62    18.747079\n",
       "63    18.797548\n",
       "64    19.881834\n",
       "65    19.419847\n",
       "66    17.394915\n",
       "67    15.915323\n",
       "68    15.595186\n",
       "69    15.732855\n",
       "70    15.275363\n",
       "71    15.972294\n",
       "72    16.677916\n",
       "73    17.036612\n",
       "74    16.476741\n",
       "75    17.111793\n",
       "76    15.820614\n",
       "77    14.926162\n",
       "78    14.679925\n",
       "79    13.912092\n",
       "80    12.917707\n",
       "81    13.910334\n",
       "82    13.999185\n",
       "83    12.390317\n",
       "84    13.252102\n",
       "85    12.732804\n",
       "86    12.212033\n",
       "87    10.961400\n",
       "88    10.980258\n",
       "89     9.745012\n",
       "90     9.580107\n",
       "91    11.566534\n",
       "92    10.746914\n",
       "93    11.189436\n",
       "94    12.175190\n",
       "95    12.825669\n",
       "96    13.465609\n",
       "97    13.969194\n",
       "98    14.263615\n",
       "99    11.893080\n",
       "Name: 0, dtype: float64"
      ]
     },
     "metadata": {},
     "execution_count": 181
    }
   ],
   "source": [
    "\n",
    "forecasts"
   ]
  },
  {
   "cell_type": "code",
   "execution_count": 182,
   "metadata": {},
   "outputs": [
    {
     "output_type": "execute_result",
     "data": {
      "text/plain": [
       "50    23.793272\n",
       "51    22.933272\n",
       "52    22.229858\n",
       "53    23.059082\n",
       "54    23.017611\n",
       "55    23.067015\n",
       "56    23.012291\n",
       "57    21.851238\n",
       "58    20.438259\n",
       "59    20.196133\n",
       "60    20.428285\n",
       "61    19.772612\n",
       "62    19.825842\n",
       "63    20.969442\n",
       "64    20.482183\n",
       "65    18.346480\n",
       "66    16.785949\n",
       "67    16.448299\n",
       "68    16.593499\n",
       "69    16.110981\n",
       "70    16.846036\n",
       "71    17.590258\n",
       "72    17.968576\n",
       "73    17.378079\n",
       "74    18.047870\n",
       "75    16.686059\n",
       "76    15.742677\n",
       "77    15.482969\n",
       "78    14.673133\n",
       "79    13.624352\n",
       "80    14.671279\n",
       "81    14.764991\n",
       "82    13.068112\n",
       "83    13.977039\n",
       "84    13.429335\n",
       "85    12.880075\n",
       "86    11.561028\n",
       "87    11.580918\n",
       "88    10.278099\n",
       "89    10.104173\n",
       "90    12.199265\n",
       "91    11.334809\n",
       "92    11.801539\n",
       "93    12.841216\n",
       "94    13.527280\n",
       "95    14.202227\n",
       "96    14.733359\n",
       "97    15.043887\n",
       "98    12.543675\n",
       "99    11.664012\n",
       "Name: 0, dtype: float64"
      ]
     },
     "metadata": {},
     "execution_count": 182
    }
   ],
   "source": [
    "realisations_100"
   ]
  },
  {
   "cell_type": "code",
   "execution_count": 183,
   "metadata": {},
   "outputs": [
    {
     "output_type": "execute_result",
     "data": {
      "text/plain": [
       "51    0.000000\n",
       "52    0.620862\n",
       "53    1.396153\n",
       "54    2.252876\n",
       "55    2.022440\n",
       "56    3.975531\n",
       "57    3.501477\n",
       "58    4.461708\n",
       "59    3.354015\n",
       "60    2.753228\n",
       "61    4.301189\n",
       "62    4.416620\n",
       "63    5.588994\n",
       "64    7.006086\n",
       "65    7.226305\n",
       "66    8.864466\n",
       "67    9.651291\n",
       "68    9.110851\n",
       "69    8.584970\n",
       "70    7.819827\n",
       "71    8.029870\n",
       "72    7.511830\n",
       "73    7.515994\n",
       "74    7.786203\n",
       "75    6.540754\n",
       "76    6.649188\n",
       "77    6.076536\n",
       "78    6.205728\n",
       "79    9.305466\n",
       "80    6.587650\n",
       "81    8.242103\n",
       "82    7.708601\n",
       "83    8.191410\n",
       "84    7.827689\n",
       "85    7.891806\n",
       "86    8.014437\n",
       "87    8.551176\n",
       "88    6.947639\n",
       "89    6.692588\n",
       "90    7.398659\n",
       "91    5.953982\n",
       "92    3.943467\n",
       "93    3.084770\n",
       "94    4.086401\n",
       "95    2.224018\n",
       "96    3.038323\n",
       "97    4.505428\n",
       "98    4.272494\n",
       "99    3.510285\n",
       "dtype: float64"
      ]
     },
     "metadata": {},
     "execution_count": 183
    }
   ],
   "source": [
    "run_holder"
   ]
  }
 ]
}